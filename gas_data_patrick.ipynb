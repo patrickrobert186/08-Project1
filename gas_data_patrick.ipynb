{
 "cells": [
  {
   "cell_type": "code",
   "execution_count": 4,
   "metadata": {},
   "outputs": [
    {
     "name": "stdout",
     "output_type": "stream",
     "text": [
      "Requirement already satisfied: xlrd in c:\\users\\matth\\onedrive\\documents\\an\\envs\\pyvizenv\\lib\\site-packages (1.2.0)Note: you may need to restart the kernel to use updated packages.\n",
      "\n"
     ]
    }
   ],
   "source": [
    "pip install xlrd"
   ]
  },
  {
   "cell_type": "code",
   "execution_count": 4,
   "metadata": {},
   "outputs": [],
   "source": [
    "# Initial imports\n",
    "import pandas as pd\n",
    "import numpy as np\n",
    "import datetime as dt\n",
    "import seaborn as sns\n",
    "from pathlib import Path\n",
    "\n",
    "\n",
    "%matplotlib inline"
   ]
  },
  {
   "cell_type": "code",
   "execution_count": 5,
   "metadata": {},
   "outputs": [],
   "source": [
    "gas_path = Path('gas_clean.csv')\n",
    "\n",
    "gas_prices = pd.read_csv(gas_path)#, index_col = 'Date', parse_dates = True, infer_datetime_format=True, delimiter = ',')"
   ]
  },
  {
   "cell_type": "code",
   "execution_count": 6,
   "metadata": {},
   "outputs": [],
   "source": [
    "gas_prices.columns = ['Date', 'US', 'Alabama', 'Alaska', 'Arizona', 'Arkansas', 'California',\n",
    "       'Colorado', 'Connecticut', 'Delaware', 'DC', 'Florida', 'Georgia',\n",
    "       'Hawaii', 'Idaho', 'Illinois', 'Indiana', 'Iowa', 'Kansas', 'Kentucky',\n",
    "       'Louisiana', 'Maine', 'Maryland', 'Massachusetts', 'Michigan',\n",
    "       'Minnesota', 'Mississippi', 'Missouri', 'Montana', 'Nebraska', 'Nevada',\n",
    "       'New_Hampshire', 'New_Jersey', 'New_Mexico', 'New_York',\n",
    "       'North_Carolina', 'North_Dakota', 'Ohio', 'Oklahoma', 'Oregon',\n",
    "       'Pennsylvania', 'Rhode_Island', 'South_Carolina', 'South_Dakota',\n",
    "       'Tennessee', 'Texas', 'Utah', 'Vermont', 'Virginia', 'Washington',\n",
    "       'West_Virginia', 'Wisconsin', 'Wyoming']  "
   ]
  },
  {
   "cell_type": "code",
   "execution_count": 7,
   "metadata": {},
   "outputs": [],
   "source": [
    "gas_prices = gas_prices.dropna()"
   ]
  },
  {
   "cell_type": "code",
   "execution_count": 8,
   "metadata": {},
   "outputs": [
    {
     "data": {
      "text/html": [
       "<div>\n",
       "<style scoped>\n",
       "    .dataframe tbody tr th:only-of-type {\n",
       "        vertical-align: middle;\n",
       "    }\n",
       "\n",
       "    .dataframe tbody tr th {\n",
       "        vertical-align: top;\n",
       "    }\n",
       "\n",
       "    .dataframe thead th {\n",
       "        text-align: right;\n",
       "    }\n",
       "</style>\n",
       "<table border=\"1\" class=\"dataframe\">\n",
       "  <thead>\n",
       "    <tr style=\"text-align: right;\">\n",
       "      <th></th>\n",
       "      <th>Date</th>\n",
       "      <th>US</th>\n",
       "      <th>Alabama</th>\n",
       "      <th>Alaska</th>\n",
       "      <th>Arizona</th>\n",
       "      <th>Arkansas</th>\n",
       "      <th>California</th>\n",
       "      <th>Colorado</th>\n",
       "      <th>Connecticut</th>\n",
       "      <th>Delaware</th>\n",
       "      <th>...</th>\n",
       "      <th>South_Dakota</th>\n",
       "      <th>Tennessee</th>\n",
       "      <th>Texas</th>\n",
       "      <th>Utah</th>\n",
       "      <th>Vermont</th>\n",
       "      <th>Virginia</th>\n",
       "      <th>Washington</th>\n",
       "      <th>West_Virginia</th>\n",
       "      <th>Wisconsin</th>\n",
       "      <th>Wyoming</th>\n",
       "    </tr>\n",
       "  </thead>\n",
       "  <tbody>\n",
       "    <tr>\n",
       "      <th>192</th>\n",
       "      <td>Jan-89</td>\n",
       "      <td>4.81</td>\n",
       "      <td>5.13</td>\n",
       "      <td>2.65</td>\n",
       "      <td>4.59</td>\n",
       "      <td>4.16</td>\n",
       "      <td>5.28</td>\n",
       "      <td>3.95</td>\n",
       "      <td>6.31</td>\n",
       "      <td>5.33</td>\n",
       "      <td>...</td>\n",
       "      <td>4.19</td>\n",
       "      <td>4.46</td>\n",
       "      <td>4.25</td>\n",
       "      <td>4.03</td>\n",
       "      <td>4.34</td>\n",
       "      <td>5.17</td>\n",
       "      <td>4.67</td>\n",
       "      <td>4.83</td>\n",
       "      <td>4.59</td>\n",
       "      <td>4.31</td>\n",
       "    </tr>\n",
       "    <tr>\n",
       "      <th>193</th>\n",
       "      <td>Feb-89</td>\n",
       "      <td>4.80</td>\n",
       "      <td>5.08</td>\n",
       "      <td>2.74</td>\n",
       "      <td>4.81</td>\n",
       "      <td>4.13</td>\n",
       "      <td>5.25</td>\n",
       "      <td>3.95</td>\n",
       "      <td>6.29</td>\n",
       "      <td>5.27</td>\n",
       "      <td>...</td>\n",
       "      <td>3.94</td>\n",
       "      <td>4.51</td>\n",
       "      <td>4.30</td>\n",
       "      <td>4.03</td>\n",
       "      <td>4.88</td>\n",
       "      <td>5.23</td>\n",
       "      <td>4.74</td>\n",
       "      <td>4.82</td>\n",
       "      <td>4.64</td>\n",
       "      <td>4.31</td>\n",
       "    </tr>\n",
       "    <tr>\n",
       "      <th>194</th>\n",
       "      <td>Mar-89</td>\n",
       "      <td>4.79</td>\n",
       "      <td>4.93</td>\n",
       "      <td>2.68</td>\n",
       "      <td>4.75</td>\n",
       "      <td>4.22</td>\n",
       "      <td>5.27</td>\n",
       "      <td>3.96</td>\n",
       "      <td>6.04</td>\n",
       "      <td>5.33</td>\n",
       "      <td>...</td>\n",
       "      <td>3.87</td>\n",
       "      <td>4.35</td>\n",
       "      <td>4.12</td>\n",
       "      <td>4.13</td>\n",
       "      <td>4.70</td>\n",
       "      <td>5.04</td>\n",
       "      <td>4.51</td>\n",
       "      <td>4.88</td>\n",
       "      <td>4.50</td>\n",
       "      <td>4.30</td>\n",
       "    </tr>\n",
       "    <tr>\n",
       "      <th>195</th>\n",
       "      <td>Apr-89</td>\n",
       "      <td>4.77</td>\n",
       "      <td>5.00</td>\n",
       "      <td>2.69</td>\n",
       "      <td>4.82</td>\n",
       "      <td>4.59</td>\n",
       "      <td>5.16</td>\n",
       "      <td>4.02</td>\n",
       "      <td>6.15</td>\n",
       "      <td>5.43</td>\n",
       "      <td>...</td>\n",
       "      <td>3.89</td>\n",
       "      <td>4.41</td>\n",
       "      <td>3.93</td>\n",
       "      <td>4.30</td>\n",
       "      <td>4.73</td>\n",
       "      <td>4.81</td>\n",
       "      <td>4.70</td>\n",
       "      <td>5.04</td>\n",
       "      <td>4.46</td>\n",
       "      <td>4.31</td>\n",
       "    </tr>\n",
       "    <tr>\n",
       "      <th>196</th>\n",
       "      <td>May-89</td>\n",
       "      <td>4.64</td>\n",
       "      <td>5.11</td>\n",
       "      <td>2.61</td>\n",
       "      <td>4.99</td>\n",
       "      <td>4.71</td>\n",
       "      <td>4.28</td>\n",
       "      <td>4.09</td>\n",
       "      <td>5.54</td>\n",
       "      <td>5.50</td>\n",
       "      <td>...</td>\n",
       "      <td>3.96</td>\n",
       "      <td>4.20</td>\n",
       "      <td>3.96</td>\n",
       "      <td>4.17</td>\n",
       "      <td>4.99</td>\n",
       "      <td>4.92</td>\n",
       "      <td>4.83</td>\n",
       "      <td>5.32</td>\n",
       "      <td>4.23</td>\n",
       "      <td>4.35</td>\n",
       "    </tr>\n",
       "    <tr>\n",
       "      <th>197</th>\n",
       "      <td>Jun-89</td>\n",
       "      <td>4.57</td>\n",
       "      <td>5.27</td>\n",
       "      <td>2.63</td>\n",
       "      <td>4.77</td>\n",
       "      <td>4.45</td>\n",
       "      <td>4.07</td>\n",
       "      <td>4.19</td>\n",
       "      <td>5.61</td>\n",
       "      <td>5.61</td>\n",
       "      <td>...</td>\n",
       "      <td>4.05</td>\n",
       "      <td>4.47</td>\n",
       "      <td>3.97</td>\n",
       "      <td>4.00</td>\n",
       "      <td>5.13</td>\n",
       "      <td>4.34</td>\n",
       "      <td>4.91</td>\n",
       "      <td>6.11</td>\n",
       "      <td>4.40</td>\n",
       "      <td>4.31</td>\n",
       "    </tr>\n",
       "    <tr>\n",
       "      <th>198</th>\n",
       "      <td>Jul-89</td>\n",
       "      <td>4.65</td>\n",
       "      <td>5.39</td>\n",
       "      <td>2.59</td>\n",
       "      <td>4.77</td>\n",
       "      <td>4.98</td>\n",
       "      <td>4.63</td>\n",
       "      <td>4.32</td>\n",
       "      <td>5.26</td>\n",
       "      <td>5.65</td>\n",
       "      <td>...</td>\n",
       "      <td>4.10</td>\n",
       "      <td>4.51</td>\n",
       "      <td>3.74</td>\n",
       "      <td>4.13</td>\n",
       "      <td>5.01</td>\n",
       "      <td>4.52</td>\n",
       "      <td>4.77</td>\n",
       "      <td>6.41</td>\n",
       "      <td>4.54</td>\n",
       "      <td>4.40</td>\n",
       "    </tr>\n",
       "    <tr>\n",
       "      <th>199</th>\n",
       "      <td>Aug-89</td>\n",
       "      <td>4.61</td>\n",
       "      <td>5.33</td>\n",
       "      <td>2.27</td>\n",
       "      <td>5.03</td>\n",
       "      <td>4.99</td>\n",
       "      <td>4.57</td>\n",
       "      <td>4.36</td>\n",
       "      <td>4.98</td>\n",
       "      <td>5.46</td>\n",
       "      <td>...</td>\n",
       "      <td>4.15</td>\n",
       "      <td>4.54</td>\n",
       "      <td>3.80</td>\n",
       "      <td>4.23</td>\n",
       "      <td>4.92</td>\n",
       "      <td>4.59</td>\n",
       "      <td>4.66</td>\n",
       "      <td>6.22</td>\n",
       "      <td>4.74</td>\n",
       "      <td>4.45</td>\n",
       "    </tr>\n",
       "    <tr>\n",
       "      <th>200</th>\n",
       "      <td>Sep-89</td>\n",
       "      <td>4.67</td>\n",
       "      <td>5.36</td>\n",
       "      <td>2.30</td>\n",
       "      <td>4.74</td>\n",
       "      <td>4.92</td>\n",
       "      <td>4.39</td>\n",
       "      <td>4.31</td>\n",
       "      <td>5.34</td>\n",
       "      <td>5.48</td>\n",
       "      <td>...</td>\n",
       "      <td>3.99</td>\n",
       "      <td>4.50</td>\n",
       "      <td>4.15</td>\n",
       "      <td>4.30</td>\n",
       "      <td>4.71</td>\n",
       "      <td>4.18</td>\n",
       "      <td>5.67</td>\n",
       "      <td>6.21</td>\n",
       "      <td>4.54</td>\n",
       "      <td>4.45</td>\n",
       "    </tr>\n",
       "    <tr>\n",
       "      <th>201</th>\n",
       "      <td>Oct-89</td>\n",
       "      <td>4.61</td>\n",
       "      <td>5.25</td>\n",
       "      <td>2.38</td>\n",
       "      <td>4.85</td>\n",
       "      <td>4.78</td>\n",
       "      <td>4.35</td>\n",
       "      <td>4.19</td>\n",
       "      <td>5.88</td>\n",
       "      <td>5.56</td>\n",
       "      <td>...</td>\n",
       "      <td>3.80</td>\n",
       "      <td>4.50</td>\n",
       "      <td>4.09</td>\n",
       "      <td>4.54</td>\n",
       "      <td>4.49</td>\n",
       "      <td>4.67</td>\n",
       "      <td>4.45</td>\n",
       "      <td>5.46</td>\n",
       "      <td>4.16</td>\n",
       "      <td>4.36</td>\n",
       "    </tr>\n",
       "  </tbody>\n",
       "</table>\n",
       "<p>10 rows × 53 columns</p>\n",
       "</div>"
      ],
      "text/plain": [
       "       Date    US  Alabama  Alaska  Arizona  Arkansas  California  Colorado  \\\n",
       "192  Jan-89  4.81     5.13    2.65     4.59      4.16        5.28      3.95   \n",
       "193  Feb-89  4.80     5.08    2.74     4.81      4.13        5.25      3.95   \n",
       "194  Mar-89  4.79     4.93    2.68     4.75      4.22        5.27      3.96   \n",
       "195  Apr-89  4.77     5.00    2.69     4.82      4.59        5.16      4.02   \n",
       "196  May-89  4.64     5.11    2.61     4.99      4.71        4.28      4.09   \n",
       "197  Jun-89  4.57     5.27    2.63     4.77      4.45        4.07      4.19   \n",
       "198  Jul-89  4.65     5.39    2.59     4.77      4.98        4.63      4.32   \n",
       "199  Aug-89  4.61     5.33    2.27     5.03      4.99        4.57      4.36   \n",
       "200  Sep-89  4.67     5.36    2.30     4.74      4.92        4.39      4.31   \n",
       "201  Oct-89  4.61     5.25    2.38     4.85      4.78        4.35      4.19   \n",
       "\n",
       "     Connecticut  Delaware  ...  South_Dakota  Tennessee  Texas  Utah  \\\n",
       "192         6.31      5.33  ...          4.19       4.46   4.25  4.03   \n",
       "193         6.29      5.27  ...          3.94       4.51   4.30  4.03   \n",
       "194         6.04      5.33  ...          3.87       4.35   4.12  4.13   \n",
       "195         6.15      5.43  ...          3.89       4.41   3.93  4.30   \n",
       "196         5.54      5.50  ...          3.96       4.20   3.96  4.17   \n",
       "197         5.61      5.61  ...          4.05       4.47   3.97  4.00   \n",
       "198         5.26      5.65  ...          4.10       4.51   3.74  4.13   \n",
       "199         4.98      5.46  ...          4.15       4.54   3.80  4.23   \n",
       "200         5.34      5.48  ...          3.99       4.50   4.15  4.30   \n",
       "201         5.88      5.56  ...          3.80       4.50   4.09  4.54   \n",
       "\n",
       "     Vermont  Virginia  Washington  West_Virginia  Wisconsin  Wyoming  \n",
       "192     4.34      5.17        4.67           4.83       4.59     4.31  \n",
       "193     4.88      5.23        4.74           4.82       4.64     4.31  \n",
       "194     4.70      5.04        4.51           4.88       4.50     4.30  \n",
       "195     4.73      4.81        4.70           5.04       4.46     4.31  \n",
       "196     4.99      4.92        4.83           5.32       4.23     4.35  \n",
       "197     5.13      4.34        4.91           6.11       4.40     4.31  \n",
       "198     5.01      4.52        4.77           6.41       4.54     4.40  \n",
       "199     4.92      4.59        4.66           6.22       4.74     4.45  \n",
       "200     4.71      4.18        5.67           6.21       4.54     4.45  \n",
       "201     4.49      4.67        4.45           5.46       4.16     4.36  \n",
       "\n",
       "[10 rows x 53 columns]"
      ]
     },
     "execution_count": 8,
     "metadata": {},
     "output_type": "execute_result"
    }
   ],
   "source": [
    "gas_prices.head(10)"
   ]
  },
  {
   "cell_type": "code",
   "execution_count": 9,
   "metadata": {},
   "outputs": [],
   "source": [
    "def convert_to_date(input_str): \n",
    "    input_ary=input_str.split('-')\n",
    "    return (input_ary[1], input_ary[0], 1)"
   ]
  },
  {
   "cell_type": "code",
   "execution_count": 10,
   "metadata": {},
   "outputs": [
    {
     "data": {
      "text/plain": [
       "('89', 'Oct', 1)"
      ]
     },
     "execution_count": 10,
     "metadata": {},
     "output_type": "execute_result"
    }
   ],
   "source": [
    "convert_to_date('Oct-89')"
   ]
  },
  {
   "cell_type": "code",
   "execution_count": 11,
   "metadata": {},
   "outputs": [],
   "source": [
    "#gas_prices['Date'].map(convert_to_date)\n",
    "#assumes it's actually\n",
    "#gas_prices['Date'].map(lambda x: convert_to_date(x))\n",
    "\n",
    "#gas_prices['Date'].map(lambda x: x.split('-')).map(lambda x: (x[1], x[0], 1))\n"
   ]
  },
  {
   "cell_type": "code",
   "execution_count": 11,
   "metadata": {},
   "outputs": [
    {
     "data": {
      "text/html": [
       "<div>\n",
       "<style scoped>\n",
       "    .dataframe tbody tr th:only-of-type {\n",
       "        vertical-align: middle;\n",
       "    }\n",
       "\n",
       "    .dataframe tbody tr th {\n",
       "        vertical-align: top;\n",
       "    }\n",
       "\n",
       "    .dataframe thead th {\n",
       "        text-align: right;\n",
       "    }\n",
       "</style>\n",
       "<table border=\"1\" class=\"dataframe\">\n",
       "  <thead>\n",
       "    <tr style=\"text-align: right;\">\n",
       "      <th></th>\n",
       "      <th>US</th>\n",
       "      <th>Alabama</th>\n",
       "      <th>Alaska</th>\n",
       "      <th>Arizona</th>\n",
       "      <th>Arkansas</th>\n",
       "      <th>California</th>\n",
       "      <th>Colorado</th>\n",
       "      <th>Connecticut</th>\n",
       "      <th>Delaware</th>\n",
       "      <th>DC</th>\n",
       "      <th>...</th>\n",
       "      <th>South_Dakota</th>\n",
       "      <th>Tennessee</th>\n",
       "      <th>Texas</th>\n",
       "      <th>Utah</th>\n",
       "      <th>Vermont</th>\n",
       "      <th>Virginia</th>\n",
       "      <th>Washington</th>\n",
       "      <th>West_Virginia</th>\n",
       "      <th>Wisconsin</th>\n",
       "      <th>Wyoming</th>\n",
       "    </tr>\n",
       "    <tr>\n",
       "      <th>Date</th>\n",
       "      <th></th>\n",
       "      <th></th>\n",
       "      <th></th>\n",
       "      <th></th>\n",
       "      <th></th>\n",
       "      <th></th>\n",
       "      <th></th>\n",
       "      <th></th>\n",
       "      <th></th>\n",
       "      <th></th>\n",
       "      <th></th>\n",
       "      <th></th>\n",
       "      <th></th>\n",
       "      <th></th>\n",
       "      <th></th>\n",
       "      <th></th>\n",
       "      <th></th>\n",
       "      <th></th>\n",
       "      <th></th>\n",
       "      <th></th>\n",
       "      <th></th>\n",
       "    </tr>\n",
       "  </thead>\n",
       "  <tbody>\n",
       "    <tr>\n",
       "      <th>1989-01-01</th>\n",
       "      <td>4.81</td>\n",
       "      <td>5.13</td>\n",
       "      <td>2.65</td>\n",
       "      <td>4.59</td>\n",
       "      <td>4.16</td>\n",
       "      <td>5.28</td>\n",
       "      <td>3.95</td>\n",
       "      <td>6.31</td>\n",
       "      <td>5.33</td>\n",
       "      <td>5.55</td>\n",
       "      <td>...</td>\n",
       "      <td>4.19</td>\n",
       "      <td>4.46</td>\n",
       "      <td>4.25</td>\n",
       "      <td>4.03</td>\n",
       "      <td>4.34</td>\n",
       "      <td>5.17</td>\n",
       "      <td>4.67</td>\n",
       "      <td>4.83</td>\n",
       "      <td>4.59</td>\n",
       "      <td>4.31</td>\n",
       "    </tr>\n",
       "    <tr>\n",
       "      <th>1989-02-01</th>\n",
       "      <td>4.80</td>\n",
       "      <td>5.08</td>\n",
       "      <td>2.74</td>\n",
       "      <td>4.81</td>\n",
       "      <td>4.13</td>\n",
       "      <td>5.25</td>\n",
       "      <td>3.95</td>\n",
       "      <td>6.29</td>\n",
       "      <td>5.27</td>\n",
       "      <td>5.47</td>\n",
       "      <td>...</td>\n",
       "      <td>3.94</td>\n",
       "      <td>4.51</td>\n",
       "      <td>4.30</td>\n",
       "      <td>4.03</td>\n",
       "      <td>4.88</td>\n",
       "      <td>5.23</td>\n",
       "      <td>4.74</td>\n",
       "      <td>4.82</td>\n",
       "      <td>4.64</td>\n",
       "      <td>4.31</td>\n",
       "    </tr>\n",
       "    <tr>\n",
       "      <th>1989-03-01</th>\n",
       "      <td>4.79</td>\n",
       "      <td>4.93</td>\n",
       "      <td>2.68</td>\n",
       "      <td>4.75</td>\n",
       "      <td>4.22</td>\n",
       "      <td>5.27</td>\n",
       "      <td>3.96</td>\n",
       "      <td>6.04</td>\n",
       "      <td>5.33</td>\n",
       "      <td>5.74</td>\n",
       "      <td>...</td>\n",
       "      <td>3.87</td>\n",
       "      <td>4.35</td>\n",
       "      <td>4.12</td>\n",
       "      <td>4.13</td>\n",
       "      <td>4.70</td>\n",
       "      <td>5.04</td>\n",
       "      <td>4.51</td>\n",
       "      <td>4.88</td>\n",
       "      <td>4.50</td>\n",
       "      <td>4.30</td>\n",
       "    </tr>\n",
       "    <tr>\n",
       "      <th>1989-04-01</th>\n",
       "      <td>4.77</td>\n",
       "      <td>5.00</td>\n",
       "      <td>2.69</td>\n",
       "      <td>4.82</td>\n",
       "      <td>4.59</td>\n",
       "      <td>5.16</td>\n",
       "      <td>4.02</td>\n",
       "      <td>6.15</td>\n",
       "      <td>5.43</td>\n",
       "      <td>5.11</td>\n",
       "      <td>...</td>\n",
       "      <td>3.89</td>\n",
       "      <td>4.41</td>\n",
       "      <td>3.93</td>\n",
       "      <td>4.30</td>\n",
       "      <td>4.73</td>\n",
       "      <td>4.81</td>\n",
       "      <td>4.70</td>\n",
       "      <td>5.04</td>\n",
       "      <td>4.46</td>\n",
       "      <td>4.31</td>\n",
       "    </tr>\n",
       "    <tr>\n",
       "      <th>1989-05-01</th>\n",
       "      <td>4.64</td>\n",
       "      <td>5.11</td>\n",
       "      <td>2.61</td>\n",
       "      <td>4.99</td>\n",
       "      <td>4.71</td>\n",
       "      <td>4.28</td>\n",
       "      <td>4.09</td>\n",
       "      <td>5.54</td>\n",
       "      <td>5.50</td>\n",
       "      <td>4.95</td>\n",
       "      <td>...</td>\n",
       "      <td>3.96</td>\n",
       "      <td>4.20</td>\n",
       "      <td>3.96</td>\n",
       "      <td>4.17</td>\n",
       "      <td>4.99</td>\n",
       "      <td>4.92</td>\n",
       "      <td>4.83</td>\n",
       "      <td>5.32</td>\n",
       "      <td>4.23</td>\n",
       "      <td>4.35</td>\n",
       "    </tr>\n",
       "  </tbody>\n",
       "</table>\n",
       "<p>5 rows × 52 columns</p>\n",
       "</div>"
      ],
      "text/plain": [
       "              US  Alabama  Alaska  Arizona  Arkansas  California  Colorado  \\\n",
       "Date                                                                         \n",
       "1989-01-01  4.81     5.13    2.65     4.59      4.16        5.28      3.95   \n",
       "1989-02-01  4.80     5.08    2.74     4.81      4.13        5.25      3.95   \n",
       "1989-03-01  4.79     4.93    2.68     4.75      4.22        5.27      3.96   \n",
       "1989-04-01  4.77     5.00    2.69     4.82      4.59        5.16      4.02   \n",
       "1989-05-01  4.64     5.11    2.61     4.99      4.71        4.28      4.09   \n",
       "\n",
       "            Connecticut  Delaware    DC  ...  South_Dakota  Tennessee  Texas  \\\n",
       "Date                                     ...                                   \n",
       "1989-01-01         6.31      5.33  5.55  ...          4.19       4.46   4.25   \n",
       "1989-02-01         6.29      5.27  5.47  ...          3.94       4.51   4.30   \n",
       "1989-03-01         6.04      5.33  5.74  ...          3.87       4.35   4.12   \n",
       "1989-04-01         6.15      5.43  5.11  ...          3.89       4.41   3.93   \n",
       "1989-05-01         5.54      5.50  4.95  ...          3.96       4.20   3.96   \n",
       "\n",
       "            Utah  Vermont  Virginia  Washington  West_Virginia  Wisconsin  \\\n",
       "Date                                                                        \n",
       "1989-01-01  4.03     4.34      5.17        4.67           4.83       4.59   \n",
       "1989-02-01  4.03     4.88      5.23        4.74           4.82       4.64   \n",
       "1989-03-01  4.13     4.70      5.04        4.51           4.88       4.50   \n",
       "1989-04-01  4.30     4.73      4.81        4.70           5.04       4.46   \n",
       "1989-05-01  4.17     4.99      4.92        4.83           5.32       4.23   \n",
       "\n",
       "            Wyoming  \n",
       "Date                 \n",
       "1989-01-01     4.31  \n",
       "1989-02-01     4.31  \n",
       "1989-03-01     4.30  \n",
       "1989-04-01     4.31  \n",
       "1989-05-01     4.35  \n",
       "\n",
       "[5 rows x 52 columns]"
      ]
     },
     "execution_count": 11,
     "metadata": {},
     "output_type": "execute_result"
    }
   ],
   "source": [
    "# pd.to_datetime(gas_prices['Date'].map(lambda x: x.split('-')).map(lambda x: dt.datetime(int(x[1]), int(x[0]), 1)))\n",
    "# gas_prices['Date'].map(lambda x: dt.datetime.strpdate(x, 'M-Y'))\n",
    "gas_prices['Date']=pd.to_datetime(gas_prices['Date'], format='%b-%y')\n",
    "gas_prices=gas_prices.set_index('Date')\n",
    "gas_prices.head()"
   ]
  },
  {
   "cell_type": "code",
   "execution_count": 12,
   "metadata": {},
   "outputs": [
    {
     "data": {
      "text/html": [
       "<div>\n",
       "<style scoped>\n",
       "    .dataframe tbody tr th:only-of-type {\n",
       "        vertical-align: middle;\n",
       "    }\n",
       "\n",
       "    .dataframe tbody tr th {\n",
       "        vertical-align: top;\n",
       "    }\n",
       "\n",
       "    .dataframe thead th {\n",
       "        text-align: right;\n",
       "    }\n",
       "</style>\n",
       "<table border=\"1\" class=\"dataframe\">\n",
       "  <thead>\n",
       "    <tr style=\"text-align: right;\">\n",
       "      <th></th>\n",
       "      <th>Alabama</th>\n",
       "    </tr>\n",
       "  </thead>\n",
       "  <tbody>\n",
       "    <tr>\n",
       "      <th>count</th>\n",
       "      <td>357.000000</td>\n",
       "    </tr>\n",
       "    <tr>\n",
       "      <th>mean</th>\n",
       "      <td>10.372493</td>\n",
       "    </tr>\n",
       "    <tr>\n",
       "      <th>std</th>\n",
       "      <td>3.456427</td>\n",
       "    </tr>\n",
       "    <tr>\n",
       "      <th>min</th>\n",
       "      <td>4.930000</td>\n",
       "    </tr>\n",
       "    <tr>\n",
       "      <th>25%</th>\n",
       "      <td>6.820000</td>\n",
       "    </tr>\n",
       "    <tr>\n",
       "      <th>50%</th>\n",
       "      <td>11.250000</td>\n",
       "    </tr>\n",
       "    <tr>\n",
       "      <th>75%</th>\n",
       "      <td>12.780000</td>\n",
       "    </tr>\n",
       "    <tr>\n",
       "      <th>max</th>\n",
       "      <td>18.570000</td>\n",
       "    </tr>\n",
       "  </tbody>\n",
       "</table>\n",
       "</div>"
      ],
      "text/plain": [
       "          Alabama\n",
       "count  357.000000\n",
       "mean    10.372493\n",
       "std      3.456427\n",
       "min      4.930000\n",
       "25%      6.820000\n",
       "50%     11.250000\n",
       "75%     12.780000\n",
       "max     18.570000"
      ]
     },
     "execution_count": 12,
     "metadata": {},
     "output_type": "execute_result"
    }
   ],
   "source": [
    "describe = gas_prices[['Alabama']].describe()\n",
    "\n",
    "describe"
   ]
  },
  {
   "cell_type": "code",
   "execution_count": 13,
   "metadata": {},
   "outputs": [
    {
     "data": {
      "text/html": [
       "<div>\n",
       "<style scoped>\n",
       "    .dataframe tbody tr th:only-of-type {\n",
       "        vertical-align: middle;\n",
       "    }\n",
       "\n",
       "    .dataframe tbody tr th {\n",
       "        vertical-align: top;\n",
       "    }\n",
       "\n",
       "    .dataframe thead th {\n",
       "        text-align: right;\n",
       "    }\n",
       "</style>\n",
       "<table border=\"1\" class=\"dataframe\">\n",
       "  <thead>\n",
       "    <tr style=\"text-align: right;\">\n",
       "      <th></th>\n",
       "      <th>U.S. Natural Gas Total Consumption (MMcf)</th>\n",
       "      <th>U.S. Natural Gas Lease and Plant Fuel Consumption (MMcf)</th>\n",
       "      <th>U.S. Natural Gas Pipeline &amp; Distribution Use (MMcf)</th>\n",
       "      <th>Natural Gas Delivered to Consumers in the U.S. (MMcf)</th>\n",
       "      <th>U.S. Natural Gas Residential Consumption (MMcf)</th>\n",
       "      <th>Natural Gas Deliveries to Commercial Consumers (Including Vehicle Fuel through 1996) in the U.S. (MMcf)</th>\n",
       "      <th>U.S. Natural Gas Industrial Consumption (MMcf)</th>\n",
       "      <th>U.S. Natural Gas Vehicle Fuel Consumption (MMcf)</th>\n",
       "      <th>U.S. Natural Gas Deliveries to Electric Power Consumers (MMcf)</th>\n",
       "    </tr>\n",
       "    <tr>\n",
       "      <th>Date</th>\n",
       "      <th></th>\n",
       "      <th></th>\n",
       "      <th></th>\n",
       "      <th></th>\n",
       "      <th></th>\n",
       "      <th></th>\n",
       "      <th></th>\n",
       "      <th></th>\n",
       "      <th></th>\n",
       "    </tr>\n",
       "  </thead>\n",
       "  <tbody>\n",
       "    <tr>\n",
       "      <th>2001-01-01</th>\n",
       "      <td>2676998.0</td>\n",
       "      <td>95602.0</td>\n",
       "      <td>76386.0</td>\n",
       "      <td>2505011.0</td>\n",
       "      <td>976677</td>\n",
       "      <td>500267</td>\n",
       "      <td>686540.0</td>\n",
       "      <td>1235.0</td>\n",
       "      <td>340292.0</td>\n",
       "    </tr>\n",
       "    <tr>\n",
       "      <th>2001-02-01</th>\n",
       "      <td>2309464.0</td>\n",
       "      <td>86821.0</td>\n",
       "      <td>65770.0</td>\n",
       "      <td>2156873.0</td>\n",
       "      <td>780482</td>\n",
       "      <td>422407</td>\n",
       "      <td>640026.0</td>\n",
       "      <td>1115.0</td>\n",
       "      <td>312843.0</td>\n",
       "    </tr>\n",
       "    <tr>\n",
       "      <th>2001-03-01</th>\n",
       "      <td>2246633.0</td>\n",
       "      <td>96438.0</td>\n",
       "      <td>63626.0</td>\n",
       "      <td>2086568.0</td>\n",
       "      <td>681884</td>\n",
       "      <td>375688</td>\n",
       "      <td>664918.0</td>\n",
       "      <td>1235.0</td>\n",
       "      <td>362843.0</td>\n",
       "    </tr>\n",
       "    <tr>\n",
       "      <th>2001-04-01</th>\n",
       "      <td>1807170.0</td>\n",
       "      <td>92602.0</td>\n",
       "      <td>50736.0</td>\n",
       "      <td>1663832.0</td>\n",
       "      <td>400728</td>\n",
       "      <td>255361</td>\n",
       "      <td>622054.0</td>\n",
       "      <td>1195.0</td>\n",
       "      <td>384494.0</td>\n",
       "    </tr>\n",
       "    <tr>\n",
       "      <th>2001-05-01</th>\n",
       "      <td>1522382.0</td>\n",
       "      <td>94981.0</td>\n",
       "      <td>42238.0</td>\n",
       "      <td>1385163.0</td>\n",
       "      <td>209327</td>\n",
       "      <td>164146</td>\n",
       "      <td>576532.0</td>\n",
       "      <td>1235.0</td>\n",
       "      <td>433923.0</td>\n",
       "    </tr>\n",
       "  </tbody>\n",
       "</table>\n",
       "</div>"
      ],
      "text/plain": [
       "            U.S. Natural Gas Total Consumption (MMcf)  \\\n",
       "Date                                                    \n",
       "2001-01-01                                  2676998.0   \n",
       "2001-02-01                                  2309464.0   \n",
       "2001-03-01                                  2246633.0   \n",
       "2001-04-01                                  1807170.0   \n",
       "2001-05-01                                  1522382.0   \n",
       "\n",
       "            U.S. Natural Gas Lease and Plant Fuel Consumption (MMcf)  \\\n",
       "Date                                                                   \n",
       "2001-01-01                                            95602.0          \n",
       "2001-02-01                                            86821.0          \n",
       "2001-03-01                                            96438.0          \n",
       "2001-04-01                                            92602.0          \n",
       "2001-05-01                                            94981.0          \n",
       "\n",
       "            U.S. Natural Gas Pipeline & Distribution Use (MMcf)  \\\n",
       "Date                                                              \n",
       "2001-01-01                                            76386.0     \n",
       "2001-02-01                                            65770.0     \n",
       "2001-03-01                                            63626.0     \n",
       "2001-04-01                                            50736.0     \n",
       "2001-05-01                                            42238.0     \n",
       "\n",
       "            Natural Gas Delivered to Consumers in the U.S. (MMcf)  \\\n",
       "Date                                                                \n",
       "2001-01-01                                          2505011.0       \n",
       "2001-02-01                                          2156873.0       \n",
       "2001-03-01                                          2086568.0       \n",
       "2001-04-01                                          1663832.0       \n",
       "2001-05-01                                          1385163.0       \n",
       "\n",
       "            U.S. Natural Gas Residential Consumption (MMcf)  \\\n",
       "Date                                                          \n",
       "2001-01-01                                           976677   \n",
       "2001-02-01                                           780482   \n",
       "2001-03-01                                           681884   \n",
       "2001-04-01                                           400728   \n",
       "2001-05-01                                           209327   \n",
       "\n",
       "            Natural Gas Deliveries to Commercial Consumers (Including Vehicle Fuel through 1996) in the U.S. (MMcf)  \\\n",
       "Date                                                                                                                  \n",
       "2001-01-01                                             500267                                                         \n",
       "2001-02-01                                             422407                                                         \n",
       "2001-03-01                                             375688                                                         \n",
       "2001-04-01                                             255361                                                         \n",
       "2001-05-01                                             164146                                                         \n",
       "\n",
       "            U.S. Natural Gas Industrial Consumption (MMcf)  \\\n",
       "Date                                                         \n",
       "2001-01-01                                        686540.0   \n",
       "2001-02-01                                        640026.0   \n",
       "2001-03-01                                        664918.0   \n",
       "2001-04-01                                        622054.0   \n",
       "2001-05-01                                        576532.0   \n",
       "\n",
       "            U.S. Natural Gas Vehicle Fuel Consumption (MMcf)  \\\n",
       "Date                                                           \n",
       "2001-01-01                                            1235.0   \n",
       "2001-02-01                                            1115.0   \n",
       "2001-03-01                                            1235.0   \n",
       "2001-04-01                                            1195.0   \n",
       "2001-05-01                                            1235.0   \n",
       "\n",
       "            U.S. Natural Gas Deliveries to Electric Power Consumers (MMcf)  \n",
       "Date                                                                        \n",
       "2001-01-01                                           340292.0               \n",
       "2001-02-01                                           312843.0               \n",
       "2001-03-01                                           362843.0               \n",
       "2001-04-01                                           384494.0               \n",
       "2001-05-01                                           433923.0               "
      ]
     },
     "execution_count": 13,
     "metadata": {},
     "output_type": "execute_result"
    }
   ],
   "source": [
    "import datetime as dt\n",
    "consumption = pd.read_excel(r'consumption.xlsx')#, index_col = \"Date\", parse_dates = True, )\n",
    "\n",
    "consumption.dropna(inplace = True)\n",
    "\n",
    "consumption.head(10)\n",
    "\n",
    "consumption['Date']=pd.to_datetime(consumption['Date']).map(lambda x: dt.datetime(x.year, x.month, 1))\n",
    "consumption=consumption.set_index('Date')\n",
    "consumption.head()"
   ]
  },
  {
   "cell_type": "code",
   "execution_count": 14,
   "metadata": {},
   "outputs": [],
   "source": [
    "combined = pd.merge(gas_prices,consumption, left_index = True, right_index = True)"
   ]
  },
  {
   "cell_type": "code",
   "execution_count": 15,
   "metadata": {},
   "outputs": [
    {
     "data": {
      "text/html": [
       "<div>\n",
       "<style scoped>\n",
       "    .dataframe tbody tr th:only-of-type {\n",
       "        vertical-align: middle;\n",
       "    }\n",
       "\n",
       "    .dataframe tbody tr th {\n",
       "        vertical-align: top;\n",
       "    }\n",
       "\n",
       "    .dataframe thead th {\n",
       "        text-align: right;\n",
       "    }\n",
       "</style>\n",
       "<table border=\"1\" class=\"dataframe\">\n",
       "  <thead>\n",
       "    <tr style=\"text-align: right;\">\n",
       "      <th></th>\n",
       "      <th>US</th>\n",
       "      <th>Alabama</th>\n",
       "      <th>Alaska</th>\n",
       "      <th>Arizona</th>\n",
       "      <th>Arkansas</th>\n",
       "      <th>California</th>\n",
       "      <th>Colorado</th>\n",
       "      <th>Connecticut</th>\n",
       "      <th>Delaware</th>\n",
       "      <th>DC</th>\n",
       "      <th>...</th>\n",
       "      <th>Wyoming</th>\n",
       "      <th>U.S. Natural Gas Total Consumption (MMcf)</th>\n",
       "      <th>U.S. Natural Gas Lease and Plant Fuel Consumption (MMcf)</th>\n",
       "      <th>U.S. Natural Gas Pipeline &amp; Distribution Use (MMcf)</th>\n",
       "      <th>Natural Gas Delivered to Consumers in the U.S. (MMcf)</th>\n",
       "      <th>U.S. Natural Gas Residential Consumption (MMcf)</th>\n",
       "      <th>Natural Gas Deliveries to Commercial Consumers (Including Vehicle Fuel through 1996) in the U.S. (MMcf)</th>\n",
       "      <th>U.S. Natural Gas Industrial Consumption (MMcf)</th>\n",
       "      <th>U.S. Natural Gas Vehicle Fuel Consumption (MMcf)</th>\n",
       "      <th>U.S. Natural Gas Deliveries to Electric Power Consumers (MMcf)</th>\n",
       "    </tr>\n",
       "    <tr>\n",
       "      <th>Date</th>\n",
       "      <th></th>\n",
       "      <th></th>\n",
       "      <th></th>\n",
       "      <th></th>\n",
       "      <th></th>\n",
       "      <th></th>\n",
       "      <th></th>\n",
       "      <th></th>\n",
       "      <th></th>\n",
       "      <th></th>\n",
       "      <th></th>\n",
       "      <th></th>\n",
       "      <th></th>\n",
       "      <th></th>\n",
       "      <th></th>\n",
       "      <th></th>\n",
       "      <th></th>\n",
       "      <th></th>\n",
       "      <th></th>\n",
       "      <th></th>\n",
       "      <th></th>\n",
       "    </tr>\n",
       "  </thead>\n",
       "  <tbody>\n",
       "    <tr>\n",
       "      <th>2001-01-01</th>\n",
       "      <td>9.50</td>\n",
       "      <td>9.44</td>\n",
       "      <td>3.10</td>\n",
       "      <td>7.20</td>\n",
       "      <td>8.71</td>\n",
       "      <td>12.35</td>\n",
       "      <td>6.94</td>\n",
       "      <td>10.13</td>\n",
       "      <td>8.36</td>\n",
       "      <td>13.64</td>\n",
       "      <td>...</td>\n",
       "      <td>6.93</td>\n",
       "      <td>2676998.0</td>\n",
       "      <td>95602.0</td>\n",
       "      <td>76386.0</td>\n",
       "      <td>2505011.0</td>\n",
       "      <td>976677</td>\n",
       "      <td>500267</td>\n",
       "      <td>686540.0</td>\n",
       "      <td>1235.0</td>\n",
       "      <td>340292.0</td>\n",
       "    </tr>\n",
       "    <tr>\n",
       "      <th>2001-02-01</th>\n",
       "      <td>9.80</td>\n",
       "      <td>11.03</td>\n",
       "      <td>3.11</td>\n",
       "      <td>8.10</td>\n",
       "      <td>8.94</td>\n",
       "      <td>14.26</td>\n",
       "      <td>8.23</td>\n",
       "      <td>9.82</td>\n",
       "      <td>12.02</td>\n",
       "      <td>13.55</td>\n",
       "      <td>...</td>\n",
       "      <td>7.97</td>\n",
       "      <td>2309464.0</td>\n",
       "      <td>86821.0</td>\n",
       "      <td>65770.0</td>\n",
       "      <td>2156873.0</td>\n",
       "      <td>780482</td>\n",
       "      <td>422407</td>\n",
       "      <td>640026.0</td>\n",
       "      <td>1115.0</td>\n",
       "      <td>312843.0</td>\n",
       "    </tr>\n",
       "    <tr>\n",
       "      <th>2001-03-01</th>\n",
       "      <td>9.14</td>\n",
       "      <td>10.87</td>\n",
       "      <td>3.10</td>\n",
       "      <td>7.30</td>\n",
       "      <td>8.34</td>\n",
       "      <td>14.20</td>\n",
       "      <td>8.47</td>\n",
       "      <td>8.44</td>\n",
       "      <td>8.55</td>\n",
       "      <td>12.17</td>\n",
       "      <td>...</td>\n",
       "      <td>9.96</td>\n",
       "      <td>2246633.0</td>\n",
       "      <td>96438.0</td>\n",
       "      <td>63626.0</td>\n",
       "      <td>2086568.0</td>\n",
       "      <td>681884</td>\n",
       "      <td>375688</td>\n",
       "      <td>664918.0</td>\n",
       "      <td>1235.0</td>\n",
       "      <td>362843.0</td>\n",
       "    </tr>\n",
       "    <tr>\n",
       "      <th>2001-04-01</th>\n",
       "      <td>9.01</td>\n",
       "      <td>10.65</td>\n",
       "      <td>2.90</td>\n",
       "      <td>7.26</td>\n",
       "      <td>7.98</td>\n",
       "      <td>11.58</td>\n",
       "      <td>8.99</td>\n",
       "      <td>7.81</td>\n",
       "      <td>10.85</td>\n",
       "      <td>12.43</td>\n",
       "      <td>...</td>\n",
       "      <td>11.67</td>\n",
       "      <td>1807170.0</td>\n",
       "      <td>92602.0</td>\n",
       "      <td>50736.0</td>\n",
       "      <td>1663832.0</td>\n",
       "      <td>400728</td>\n",
       "      <td>255361</td>\n",
       "      <td>622054.0</td>\n",
       "      <td>1195.0</td>\n",
       "      <td>384494.0</td>\n",
       "    </tr>\n",
       "    <tr>\n",
       "      <th>2001-05-01</th>\n",
       "      <td>9.19</td>\n",
       "      <td>11.19</td>\n",
       "      <td>2.98</td>\n",
       "      <td>7.82</td>\n",
       "      <td>8.36</td>\n",
       "      <td>10.78</td>\n",
       "      <td>9.28</td>\n",
       "      <td>6.11</td>\n",
       "      <td>11.62</td>\n",
       "      <td>11.94</td>\n",
       "      <td>...</td>\n",
       "      <td>11.04</td>\n",
       "      <td>1522382.0</td>\n",
       "      <td>94981.0</td>\n",
       "      <td>42238.0</td>\n",
       "      <td>1385163.0</td>\n",
       "      <td>209327</td>\n",
       "      <td>164146</td>\n",
       "      <td>576532.0</td>\n",
       "      <td>1235.0</td>\n",
       "      <td>433923.0</td>\n",
       "    </tr>\n",
       "    <tr>\n",
       "      <th>2001-06-01</th>\n",
       "      <td>8.50</td>\n",
       "      <td>11.37</td>\n",
       "      <td>2.94</td>\n",
       "      <td>7.73</td>\n",
       "      <td>7.62</td>\n",
       "      <td>9.65</td>\n",
       "      <td>9.42</td>\n",
       "      <td>5.38</td>\n",
       "      <td>11.43</td>\n",
       "      <td>10.78</td>\n",
       "      <td>...</td>\n",
       "      <td>8.63</td>\n",
       "      <td>1444378.0</td>\n",
       "      <td>91218.0</td>\n",
       "      <td>40041.0</td>\n",
       "      <td>1313119.0</td>\n",
       "      <td>146837</td>\n",
       "      <td>135449</td>\n",
       "      <td>536820.0</td>\n",
       "      <td>1195.0</td>\n",
       "      <td>492819.0</td>\n",
       "    </tr>\n",
       "    <tr>\n",
       "      <th>2001-07-01</th>\n",
       "      <td>7.90</td>\n",
       "      <td>11.28</td>\n",
       "      <td>3.14</td>\n",
       "      <td>7.93</td>\n",
       "      <td>7.76</td>\n",
       "      <td>7.32</td>\n",
       "      <td>9.57</td>\n",
       "      <td>6.90</td>\n",
       "      <td>11.82</td>\n",
       "      <td>10.64</td>\n",
       "      <td>...</td>\n",
       "      <td>9.51</td>\n",
       "      <td>1598071.0</td>\n",
       "      <td>93635.0</td>\n",
       "      <td>44518.0</td>\n",
       "      <td>1459919.0</td>\n",
       "      <td>123777</td>\n",
       "      <td>130415</td>\n",
       "      <td>570067.0</td>\n",
       "      <td>1235.0</td>\n",
       "      <td>634425.0</td>\n",
       "    </tr>\n",
       "    <tr>\n",
       "      <th>2001-08-01</th>\n",
       "      <td>7.61</td>\n",
       "      <td>11.22</td>\n",
       "      <td>3.03</td>\n",
       "      <td>7.99</td>\n",
       "      <td>6.80</td>\n",
       "      <td>6.69</td>\n",
       "      <td>9.79</td>\n",
       "      <td>7.01</td>\n",
       "      <td>12.09</td>\n",
       "      <td>10.15</td>\n",
       "      <td>...</td>\n",
       "      <td>8.94</td>\n",
       "      <td>1669178.0</td>\n",
       "      <td>94087.0</td>\n",
       "      <td>46609.0</td>\n",
       "      <td>1528483.0</td>\n",
       "      <td>116934</td>\n",
       "      <td>133687</td>\n",
       "      <td>589875.0</td>\n",
       "      <td>1235.0</td>\n",
       "      <td>686753.0</td>\n",
       "    </tr>\n",
       "    <tr>\n",
       "      <th>2001-09-01</th>\n",
       "      <td>6.96</td>\n",
       "      <td>11.00</td>\n",
       "      <td>3.20</td>\n",
       "      <td>7.94</td>\n",
       "      <td>6.49</td>\n",
       "      <td>5.56</td>\n",
       "      <td>9.70</td>\n",
       "      <td>4.39</td>\n",
       "      <td>11.48</td>\n",
       "      <td>9.79</td>\n",
       "      <td>...</td>\n",
       "      <td>8.81</td>\n",
       "      <td>1494128.0</td>\n",
       "      <td>91760.0</td>\n",
       "      <td>41497.0</td>\n",
       "      <td>1360871.0</td>\n",
       "      <td>127482</td>\n",
       "      <td>143342</td>\n",
       "      <td>578590.0</td>\n",
       "      <td>1195.0</td>\n",
       "      <td>510262.0</td>\n",
       "    </tr>\n",
       "    <tr>\n",
       "      <th>2001-10-01</th>\n",
       "      <td>6.39</td>\n",
       "      <td>10.04</td>\n",
       "      <td>3.31</td>\n",
       "      <td>7.98</td>\n",
       "      <td>6.04</td>\n",
       "      <td>4.67</td>\n",
       "      <td>8.13</td>\n",
       "      <td>7.35</td>\n",
       "      <td>10.99</td>\n",
       "      <td>9.77</td>\n",
       "      <td>...</td>\n",
       "      <td>8.08</td>\n",
       "      <td>1649073.0</td>\n",
       "      <td>95679.0</td>\n",
       "      <td>45967.0</td>\n",
       "      <td>1507428.0</td>\n",
       "      <td>237466</td>\n",
       "      <td>185356</td>\n",
       "      <td>617291.0</td>\n",
       "      <td>1235.0</td>\n",
       "      <td>466080.0</td>\n",
       "    </tr>\n",
       "  </tbody>\n",
       "</table>\n",
       "<p>10 rows × 61 columns</p>\n",
       "</div>"
      ],
      "text/plain": [
       "              US  Alabama  Alaska  Arizona  Arkansas  California  Colorado  \\\n",
       "Date                                                                         \n",
       "2001-01-01  9.50     9.44    3.10     7.20      8.71       12.35      6.94   \n",
       "2001-02-01  9.80    11.03    3.11     8.10      8.94       14.26      8.23   \n",
       "2001-03-01  9.14    10.87    3.10     7.30      8.34       14.20      8.47   \n",
       "2001-04-01  9.01    10.65    2.90     7.26      7.98       11.58      8.99   \n",
       "2001-05-01  9.19    11.19    2.98     7.82      8.36       10.78      9.28   \n",
       "2001-06-01  8.50    11.37    2.94     7.73      7.62        9.65      9.42   \n",
       "2001-07-01  7.90    11.28    3.14     7.93      7.76        7.32      9.57   \n",
       "2001-08-01  7.61    11.22    3.03     7.99      6.80        6.69      9.79   \n",
       "2001-09-01  6.96    11.00    3.20     7.94      6.49        5.56      9.70   \n",
       "2001-10-01  6.39    10.04    3.31     7.98      6.04        4.67      8.13   \n",
       "\n",
       "            Connecticut  Delaware     DC  ...  Wyoming  \\\n",
       "Date                                      ...            \n",
       "2001-01-01        10.13      8.36  13.64  ...     6.93   \n",
       "2001-02-01         9.82     12.02  13.55  ...     7.97   \n",
       "2001-03-01         8.44      8.55  12.17  ...     9.96   \n",
       "2001-04-01         7.81     10.85  12.43  ...    11.67   \n",
       "2001-05-01         6.11     11.62  11.94  ...    11.04   \n",
       "2001-06-01         5.38     11.43  10.78  ...     8.63   \n",
       "2001-07-01         6.90     11.82  10.64  ...     9.51   \n",
       "2001-08-01         7.01     12.09  10.15  ...     8.94   \n",
       "2001-09-01         4.39     11.48   9.79  ...     8.81   \n",
       "2001-10-01         7.35     10.99   9.77  ...     8.08   \n",
       "\n",
       "            U.S. Natural Gas Total Consumption (MMcf)  \\\n",
       "Date                                                    \n",
       "2001-01-01                                  2676998.0   \n",
       "2001-02-01                                  2309464.0   \n",
       "2001-03-01                                  2246633.0   \n",
       "2001-04-01                                  1807170.0   \n",
       "2001-05-01                                  1522382.0   \n",
       "2001-06-01                                  1444378.0   \n",
       "2001-07-01                                  1598071.0   \n",
       "2001-08-01                                  1669178.0   \n",
       "2001-09-01                                  1494128.0   \n",
       "2001-10-01                                  1649073.0   \n",
       "\n",
       "            U.S. Natural Gas Lease and Plant Fuel Consumption (MMcf)  \\\n",
       "Date                                                                   \n",
       "2001-01-01                                            95602.0          \n",
       "2001-02-01                                            86821.0          \n",
       "2001-03-01                                            96438.0          \n",
       "2001-04-01                                            92602.0          \n",
       "2001-05-01                                            94981.0          \n",
       "2001-06-01                                            91218.0          \n",
       "2001-07-01                                            93635.0          \n",
       "2001-08-01                                            94087.0          \n",
       "2001-09-01                                            91760.0          \n",
       "2001-10-01                                            95679.0          \n",
       "\n",
       "            U.S. Natural Gas Pipeline & Distribution Use (MMcf)  \\\n",
       "Date                                                              \n",
       "2001-01-01                                            76386.0     \n",
       "2001-02-01                                            65770.0     \n",
       "2001-03-01                                            63626.0     \n",
       "2001-04-01                                            50736.0     \n",
       "2001-05-01                                            42238.0     \n",
       "2001-06-01                                            40041.0     \n",
       "2001-07-01                                            44518.0     \n",
       "2001-08-01                                            46609.0     \n",
       "2001-09-01                                            41497.0     \n",
       "2001-10-01                                            45967.0     \n",
       "\n",
       "            Natural Gas Delivered to Consumers in the U.S. (MMcf)  \\\n",
       "Date                                                                \n",
       "2001-01-01                                          2505011.0       \n",
       "2001-02-01                                          2156873.0       \n",
       "2001-03-01                                          2086568.0       \n",
       "2001-04-01                                          1663832.0       \n",
       "2001-05-01                                          1385163.0       \n",
       "2001-06-01                                          1313119.0       \n",
       "2001-07-01                                          1459919.0       \n",
       "2001-08-01                                          1528483.0       \n",
       "2001-09-01                                          1360871.0       \n",
       "2001-10-01                                          1507428.0       \n",
       "\n",
       "            U.S. Natural Gas Residential Consumption (MMcf)  \\\n",
       "Date                                                          \n",
       "2001-01-01                                           976677   \n",
       "2001-02-01                                           780482   \n",
       "2001-03-01                                           681884   \n",
       "2001-04-01                                           400728   \n",
       "2001-05-01                                           209327   \n",
       "2001-06-01                                           146837   \n",
       "2001-07-01                                           123777   \n",
       "2001-08-01                                           116934   \n",
       "2001-09-01                                           127482   \n",
       "2001-10-01                                           237466   \n",
       "\n",
       "            Natural Gas Deliveries to Commercial Consumers (Including Vehicle Fuel through 1996) in the U.S. (MMcf)  \\\n",
       "Date                                                                                                                  \n",
       "2001-01-01                                             500267                                                         \n",
       "2001-02-01                                             422407                                                         \n",
       "2001-03-01                                             375688                                                         \n",
       "2001-04-01                                             255361                                                         \n",
       "2001-05-01                                             164146                                                         \n",
       "2001-06-01                                             135449                                                         \n",
       "2001-07-01                                             130415                                                         \n",
       "2001-08-01                                             133687                                                         \n",
       "2001-09-01                                             143342                                                         \n",
       "2001-10-01                                             185356                                                         \n",
       "\n",
       "            U.S. Natural Gas Industrial Consumption (MMcf)  \\\n",
       "Date                                                         \n",
       "2001-01-01                                        686540.0   \n",
       "2001-02-01                                        640026.0   \n",
       "2001-03-01                                        664918.0   \n",
       "2001-04-01                                        622054.0   \n",
       "2001-05-01                                        576532.0   \n",
       "2001-06-01                                        536820.0   \n",
       "2001-07-01                                        570067.0   \n",
       "2001-08-01                                        589875.0   \n",
       "2001-09-01                                        578590.0   \n",
       "2001-10-01                                        617291.0   \n",
       "\n",
       "            U.S. Natural Gas Vehicle Fuel Consumption (MMcf)  \\\n",
       "Date                                                           \n",
       "2001-01-01                                            1235.0   \n",
       "2001-02-01                                            1115.0   \n",
       "2001-03-01                                            1235.0   \n",
       "2001-04-01                                            1195.0   \n",
       "2001-05-01                                            1235.0   \n",
       "2001-06-01                                            1195.0   \n",
       "2001-07-01                                            1235.0   \n",
       "2001-08-01                                            1235.0   \n",
       "2001-09-01                                            1195.0   \n",
       "2001-10-01                                            1235.0   \n",
       "\n",
       "            U.S. Natural Gas Deliveries to Electric Power Consumers (MMcf)  \n",
       "Date                                                                        \n",
       "2001-01-01                                           340292.0               \n",
       "2001-02-01                                           312843.0               \n",
       "2001-03-01                                           362843.0               \n",
       "2001-04-01                                           384494.0               \n",
       "2001-05-01                                           433923.0               \n",
       "2001-06-01                                           492819.0               \n",
       "2001-07-01                                           634425.0               \n",
       "2001-08-01                                           686753.0               \n",
       "2001-09-01                                           510262.0               \n",
       "2001-10-01                                           466080.0               \n",
       "\n",
       "[10 rows x 61 columns]"
      ]
     },
     "execution_count": 15,
     "metadata": {},
     "output_type": "execute_result"
    }
   ],
   "source": [
    "combined.head(10)"
   ]
  },
  {
   "cell_type": "code",
   "execution_count": 16,
   "metadata": {},
   "outputs": [
    {
     "data": {
      "text/html": [
       "<div>\n",
       "<style scoped>\n",
       "    .dataframe tbody tr th:only-of-type {\n",
       "        vertical-align: middle;\n",
       "    }\n",
       "\n",
       "    .dataframe tbody tr th {\n",
       "        vertical-align: top;\n",
       "    }\n",
       "\n",
       "    .dataframe thead th {\n",
       "        text-align: right;\n",
       "    }\n",
       "</style>\n",
       "<table border=\"1\" class=\"dataframe\">\n",
       "  <thead>\n",
       "    <tr style=\"text-align: right;\">\n",
       "      <th></th>\n",
       "      <th>U.S. Natural Gas Wellhead Price</th>\n",
       "      <th>Price of U.S. Natural Gas Imports</th>\n",
       "      <th>U.S. Natural Gas Pipeline Imports Price</th>\n",
       "      <th>Price of U.S. Natural Gas LNG Imports</th>\n",
       "      <th>Price of U.S. Natural Gas Exports</th>\n",
       "      <th>Price of U.S. Natural Gas Pipeline Exports</th>\n",
       "      <th>Price of Liquefied U.S. Natural Gas Exports</th>\n",
       "      <th>U.S. Natural Gas Citygate Price</th>\n",
       "      <th>U.S. Price of Natural Gas Delivered to Residential Consumers</th>\n",
       "      <th>U.S. Price of Natural Gas Sold to Commercial Consumers</th>\n",
       "      <th>United States Natural Gas Industrial Price</th>\n",
       "      <th>U.S. Natural Gas Electric Power Price</th>\n",
       "    </tr>\n",
       "    <tr>\n",
       "      <th>Date</th>\n",
       "      <th></th>\n",
       "      <th></th>\n",
       "      <th></th>\n",
       "      <th></th>\n",
       "      <th></th>\n",
       "      <th></th>\n",
       "      <th></th>\n",
       "      <th></th>\n",
       "      <th></th>\n",
       "      <th></th>\n",
       "      <th></th>\n",
       "      <th></th>\n",
       "    </tr>\n",
       "  </thead>\n",
       "  <tbody>\n",
       "    <tr>\n",
       "      <th>2002-01-01</th>\n",
       "      <td>2.50</td>\n",
       "      <td>2.73</td>\n",
       "      <td>2.71</td>\n",
       "      <td>3.70</td>\n",
       "      <td>2.90</td>\n",
       "      <td>2.63</td>\n",
       "      <td>4.27</td>\n",
       "      <td>3.79</td>\n",
       "      <td>7.38</td>\n",
       "      <td>6.51</td>\n",
       "      <td>4.05</td>\n",
       "      <td>3.10</td>\n",
       "    </tr>\n",
       "    <tr>\n",
       "      <th>2002-02-01</th>\n",
       "      <td>2.19</td>\n",
       "      <td>2.32</td>\n",
       "      <td>2.30</td>\n",
       "      <td>2.97</td>\n",
       "      <td>2.42</td>\n",
       "      <td>2.19</td>\n",
       "      <td>4.04</td>\n",
       "      <td>3.76</td>\n",
       "      <td>7.23</td>\n",
       "      <td>6.40</td>\n",
       "      <td>3.70</td>\n",
       "      <td>2.86</td>\n",
       "    </tr>\n",
       "    <tr>\n",
       "      <th>2002-03-01</th>\n",
       "      <td>2.40</td>\n",
       "      <td>2.61</td>\n",
       "      <td>2.61</td>\n",
       "      <td>2.65</td>\n",
       "      <td>2.75</td>\n",
       "      <td>2.58</td>\n",
       "      <td>3.74</td>\n",
       "      <td>3.84</td>\n",
       "      <td>7.10</td>\n",
       "      <td>6.28</td>\n",
       "      <td>3.78</td>\n",
       "      <td>3.37</td>\n",
       "    </tr>\n",
       "    <tr>\n",
       "      <th>2002-04-01</th>\n",
       "      <td>2.94</td>\n",
       "      <td>3.27</td>\n",
       "      <td>3.28</td>\n",
       "      <td>3.07</td>\n",
       "      <td>3.51</td>\n",
       "      <td>3.47</td>\n",
       "      <td>3.68</td>\n",
       "      <td>4.21</td>\n",
       "      <td>7.66</td>\n",
       "      <td>6.56</td>\n",
       "      <td>3.64</td>\n",
       "      <td>3.80</td>\n",
       "    </tr>\n",
       "    <tr>\n",
       "      <th>2002-05-01</th>\n",
       "      <td>2.94</td>\n",
       "      <td>3.25</td>\n",
       "      <td>3.25</td>\n",
       "      <td>3.33</td>\n",
       "      <td>3.32</td>\n",
       "      <td>3.29</td>\n",
       "      <td>3.79</td>\n",
       "      <td>4.07</td>\n",
       "      <td>8.54</td>\n",
       "      <td>6.68</td>\n",
       "      <td>4.07</td>\n",
       "      <td>3.78</td>\n",
       "    </tr>\n",
       "  </tbody>\n",
       "</table>\n",
       "</div>"
      ],
      "text/plain": [
       "            U.S. Natural Gas Wellhead Price   \\\n",
       "Date                                           \n",
       "2002-01-01                              2.50   \n",
       "2002-02-01                              2.19   \n",
       "2002-03-01                              2.40   \n",
       "2002-04-01                              2.94   \n",
       "2002-05-01                              2.94   \n",
       "\n",
       "            Price of U.S. Natural Gas Imports  \\\n",
       "Date                                            \n",
       "2002-01-01                               2.73   \n",
       "2002-02-01                               2.32   \n",
       "2002-03-01                               2.61   \n",
       "2002-04-01                               3.27   \n",
       "2002-05-01                               3.25   \n",
       "\n",
       "            U.S. Natural Gas Pipeline Imports Price  \\\n",
       "Date                                                  \n",
       "2002-01-01                                     2.71   \n",
       "2002-02-01                                     2.30   \n",
       "2002-03-01                                     2.61   \n",
       "2002-04-01                                     3.28   \n",
       "2002-05-01                                     3.25   \n",
       "\n",
       "            Price of U.S. Natural Gas LNG Imports   \\\n",
       "Date                                                 \n",
       "2002-01-01                                    3.70   \n",
       "2002-02-01                                    2.97   \n",
       "2002-03-01                                    2.65   \n",
       "2002-04-01                                    3.07   \n",
       "2002-05-01                                    3.33   \n",
       "\n",
       "            Price of U.S. Natural Gas Exports  \\\n",
       "Date                                            \n",
       "2002-01-01                               2.90   \n",
       "2002-02-01                               2.42   \n",
       "2002-03-01                               2.75   \n",
       "2002-04-01                               3.51   \n",
       "2002-05-01                               3.32   \n",
       "\n",
       "            Price of U.S. Natural Gas Pipeline Exports   \\\n",
       "Date                                                      \n",
       "2002-01-01                                         2.63   \n",
       "2002-02-01                                         2.19   \n",
       "2002-03-01                                         2.58   \n",
       "2002-04-01                                         3.47   \n",
       "2002-05-01                                         3.29   \n",
       "\n",
       "            Price of Liquefied U.S. Natural Gas Exports  \\\n",
       "Date                                                      \n",
       "2002-01-01                                         4.27   \n",
       "2002-02-01                                         4.04   \n",
       "2002-03-01                                         3.74   \n",
       "2002-04-01                                         3.68   \n",
       "2002-05-01                                         3.79   \n",
       "\n",
       "            U.S. Natural Gas Citygate Price  \\\n",
       "Date                                          \n",
       "2002-01-01                             3.79   \n",
       "2002-02-01                             3.76   \n",
       "2002-03-01                             3.84   \n",
       "2002-04-01                             4.21   \n",
       "2002-05-01                             4.07   \n",
       "\n",
       "            U.S. Price of Natural Gas Delivered to Residential Consumers  \\\n",
       "Date                                                                       \n",
       "2002-01-01                                               7.38              \n",
       "2002-02-01                                               7.23              \n",
       "2002-03-01                                               7.10              \n",
       "2002-04-01                                               7.66              \n",
       "2002-05-01                                               8.54              \n",
       "\n",
       "            U.S. Price of Natural Gas Sold to Commercial Consumers  \\\n",
       "Date                                                                 \n",
       "2002-01-01                                               6.51        \n",
       "2002-02-01                                               6.40        \n",
       "2002-03-01                                               6.28        \n",
       "2002-04-01                                               6.56        \n",
       "2002-05-01                                               6.68        \n",
       "\n",
       "            United States Natural Gas Industrial Price  \\\n",
       "Date                                                     \n",
       "2002-01-01                                        4.05   \n",
       "2002-02-01                                        3.70   \n",
       "2002-03-01                                        3.78   \n",
       "2002-04-01                                        3.64   \n",
       "2002-05-01                                        4.07   \n",
       "\n",
       "            U.S. Natural Gas Electric Power Price  \n",
       "Date                                               \n",
       "2002-01-01                                   3.10  \n",
       "2002-02-01                                   2.86  \n",
       "2002-03-01                                   3.37  \n",
       "2002-04-01                                   3.80  \n",
       "2002-05-01                                   3.78  "
      ]
     },
     "execution_count": 16,
     "metadata": {},
     "output_type": "execute_result"
    }
   ],
   "source": [
    "natl_prices = pd.read_excel(r'national_prices.xlsx')#, index_col = \"Date\", parse_dates = True, )\n",
    "\n",
    "natl_prices.dropna(inplace = True)\n",
    "\n",
    "natl_prices.head(10)\n",
    "\n",
    "natl_prices['Date']=pd.to_datetime(natl_prices['Date']).map(lambda x: dt.datetime(x.year, x.month, 1))\n",
    "natl_prices=natl_prices.set_index('Date')\n",
    "natl_prices.head()"
   ]
  },
  {
   "cell_type": "code",
   "execution_count": 17,
   "metadata": {},
   "outputs": [
    {
     "data": {
      "text/html": [
       "<div>\n",
       "<style scoped>\n",
       "    .dataframe tbody tr th:only-of-type {\n",
       "        vertical-align: middle;\n",
       "    }\n",
       "\n",
       "    .dataframe tbody tr th {\n",
       "        vertical-align: top;\n",
       "    }\n",
       "\n",
       "    .dataframe thead th {\n",
       "        text-align: right;\n",
       "    }\n",
       "</style>\n",
       "<table border=\"1\" class=\"dataframe\">\n",
       "  <thead>\n",
       "    <tr style=\"text-align: right;\">\n",
       "      <th></th>\n",
       "      <th>U.S. Natural Gas Gross Withdrawals (MMcf)</th>\n",
       "      <th>U.S. Natural Gas Gross Withdrawals from Gas Wells (MMcf)</th>\n",
       "      <th>U.S. Natural Gas Gross Withdrawals from Oil Wells (MMcf)</th>\n",
       "      <th>U.S. Natural Gas Gross Withdrawals from Shale Gas (MMcf)</th>\n",
       "      <th>U.S. Natural Gas Gross Withdrawals from Coalbed Wells (MMcf)</th>\n",
       "      <th>U.S. Natural Gas Repressuring (MMcf)</th>\n",
       "      <th>U.S. Nonhydrocarbon Gases Removed from Natural Gas (MMcf)</th>\n",
       "      <th>U.S. Natural Gas Vented and Flared (MMcf)</th>\n",
       "      <th>U.S. Natural Gas Marketed Production (MMcf)</th>\n",
       "      <th>U.S. Natural Gas Plant Liquids Production (MMcf)</th>\n",
       "      <th>U.S. Dry Natural Gas Production (MMcf)</th>\n",
       "    </tr>\n",
       "    <tr>\n",
       "      <th>Date</th>\n",
       "      <th></th>\n",
       "      <th></th>\n",
       "      <th></th>\n",
       "      <th></th>\n",
       "      <th></th>\n",
       "      <th></th>\n",
       "      <th></th>\n",
       "      <th></th>\n",
       "      <th></th>\n",
       "      <th></th>\n",
       "      <th></th>\n",
       "    </tr>\n",
       "  </thead>\n",
       "  <tbody>\n",
       "    <tr>\n",
       "      <th>2007-01-01</th>\n",
       "      <td>2042882.0</td>\n",
       "      <td>1208647.0</td>\n",
       "      <td>495368.0</td>\n",
       "      <td>169026.0</td>\n",
       "      <td>169842.0</td>\n",
       "      <td>323929.0</td>\n",
       "      <td>55318.0</td>\n",
       "      <td>11165.0</td>\n",
       "      <td>1652470</td>\n",
       "      <td>76119</td>\n",
       "      <td>1576351.0</td>\n",
       "    </tr>\n",
       "    <tr>\n",
       "      <th>2007-02-01</th>\n",
       "      <td>1878003.0</td>\n",
       "      <td>1109144.0</td>\n",
       "      <td>462784.0</td>\n",
       "      <td>152669.0</td>\n",
       "      <td>153405.0</td>\n",
       "      <td>305232.0</td>\n",
       "      <td>48838.0</td>\n",
       "      <td>10473.0</td>\n",
       "      <td>1513461</td>\n",
       "      <td>69716</td>\n",
       "      <td>1443745.0</td>\n",
       "    </tr>\n",
       "    <tr>\n",
       "      <th>2007-03-01</th>\n",
       "      <td>2094555.0</td>\n",
       "      <td>1256526.0</td>\n",
       "      <td>499160.0</td>\n",
       "      <td>169026.0</td>\n",
       "      <td>169842.0</td>\n",
       "      <td>323291.0</td>\n",
       "      <td>55329.0</td>\n",
       "      <td>12849.0</td>\n",
       "      <td>1703085</td>\n",
       "      <td>78451</td>\n",
       "      <td>1624634.0</td>\n",
       "    </tr>\n",
       "    <tr>\n",
       "      <th>2007-04-01</th>\n",
       "      <td>1994942.0</td>\n",
       "      <td>1197836.0</td>\n",
       "      <td>469170.0</td>\n",
       "      <td>163574.0</td>\n",
       "      <td>164363.0</td>\n",
       "      <td>302337.0</td>\n",
       "      <td>53009.0</td>\n",
       "      <td>12923.0</td>\n",
       "      <td>1626673</td>\n",
       "      <td>74931</td>\n",
       "      <td>1551743.0</td>\n",
       "    </tr>\n",
       "    <tr>\n",
       "      <th>2007-05-01</th>\n",
       "      <td>2066642.0</td>\n",
       "      <td>1273889.0</td>\n",
       "      <td>453886.0</td>\n",
       "      <td>169026.0</td>\n",
       "      <td>169842.0</td>\n",
       "      <td>280878.0</td>\n",
       "      <td>51144.0</td>\n",
       "      <td>12070.0</td>\n",
       "      <td>1722549</td>\n",
       "      <td>79347</td>\n",
       "      <td>1643202.0</td>\n",
       "    </tr>\n",
       "  </tbody>\n",
       "</table>\n",
       "</div>"
      ],
      "text/plain": [
       "            U.S. Natural Gas Gross Withdrawals (MMcf)  \\\n",
       "Date                                                    \n",
       "2007-01-01                                  2042882.0   \n",
       "2007-02-01                                  1878003.0   \n",
       "2007-03-01                                  2094555.0   \n",
       "2007-04-01                                  1994942.0   \n",
       "2007-05-01                                  2066642.0   \n",
       "\n",
       "            U.S. Natural Gas Gross Withdrawals from Gas Wells (MMcf)  \\\n",
       "Date                                                                   \n",
       "2007-01-01                                          1208647.0          \n",
       "2007-02-01                                          1109144.0          \n",
       "2007-03-01                                          1256526.0          \n",
       "2007-04-01                                          1197836.0          \n",
       "2007-05-01                                          1273889.0          \n",
       "\n",
       "            U.S. Natural Gas Gross Withdrawals from Oil Wells (MMcf)  \\\n",
       "Date                                                                   \n",
       "2007-01-01                                           495368.0          \n",
       "2007-02-01                                           462784.0          \n",
       "2007-03-01                                           499160.0          \n",
       "2007-04-01                                           469170.0          \n",
       "2007-05-01                                           453886.0          \n",
       "\n",
       "            U.S. Natural Gas Gross Withdrawals from Shale Gas (MMcf)  \\\n",
       "Date                                                                   \n",
       "2007-01-01                                           169026.0          \n",
       "2007-02-01                                           152669.0          \n",
       "2007-03-01                                           169026.0          \n",
       "2007-04-01                                           163574.0          \n",
       "2007-05-01                                           169026.0          \n",
       "\n",
       "            U.S. Natural Gas Gross Withdrawals from Coalbed Wells (MMcf)  \\\n",
       "Date                                                                       \n",
       "2007-01-01                                           169842.0              \n",
       "2007-02-01                                           153405.0              \n",
       "2007-03-01                                           169842.0              \n",
       "2007-04-01                                           164363.0              \n",
       "2007-05-01                                           169842.0              \n",
       "\n",
       "            U.S. Natural Gas Repressuring (MMcf)  \\\n",
       "Date                                               \n",
       "2007-01-01                              323929.0   \n",
       "2007-02-01                              305232.0   \n",
       "2007-03-01                              323291.0   \n",
       "2007-04-01                              302337.0   \n",
       "2007-05-01                              280878.0   \n",
       "\n",
       "            U.S. Nonhydrocarbon Gases Removed from Natural Gas (MMcf)  \\\n",
       "Date                                                                    \n",
       "2007-01-01                                            55318.0           \n",
       "2007-02-01                                            48838.0           \n",
       "2007-03-01                                            55329.0           \n",
       "2007-04-01                                            53009.0           \n",
       "2007-05-01                                            51144.0           \n",
       "\n",
       "            U.S. Natural Gas Vented and Flared (MMcf)  \\\n",
       "Date                                                    \n",
       "2007-01-01                                    11165.0   \n",
       "2007-02-01                                    10473.0   \n",
       "2007-03-01                                    12849.0   \n",
       "2007-04-01                                    12923.0   \n",
       "2007-05-01                                    12070.0   \n",
       "\n",
       "            U.S. Natural Gas Marketed Production (MMcf)  \\\n",
       "Date                                                      \n",
       "2007-01-01                                      1652470   \n",
       "2007-02-01                                      1513461   \n",
       "2007-03-01                                      1703085   \n",
       "2007-04-01                                      1626673   \n",
       "2007-05-01                                      1722549   \n",
       "\n",
       "            U.S. Natural Gas Plant Liquids Production (MMcf)  \\\n",
       "Date                                                           \n",
       "2007-01-01                                             76119   \n",
       "2007-02-01                                             69716   \n",
       "2007-03-01                                             78451   \n",
       "2007-04-01                                             74931   \n",
       "2007-05-01                                             79347   \n",
       "\n",
       "            U.S. Dry Natural Gas Production (MMcf)  \n",
       "Date                                                \n",
       "2007-01-01                               1576351.0  \n",
       "2007-02-01                               1443745.0  \n",
       "2007-03-01                               1624634.0  \n",
       "2007-04-01                               1551743.0  \n",
       "2007-05-01                               1643202.0  "
      ]
     },
     "execution_count": 17,
     "metadata": {},
     "output_type": "execute_result"
    }
   ],
   "source": [
    "production = pd.read_excel(r'production.xls')#, index_col = \"Date\", parse_dates = True, )\n",
    "\n",
    "production.dropna(inplace = True)\n",
    "\n",
    "production.head(10)\n",
    "\n",
    "production['Date']=pd.to_datetime(production['Date']).map(lambda x: dt.datetime(x.year, x.month, 1))\n",
    "production = production.set_index('Date')\n",
    "production.head()"
   ]
  },
  {
   "cell_type": "code",
   "execution_count": 18,
   "metadata": {},
   "outputs": [
    {
     "data": {
      "text/html": [
       "<div>\n",
       "<style scoped>\n",
       "    .dataframe tbody tr th:only-of-type {\n",
       "        vertical-align: middle;\n",
       "    }\n",
       "\n",
       "    .dataframe tbody tr th {\n",
       "        vertical-align: top;\n",
       "    }\n",
       "\n",
       "    .dataframe thead th {\n",
       "        text-align: right;\n",
       "    }\n",
       "</style>\n",
       "<table border=\"1\" class=\"dataframe\">\n",
       "  <thead>\n",
       "    <tr style=\"text-align: right;\">\n",
       "      <th></th>\n",
       "      <th>U.S. Total Natural Gas Underground Storage Capacity (MMcf)</th>\n",
       "      <th>U.S. Natural Gas Underground Storage Volume (MMcf)</th>\n",
       "      <th>U.S. Total Natural Gas in Underground Storage (Base Gas) (MMcf)</th>\n",
       "      <th>U.S. Total Natural Gas in Underground Storage (Working Gas) (MMcf)</th>\n",
       "      <th>U.S. Total Natural Gas Injections into Underground Storage (MMcf)</th>\n",
       "      <th>U.S. Natural  Gas Underground Storage Withdrawals (MMcf)</th>\n",
       "      <th>U.S. Natural Gas Underground Storage Net Withdrawals (MMcf)</th>\n",
       "    </tr>\n",
       "    <tr>\n",
       "      <th>Date</th>\n",
       "      <th></th>\n",
       "      <th></th>\n",
       "      <th></th>\n",
       "      <th></th>\n",
       "      <th></th>\n",
       "      <th></th>\n",
       "      <th></th>\n",
       "    </tr>\n",
       "  </thead>\n",
       "  <tbody>\n",
       "    <tr>\n",
       "      <th>1989-01-01</th>\n",
       "      <td>8119368.0</td>\n",
       "      <td>6307000.0</td>\n",
       "      <td>3798000.0</td>\n",
       "      <td>2509000.0</td>\n",
       "      <td>53000.0</td>\n",
       "      <td>418000.0</td>\n",
       "      <td>365000.0</td>\n",
       "    </tr>\n",
       "    <tr>\n",
       "      <th>1989-02-01</th>\n",
       "      <td>8119368.0</td>\n",
       "      <td>5795000.0</td>\n",
       "      <td>3801000.0</td>\n",
       "      <td>1994000.0</td>\n",
       "      <td>32000.0</td>\n",
       "      <td>602000.0</td>\n",
       "      <td>570000.0</td>\n",
       "    </tr>\n",
       "    <tr>\n",
       "      <th>1989-03-01</th>\n",
       "      <td>8119368.0</td>\n",
       "      <td>5577000.0</td>\n",
       "      <td>3801000.0</td>\n",
       "      <td>1776000.0</td>\n",
       "      <td>106000.0</td>\n",
       "      <td>362000.0</td>\n",
       "      <td>256000.0</td>\n",
       "    </tr>\n",
       "    <tr>\n",
       "      <th>1989-04-01</th>\n",
       "      <td>8119368.0</td>\n",
       "      <td>5624000.0</td>\n",
       "      <td>3801000.0</td>\n",
       "      <td>1823000.0</td>\n",
       "      <td>180000.0</td>\n",
       "      <td>138000.0</td>\n",
       "      <td>-42000.0</td>\n",
       "    </tr>\n",
       "    <tr>\n",
       "      <th>1989-05-01</th>\n",
       "      <td>8119368.0</td>\n",
       "      <td>5864000.0</td>\n",
       "      <td>3802000.0</td>\n",
       "      <td>2062000.0</td>\n",
       "      <td>321000.0</td>\n",
       "      <td>44000.0</td>\n",
       "      <td>-277000.0</td>\n",
       "    </tr>\n",
       "  </tbody>\n",
       "</table>\n",
       "</div>"
      ],
      "text/plain": [
       "            U.S. Total Natural Gas Underground Storage Capacity (MMcf)  \\\n",
       "Date                                                                     \n",
       "1989-01-01                                          8119368.0            \n",
       "1989-02-01                                          8119368.0            \n",
       "1989-03-01                                          8119368.0            \n",
       "1989-04-01                                          8119368.0            \n",
       "1989-05-01                                          8119368.0            \n",
       "\n",
       "            U.S. Natural Gas Underground Storage Volume (MMcf)  \\\n",
       "Date                                                             \n",
       "1989-01-01                                          6307000.0    \n",
       "1989-02-01                                          5795000.0    \n",
       "1989-03-01                                          5577000.0    \n",
       "1989-04-01                                          5624000.0    \n",
       "1989-05-01                                          5864000.0    \n",
       "\n",
       "            U.S. Total Natural Gas in Underground Storage (Base Gas) (MMcf)  \\\n",
       "Date                                                                          \n",
       "1989-01-01                                          3798000.0                 \n",
       "1989-02-01                                          3801000.0                 \n",
       "1989-03-01                                          3801000.0                 \n",
       "1989-04-01                                          3801000.0                 \n",
       "1989-05-01                                          3802000.0                 \n",
       "\n",
       "            U.S. Total Natural Gas in Underground Storage (Working Gas) (MMcf)  \\\n",
       "Date                                                                             \n",
       "1989-01-01                                          2509000.0                    \n",
       "1989-02-01                                          1994000.0                    \n",
       "1989-03-01                                          1776000.0                    \n",
       "1989-04-01                                          1823000.0                    \n",
       "1989-05-01                                          2062000.0                    \n",
       "\n",
       "            U.S. Total Natural Gas Injections into Underground Storage (MMcf)  \\\n",
       "Date                                                                            \n",
       "1989-01-01                                            53000.0                   \n",
       "1989-02-01                                            32000.0                   \n",
       "1989-03-01                                           106000.0                   \n",
       "1989-04-01                                           180000.0                   \n",
       "1989-05-01                                           321000.0                   \n",
       "\n",
       "            U.S. Natural  Gas Underground Storage Withdrawals (MMcf)  \\\n",
       "Date                                                                   \n",
       "1989-01-01                                           418000.0          \n",
       "1989-02-01                                           602000.0          \n",
       "1989-03-01                                           362000.0          \n",
       "1989-04-01                                           138000.0          \n",
       "1989-05-01                                            44000.0          \n",
       "\n",
       "            U.S. Natural Gas Underground Storage Net Withdrawals (MMcf)  \n",
       "Date                                                                     \n",
       "1989-01-01                                           365000.0            \n",
       "1989-02-01                                           570000.0            \n",
       "1989-03-01                                           256000.0            \n",
       "1989-04-01                                           -42000.0            \n",
       "1989-05-01                                          -277000.0            "
      ]
     },
     "execution_count": 18,
     "metadata": {},
     "output_type": "execute_result"
    }
   ],
   "source": [
    "storage = pd.read_excel(r'storage.xlsx')#, index_col = \"Date\", parse_dates = True, )\n",
    "\n",
    "storage.dropna(inplace = True)\n",
    "\n",
    "storage.head(10)\n",
    "\n",
    "storage['Date']=pd.to_datetime(storage['Date']).map(lambda x: dt.datetime(x.year, x.month, 1))\n",
    "storage = storage.set_index('Date')\n",
    "storage.head()"
   ]
  },
  {
   "cell_type": "code",
   "execution_count": 19,
   "metadata": {},
   "outputs": [],
   "source": [
    "# add natl_prices\n",
    "combined = pd.merge(combined,natl_prices, left_index = True, right_index = True)"
   ]
  },
  {
   "cell_type": "code",
   "execution_count": 20,
   "metadata": {},
   "outputs": [],
   "source": [
    "# add production\n",
    "combined = pd.merge(combined,production, left_index = True, right_index = True)"
   ]
  },
  {
   "cell_type": "code",
   "execution_count": 22,
   "metadata": {},
   "outputs": [],
   "source": [
    "# add storage\n",
    "combined = pd.merge(combined,storage, left_index = True, right_index = True)"
   ]
  },
  {
   "cell_type": "code",
   "execution_count": 23,
   "metadata": {},
   "outputs": [
    {
     "data": {
      "text/html": [
       "<div>\n",
       "<style scoped>\n",
       "    .dataframe tbody tr th:only-of-type {\n",
       "        vertical-align: middle;\n",
       "    }\n",
       "\n",
       "    .dataframe tbody tr th {\n",
       "        vertical-align: top;\n",
       "    }\n",
       "\n",
       "    .dataframe thead th {\n",
       "        text-align: right;\n",
       "    }\n",
       "</style>\n",
       "<table border=\"1\" class=\"dataframe\">\n",
       "  <thead>\n",
       "    <tr style=\"text-align: right;\">\n",
       "      <th></th>\n",
       "      <th>US</th>\n",
       "      <th>Alabama</th>\n",
       "      <th>Alaska</th>\n",
       "      <th>Arizona</th>\n",
       "      <th>Arkansas</th>\n",
       "      <th>California</th>\n",
       "      <th>Colorado</th>\n",
       "      <th>Connecticut</th>\n",
       "      <th>Delaware</th>\n",
       "      <th>DC</th>\n",
       "      <th>...</th>\n",
       "      <th>U.S. Total Natural Gas Injections into Underground Storage (MMcf)_x</th>\n",
       "      <th>U.S. Natural  Gas Underground Storage Withdrawals (MMcf)_x</th>\n",
       "      <th>U.S. Natural Gas Underground Storage Net Withdrawals (MMcf)_x</th>\n",
       "      <th>U.S. Total Natural Gas Underground Storage Capacity (MMcf)_y</th>\n",
       "      <th>U.S. Natural Gas Underground Storage Volume (MMcf)_y</th>\n",
       "      <th>U.S. Total Natural Gas in Underground Storage (Base Gas) (MMcf)_y</th>\n",
       "      <th>U.S. Total Natural Gas in Underground Storage (Working Gas) (MMcf)_y</th>\n",
       "      <th>U.S. Total Natural Gas Injections into Underground Storage (MMcf)_y</th>\n",
       "      <th>U.S. Natural  Gas Underground Storage Withdrawals (MMcf)_y</th>\n",
       "      <th>U.S. Natural Gas Underground Storage Net Withdrawals (MMcf)_y</th>\n",
       "    </tr>\n",
       "    <tr>\n",
       "      <th>Date</th>\n",
       "      <th></th>\n",
       "      <th></th>\n",
       "      <th></th>\n",
       "      <th></th>\n",
       "      <th></th>\n",
       "      <th></th>\n",
       "      <th></th>\n",
       "      <th></th>\n",
       "      <th></th>\n",
       "      <th></th>\n",
       "      <th></th>\n",
       "      <th></th>\n",
       "      <th></th>\n",
       "      <th></th>\n",
       "      <th></th>\n",
       "      <th></th>\n",
       "      <th></th>\n",
       "      <th></th>\n",
       "      <th></th>\n",
       "      <th></th>\n",
       "      <th></th>\n",
       "    </tr>\n",
       "  </thead>\n",
       "  <tbody>\n",
       "    <tr>\n",
       "      <th>2007-01-01</th>\n",
       "      <td>11.18</td>\n",
       "      <td>15.60</td>\n",
       "      <td>7.84</td>\n",
       "      <td>12.19</td>\n",
       "      <td>9.96</td>\n",
       "      <td>9.99</td>\n",
       "      <td>7.96</td>\n",
       "      <td>12.58</td>\n",
       "      <td>12.98</td>\n",
       "      <td>14.51</td>\n",
       "      <td>...</td>\n",
       "      <td>56863.0</td>\n",
       "      <td>740117.0</td>\n",
       "      <td>683254.0</td>\n",
       "      <td>8287550.0</td>\n",
       "      <td>6599227.0</td>\n",
       "      <td>4216333.0</td>\n",
       "      <td>2382895.0</td>\n",
       "      <td>56863.0</td>\n",
       "      <td>740117.0</td>\n",
       "      <td>683254.0</td>\n",
       "    </tr>\n",
       "    <tr>\n",
       "      <th>2007-02-01</th>\n",
       "      <td>11.22</td>\n",
       "      <td>14.44</td>\n",
       "      <td>7.80</td>\n",
       "      <td>12.65</td>\n",
       "      <td>9.18</td>\n",
       "      <td>10.57</td>\n",
       "      <td>8.67</td>\n",
       "      <td>12.16</td>\n",
       "      <td>13.66</td>\n",
       "      <td>14.30</td>\n",
       "      <td>...</td>\n",
       "      <td>50536.0</td>\n",
       "      <td>782391.0</td>\n",
       "      <td>731856.0</td>\n",
       "      <td>8282150.0</td>\n",
       "      <td>5867298.0</td>\n",
       "      <td>4215728.0</td>\n",
       "      <td>1651569.0</td>\n",
       "      <td>50536.0</td>\n",
       "      <td>782391.0</td>\n",
       "      <td>731856.0</td>\n",
       "    </tr>\n",
       "    <tr>\n",
       "      <th>2007-03-01</th>\n",
       "      <td>11.79</td>\n",
       "      <td>14.79</td>\n",
       "      <td>7.84</td>\n",
       "      <td>12.65</td>\n",
       "      <td>9.53</td>\n",
       "      <td>10.47</td>\n",
       "      <td>8.82</td>\n",
       "      <td>12.31</td>\n",
       "      <td>16.54</td>\n",
       "      <td>14.33</td>\n",
       "      <td>...</td>\n",
       "      <td>219347.0</td>\n",
       "      <td>269760.0</td>\n",
       "      <td>50413.0</td>\n",
       "      <td>8317150.0</td>\n",
       "      <td>5849891.0</td>\n",
       "      <td>4246889.0</td>\n",
       "      <td>1603002.0</td>\n",
       "      <td>219347.0</td>\n",
       "      <td>269760.0</td>\n",
       "      <td>50413.0</td>\n",
       "    </tr>\n",
       "    <tr>\n",
       "      <th>2007-04-01</th>\n",
       "      <td>11.50</td>\n",
       "      <td>15.61</td>\n",
       "      <td>7.63</td>\n",
       "      <td>12.83</td>\n",
       "      <td>10.18</td>\n",
       "      <td>10.21</td>\n",
       "      <td>7.91</td>\n",
       "      <td>12.19</td>\n",
       "      <td>16.57</td>\n",
       "      <td>13.93</td>\n",
       "      <td>...</td>\n",
       "      <td>273492.0</td>\n",
       "      <td>153774.0</td>\n",
       "      <td>-119718.0</td>\n",
       "      <td>8311750.0</td>\n",
       "      <td>5968611.0</td>\n",
       "      <td>4245870.0</td>\n",
       "      <td>1722741.0</td>\n",
       "      <td>273492.0</td>\n",
       "      <td>153774.0</td>\n",
       "      <td>-119718.0</td>\n",
       "    </tr>\n",
       "    <tr>\n",
       "      <th>2007-05-01</th>\n",
       "      <td>11.51</td>\n",
       "      <td>15.40</td>\n",
       "      <td>6.87</td>\n",
       "      <td>12.98</td>\n",
       "      <td>10.32</td>\n",
       "      <td>10.21</td>\n",
       "      <td>8.81</td>\n",
       "      <td>12.66</td>\n",
       "      <td>17.32</td>\n",
       "      <td>13.83</td>\n",
       "      <td>...</td>\n",
       "      <td>497741.0</td>\n",
       "      <td>38201.0</td>\n",
       "      <td>-459540.0</td>\n",
       "      <td>8327850.0</td>\n",
       "      <td>6431710.0</td>\n",
       "      <td>4250470.0</td>\n",
       "      <td>2181239.0</td>\n",
       "      <td>497741.0</td>\n",
       "      <td>38201.0</td>\n",
       "      <td>-459540.0</td>\n",
       "    </tr>\n",
       "  </tbody>\n",
       "</table>\n",
       "<p>5 rows × 98 columns</p>\n",
       "</div>"
      ],
      "text/plain": [
       "               US  Alabama  Alaska  Arizona  Arkansas  California  Colorado  \\\n",
       "Date                                                                          \n",
       "2007-01-01  11.18    15.60    7.84    12.19      9.96        9.99      7.96   \n",
       "2007-02-01  11.22    14.44    7.80    12.65      9.18       10.57      8.67   \n",
       "2007-03-01  11.79    14.79    7.84    12.65      9.53       10.47      8.82   \n",
       "2007-04-01  11.50    15.61    7.63    12.83     10.18       10.21      7.91   \n",
       "2007-05-01  11.51    15.40    6.87    12.98     10.32       10.21      8.81   \n",
       "\n",
       "            Connecticut  Delaware     DC  ...  \\\n",
       "Date                                      ...   \n",
       "2007-01-01        12.58     12.98  14.51  ...   \n",
       "2007-02-01        12.16     13.66  14.30  ...   \n",
       "2007-03-01        12.31     16.54  14.33  ...   \n",
       "2007-04-01        12.19     16.57  13.93  ...   \n",
       "2007-05-01        12.66     17.32  13.83  ...   \n",
       "\n",
       "            U.S. Total Natural Gas Injections into Underground Storage (MMcf)_x  \\\n",
       "Date                                                                              \n",
       "2007-01-01                                            56863.0                     \n",
       "2007-02-01                                            50536.0                     \n",
       "2007-03-01                                           219347.0                     \n",
       "2007-04-01                                           273492.0                     \n",
       "2007-05-01                                           497741.0                     \n",
       "\n",
       "            U.S. Natural  Gas Underground Storage Withdrawals (MMcf)_x  \\\n",
       "Date                                                                     \n",
       "2007-01-01                                           740117.0            \n",
       "2007-02-01                                           782391.0            \n",
       "2007-03-01                                           269760.0            \n",
       "2007-04-01                                           153774.0            \n",
       "2007-05-01                                            38201.0            \n",
       "\n",
       "            U.S. Natural Gas Underground Storage Net Withdrawals (MMcf)_x  \\\n",
       "Date                                                                        \n",
       "2007-01-01                                           683254.0               \n",
       "2007-02-01                                           731856.0               \n",
       "2007-03-01                                            50413.0               \n",
       "2007-04-01                                          -119718.0               \n",
       "2007-05-01                                          -459540.0               \n",
       "\n",
       "            U.S. Total Natural Gas Underground Storage Capacity (MMcf)_y  \\\n",
       "Date                                                                       \n",
       "2007-01-01                                          8287550.0              \n",
       "2007-02-01                                          8282150.0              \n",
       "2007-03-01                                          8317150.0              \n",
       "2007-04-01                                          8311750.0              \n",
       "2007-05-01                                          8327850.0              \n",
       "\n",
       "            U.S. Natural Gas Underground Storage Volume (MMcf)_y  \\\n",
       "Date                                                               \n",
       "2007-01-01                                          6599227.0      \n",
       "2007-02-01                                          5867298.0      \n",
       "2007-03-01                                          5849891.0      \n",
       "2007-04-01                                          5968611.0      \n",
       "2007-05-01                                          6431710.0      \n",
       "\n",
       "            U.S. Total Natural Gas in Underground Storage (Base Gas) (MMcf)_y  \\\n",
       "Date                                                                            \n",
       "2007-01-01                                          4216333.0                   \n",
       "2007-02-01                                          4215728.0                   \n",
       "2007-03-01                                          4246889.0                   \n",
       "2007-04-01                                          4245870.0                   \n",
       "2007-05-01                                          4250470.0                   \n",
       "\n",
       "            U.S. Total Natural Gas in Underground Storage (Working Gas) (MMcf)_y  \\\n",
       "Date                                                                               \n",
       "2007-01-01                                          2382895.0                      \n",
       "2007-02-01                                          1651569.0                      \n",
       "2007-03-01                                          1603002.0                      \n",
       "2007-04-01                                          1722741.0                      \n",
       "2007-05-01                                          2181239.0                      \n",
       "\n",
       "            U.S. Total Natural Gas Injections into Underground Storage (MMcf)_y  \\\n",
       "Date                                                                              \n",
       "2007-01-01                                            56863.0                     \n",
       "2007-02-01                                            50536.0                     \n",
       "2007-03-01                                           219347.0                     \n",
       "2007-04-01                                           273492.0                     \n",
       "2007-05-01                                           497741.0                     \n",
       "\n",
       "            U.S. Natural  Gas Underground Storage Withdrawals (MMcf)_y  \\\n",
       "Date                                                                     \n",
       "2007-01-01                                           740117.0            \n",
       "2007-02-01                                           782391.0            \n",
       "2007-03-01                                           269760.0            \n",
       "2007-04-01                                           153774.0            \n",
       "2007-05-01                                            38201.0            \n",
       "\n",
       "            U.S. Natural Gas Underground Storage Net Withdrawals (MMcf)_y  \n",
       "Date                                                                       \n",
       "2007-01-01                                           683254.0              \n",
       "2007-02-01                                           731856.0              \n",
       "2007-03-01                                            50413.0              \n",
       "2007-04-01                                          -119718.0              \n",
       "2007-05-01                                          -459540.0              \n",
       "\n",
       "[5 rows x 98 columns]"
      ]
     },
     "execution_count": 23,
     "metadata": {},
     "output_type": "execute_result"
    }
   ],
   "source": [
    "combined.head()"
   ]
  },
  {
   "cell_type": "code",
   "execution_count": 24,
   "metadata": {},
   "outputs": [],
   "source": [
    "combined.to_csv(r'combined_data.csv')"
   ]
  },
  {
   "cell_type": "code",
   "execution_count": 24,
   "metadata": {},
   "outputs": [
    {
     "data": {
      "text/html": [
       "<div>\n",
       "<style scoped>\n",
       "    .dataframe tbody tr th:only-of-type {\n",
       "        vertical-align: middle;\n",
       "    }\n",
       "\n",
       "    .dataframe tbody tr th {\n",
       "        vertical-align: top;\n",
       "    }\n",
       "\n",
       "    .dataframe thead th {\n",
       "        text-align: right;\n",
       "    }\n",
       "</style>\n",
       "<table border=\"1\" class=\"dataframe\">\n",
       "  <thead>\n",
       "    <tr style=\"text-align: right;\">\n",
       "      <th></th>\n",
       "      <th>US</th>\n",
       "      <th>Alabama</th>\n",
       "      <th>Alaska</th>\n",
       "      <th>Arizona</th>\n",
       "      <th>Arkansas</th>\n",
       "      <th>California</th>\n",
       "      <th>Colorado</th>\n",
       "      <th>Connecticut</th>\n",
       "      <th>Delaware</th>\n",
       "      <th>DC</th>\n",
       "      <th>...</th>\n",
       "      <th>U.S. Total Natural Gas Injections into Underground Storage (MMcf)_x</th>\n",
       "      <th>U.S. Natural  Gas Underground Storage Withdrawals (MMcf)_x</th>\n",
       "      <th>U.S. Natural Gas Underground Storage Net Withdrawals (MMcf)_x</th>\n",
       "      <th>U.S. Total Natural Gas Underground Storage Capacity (MMcf)_y</th>\n",
       "      <th>U.S. Natural Gas Underground Storage Volume (MMcf)_y</th>\n",
       "      <th>U.S. Total Natural Gas in Underground Storage (Base Gas) (MMcf)_y</th>\n",
       "      <th>U.S. Total Natural Gas in Underground Storage (Working Gas) (MMcf)_y</th>\n",
       "      <th>U.S. Total Natural Gas Injections into Underground Storage (MMcf)_y</th>\n",
       "      <th>U.S. Natural  Gas Underground Storage Withdrawals (MMcf)_y</th>\n",
       "      <th>U.S. Natural Gas Underground Storage Net Withdrawals (MMcf)_y</th>\n",
       "    </tr>\n",
       "  </thead>\n",
       "  <tbody>\n",
       "    <tr>\n",
       "      <th>US</th>\n",
       "      <td>1.000000</td>\n",
       "      <td>0.854921</td>\n",
       "      <td>-0.187750</td>\n",
       "      <td>0.825376</td>\n",
       "      <td>0.774781</td>\n",
       "      <td>0.909712</td>\n",
       "      <td>0.656955</td>\n",
       "      <td>0.940567</td>\n",
       "      <td>0.191807</td>\n",
       "      <td>0.848604</td>\n",
       "      <td>...</td>\n",
       "      <td>0.191561</td>\n",
       "      <td>-0.063550</td>\n",
       "      <td>-0.112363</td>\n",
       "      <td>-0.821004</td>\n",
       "      <td>-0.375323</td>\n",
       "      <td>-0.834597</td>\n",
       "      <td>-0.338287</td>\n",
       "      <td>0.191561</td>\n",
       "      <td>-0.063550</td>\n",
       "      <td>-0.112363</td>\n",
       "    </tr>\n",
       "    <tr>\n",
       "      <th>Alabama</th>\n",
       "      <td>0.854921</td>\n",
       "      <td>1.000000</td>\n",
       "      <td>-0.051071</td>\n",
       "      <td>0.864188</td>\n",
       "      <td>0.704354</td>\n",
       "      <td>0.630583</td>\n",
       "      <td>0.517208</td>\n",
       "      <td>0.853746</td>\n",
       "      <td>0.427485</td>\n",
       "      <td>0.722494</td>\n",
       "      <td>...</td>\n",
       "      <td>0.300103</td>\n",
       "      <td>-0.212829</td>\n",
       "      <td>-0.250532</td>\n",
       "      <td>-0.798527</td>\n",
       "      <td>-0.163254</td>\n",
       "      <td>-0.780069</td>\n",
       "      <td>-0.123938</td>\n",
       "      <td>0.300103</td>\n",
       "      <td>-0.212829</td>\n",
       "      <td>-0.250532</td>\n",
       "    </tr>\n",
       "    <tr>\n",
       "      <th>Alaska</th>\n",
       "      <td>-0.187750</td>\n",
       "      <td>-0.051071</td>\n",
       "      <td>1.000000</td>\n",
       "      <td>-0.031065</td>\n",
       "      <td>0.020624</td>\n",
       "      <td>-0.311287</td>\n",
       "      <td>-0.299458</td>\n",
       "      <td>-0.277188</td>\n",
       "      <td>-0.013519</td>\n",
       "      <td>0.011227</td>\n",
       "      <td>...</td>\n",
       "      <td>-0.329666</td>\n",
       "      <td>0.275083</td>\n",
       "      <td>0.302376</td>\n",
       "      <td>0.044935</td>\n",
       "      <td>-0.056073</td>\n",
       "      <td>0.013287</td>\n",
       "      <td>-0.058217</td>\n",
       "      <td>-0.329666</td>\n",
       "      <td>0.275083</td>\n",
       "      <td>0.302376</td>\n",
       "    </tr>\n",
       "    <tr>\n",
       "      <th>Arizona</th>\n",
       "      <td>0.825376</td>\n",
       "      <td>0.864188</td>\n",
       "      <td>-0.031065</td>\n",
       "      <td>1.000000</td>\n",
       "      <td>0.724973</td>\n",
       "      <td>0.642657</td>\n",
       "      <td>0.322075</td>\n",
       "      <td>0.781630</td>\n",
       "      <td>0.381781</td>\n",
       "      <td>0.772509</td>\n",
       "      <td>...</td>\n",
       "      <td>0.148807</td>\n",
       "      <td>-0.046879</td>\n",
       "      <td>-0.085648</td>\n",
       "      <td>-0.964844</td>\n",
       "      <td>-0.302325</td>\n",
       "      <td>-0.940401</td>\n",
       "      <td>-0.257572</td>\n",
       "      <td>0.148807</td>\n",
       "      <td>-0.046879</td>\n",
       "      <td>-0.085648</td>\n",
       "    </tr>\n",
       "    <tr>\n",
       "      <th>Arkansas</th>\n",
       "      <td>0.774781</td>\n",
       "      <td>0.704354</td>\n",
       "      <td>0.020624</td>\n",
       "      <td>0.724973</td>\n",
       "      <td>1.000000</td>\n",
       "      <td>0.625548</td>\n",
       "      <td>0.469271</td>\n",
       "      <td>0.690319</td>\n",
       "      <td>0.375114</td>\n",
       "      <td>0.677806</td>\n",
       "      <td>...</td>\n",
       "      <td>0.412384</td>\n",
       "      <td>-0.281571</td>\n",
       "      <td>-0.337103</td>\n",
       "      <td>-0.696578</td>\n",
       "      <td>-0.220310</td>\n",
       "      <td>-0.716422</td>\n",
       "      <td>-0.185965</td>\n",
       "      <td>0.412384</td>\n",
       "      <td>-0.281571</td>\n",
       "      <td>-0.337103</td>\n",
       "    </tr>\n",
       "  </tbody>\n",
       "</table>\n",
       "<p>5 rows × 98 columns</p>\n",
       "</div>"
      ],
      "text/plain": [
       "                US   Alabama    Alaska   Arizona  Arkansas  California  \\\n",
       "US        1.000000  0.854921 -0.187750  0.825376  0.774781    0.909712   \n",
       "Alabama   0.854921  1.000000 -0.051071  0.864188  0.704354    0.630583   \n",
       "Alaska   -0.187750 -0.051071  1.000000 -0.031065  0.020624   -0.311287   \n",
       "Arizona   0.825376  0.864188 -0.031065  1.000000  0.724973    0.642657   \n",
       "Arkansas  0.774781  0.704354  0.020624  0.724973  1.000000    0.625548   \n",
       "\n",
       "          Colorado  Connecticut  Delaware        DC  ...  \\\n",
       "US        0.656955     0.940567  0.191807  0.848604  ...   \n",
       "Alabama   0.517208     0.853746  0.427485  0.722494  ...   \n",
       "Alaska   -0.299458    -0.277188 -0.013519  0.011227  ...   \n",
       "Arizona   0.322075     0.781630  0.381781  0.772509  ...   \n",
       "Arkansas  0.469271     0.690319  0.375114  0.677806  ...   \n",
       "\n",
       "          U.S. Total Natural Gas Injections into Underground Storage (MMcf)_x  \\\n",
       "US                                                 0.191561                     \n",
       "Alabama                                            0.300103                     \n",
       "Alaska                                            -0.329666                     \n",
       "Arizona                                            0.148807                     \n",
       "Arkansas                                           0.412384                     \n",
       "\n",
       "          U.S. Natural  Gas Underground Storage Withdrawals (MMcf)_x  \\\n",
       "US                                                -0.063550            \n",
       "Alabama                                           -0.212829            \n",
       "Alaska                                             0.275083            \n",
       "Arizona                                           -0.046879            \n",
       "Arkansas                                          -0.281571            \n",
       "\n",
       "          U.S. Natural Gas Underground Storage Net Withdrawals (MMcf)_x  \\\n",
       "US                                                -0.112363               \n",
       "Alabama                                           -0.250532               \n",
       "Alaska                                             0.302376               \n",
       "Arizona                                           -0.085648               \n",
       "Arkansas                                          -0.337103               \n",
       "\n",
       "          U.S. Total Natural Gas Underground Storage Capacity (MMcf)_y  \\\n",
       "US                                                -0.821004              \n",
       "Alabama                                           -0.798527              \n",
       "Alaska                                             0.044935              \n",
       "Arizona                                           -0.964844              \n",
       "Arkansas                                          -0.696578              \n",
       "\n",
       "          U.S. Natural Gas Underground Storage Volume (MMcf)_y  \\\n",
       "US                                                -0.375323      \n",
       "Alabama                                           -0.163254      \n",
       "Alaska                                            -0.056073      \n",
       "Arizona                                           -0.302325      \n",
       "Arkansas                                          -0.220310      \n",
       "\n",
       "          U.S. Total Natural Gas in Underground Storage (Base Gas) (MMcf)_y  \\\n",
       "US                                                -0.834597                   \n",
       "Alabama                                           -0.780069                   \n",
       "Alaska                                             0.013287                   \n",
       "Arizona                                           -0.940401                   \n",
       "Arkansas                                          -0.716422                   \n",
       "\n",
       "          U.S. Total Natural Gas in Underground Storage (Working Gas) (MMcf)_y  \\\n",
       "US                                                -0.338287                      \n",
       "Alabama                                           -0.123938                      \n",
       "Alaska                                            -0.058217                      \n",
       "Arizona                                           -0.257572                      \n",
       "Arkansas                                          -0.185965                      \n",
       "\n",
       "          U.S. Total Natural Gas Injections into Underground Storage (MMcf)_y  \\\n",
       "US                                                 0.191561                     \n",
       "Alabama                                            0.300103                     \n",
       "Alaska                                            -0.329666                     \n",
       "Arizona                                            0.148807                     \n",
       "Arkansas                                           0.412384                     \n",
       "\n",
       "          U.S. Natural  Gas Underground Storage Withdrawals (MMcf)_y  \\\n",
       "US                                                -0.063550            \n",
       "Alabama                                           -0.212829            \n",
       "Alaska                                             0.275083            \n",
       "Arizona                                           -0.046879            \n",
       "Arkansas                                          -0.281571            \n",
       "\n",
       "          U.S. Natural Gas Underground Storage Net Withdrawals (MMcf)_y  \n",
       "US                                                -0.112363              \n",
       "Alabama                                           -0.250532              \n",
       "Alaska                                             0.302376              \n",
       "Arizona                                           -0.085648              \n",
       "Arkansas                                          -0.337103              \n",
       "\n",
       "[5 rows x 98 columns]"
      ]
     },
     "execution_count": 24,
     "metadata": {},
     "output_type": "execute_result"
    }
   ],
   "source": [
    "#influence_factors_data = combined[['U.S. Natural Gas Gross Withdrawals (MMcf)','U.S. Natural Gas Marketed Production (MMcf)', 'Alabama']]\n",
    "#influence_factors_data\n",
    "#'U.S. Natural Gas Gross Withdrawals (MMcf)', 'U.S. Natural Gas Marketed Production (MMcf)'\n",
    "combined_corr = combined.corr()\n",
    "\n",
    "combined_corr.head()\n"
   ]
  },
  {
   "cell_type": "code",
   "execution_count": 25,
   "metadata": {},
   "outputs": [
    {
     "data": {
      "text/html": [
       "<div>\n",
       "<style scoped>\n",
       "    .dataframe tbody tr th:only-of-type {\n",
       "        vertical-align: middle;\n",
       "    }\n",
       "\n",
       "    .dataframe tbody tr th {\n",
       "        vertical-align: top;\n",
       "    }\n",
       "\n",
       "    .dataframe thead th {\n",
       "        text-align: right;\n",
       "    }\n",
       "</style>\n",
       "<table border=\"1\" class=\"dataframe\">\n",
       "  <thead>\n",
       "    <tr style=\"text-align: right;\">\n",
       "      <th></th>\n",
       "      <th>U.S. Natural Gas Gross Withdrawals (MMcf)</th>\n",
       "      <th>U.S. Natural Gas Marketed Production (MMcf)</th>\n",
       "      <th>US</th>\n",
       "      <th>Alabama</th>\n",
       "    </tr>\n",
       "  </thead>\n",
       "  <tbody>\n",
       "    <tr>\n",
       "      <th>US</th>\n",
       "      <td>-0.662068</td>\n",
       "      <td>-0.660636</td>\n",
       "      <td>1.000000</td>\n",
       "      <td>0.854921</td>\n",
       "    </tr>\n",
       "    <tr>\n",
       "      <th>Alabama</th>\n",
       "      <td>-0.683427</td>\n",
       "      <td>-0.667029</td>\n",
       "      <td>0.854921</td>\n",
       "      <td>1.000000</td>\n",
       "    </tr>\n",
       "    <tr>\n",
       "      <th>Alaska</th>\n",
       "      <td>0.028959</td>\n",
       "      <td>-0.020083</td>\n",
       "      <td>-0.187750</td>\n",
       "      <td>-0.051071</td>\n",
       "    </tr>\n",
       "    <tr>\n",
       "      <th>Arizona</th>\n",
       "      <td>-0.827012</td>\n",
       "      <td>-0.840257</td>\n",
       "      <td>0.825376</td>\n",
       "      <td>0.864188</td>\n",
       "    </tr>\n",
       "    <tr>\n",
       "      <th>Arkansas</th>\n",
       "      <td>-0.498805</td>\n",
       "      <td>-0.494590</td>\n",
       "      <td>0.774781</td>\n",
       "      <td>0.704354</td>\n",
       "    </tr>\n",
       "  </tbody>\n",
       "</table>\n",
       "</div>"
      ],
      "text/plain": [
       "          U.S. Natural Gas Gross Withdrawals (MMcf)  \\\n",
       "US                                        -0.662068   \n",
       "Alabama                                   -0.683427   \n",
       "Alaska                                     0.028959   \n",
       "Arizona                                   -0.827012   \n",
       "Arkansas                                  -0.498805   \n",
       "\n",
       "          U.S. Natural Gas Marketed Production (MMcf)        US   Alabama  \n",
       "US                                          -0.660636  1.000000  0.854921  \n",
       "Alabama                                     -0.667029  0.854921  1.000000  \n",
       "Alaska                                      -0.020083 -0.187750 -0.051071  \n",
       "Arizona                                     -0.840257  0.825376  0.864188  \n",
       "Arkansas                                    -0.494590  0.774781  0.704354  "
      ]
     },
     "execution_count": 25,
     "metadata": {},
     "output_type": "execute_result"
    }
   ],
   "source": [
    "influence_factors_data = combined_corr[['U.S. Natural Gas Gross Withdrawals (MMcf)','U.S. Natural Gas Marketed Production (MMcf)', 'US', 'Alabama']]\n",
    "influence_factors_data.head()"
   ]
  },
  {
   "cell_type": "code",
   "execution_count": 41,
   "metadata": {},
   "outputs": [
    {
     "data": {
      "application/vnd.plotly.v1+json": {
       "config": {
        "plotlyServerURL": "https://plot.ly"
       },
       "data": [
        {
         "hovertemplate": "U.S. Natural Gas Marketed Production (MMcf)=%{x}<br>US=%{marker.color}<extra></extra>",
         "legendgroup": "",
         "marker": {
          "color": [
           11.18,
           11.22,
           11.79,
           11.5,
           11.51,
           11.81,
           11.63,
           11.19,
           10.92,
           10.93,
           11.23,
           11.24,
           11.2,
           11.49,
           12.03,
           12.63,
           13.51,
           14.68,
           15.64,
           14.19,
           13.12,
           12.06,
           11.72,
           11.61,
           11.28,
           10.98,
           10.46,
           9.7,
           9.42,
           9.53,
           9.74,
           9.52,
           9.35,
           8.93,
           9.45,
           9.1,
           9.65,
           9.71,
           9.7,
           9.57,
           9.5,
           9.72,
           10.04,
           9.94,
           9.56,
           9.27,
           8.86,
           8.82,
           8.74,
           8.88,
           8.89,
           9.02,
           9.35,
           9.57,
           9.58,
           9.77,
           9.46,
           8.94,
           8.62,
           8.3,
           8.04,
           7.76,
           8.16,
           8.04,
           8.14,
           8.44,
           8.52,
           8.71,
           8.35,
           8.07,
           7.99,
           8.18
          ],
          "coloraxis": "coloraxis",
          "symbol": "circle"
         },
         "mode": "markers",
         "name": "",
         "orientation": "v",
         "showlegend": false,
         "type": "scatter",
         "x": [
          1652470,
          1513461,
          1703085,
          1626673,
          1722549,
          1666465,
          1703237,
          1712771,
          1674745,
          1733373,
          1712314,
          1775203,
          1765447,
          1666095,
          1804065,
          1740229,
          1797917,
          1760998,
          1852724,
          1826392,
          1559028,
          1754251,
          1757942,
          1826966,
          1870465,
          1704919,
          1875053,
          1783234,
          1843327,
          1791993,
          1827798,
          1842284,
          1733980,
          1814913,
          1757520,
          1802449,
          1824143,
          1682869,
          1864519,
          1813312,
          1886476,
          1802492,
          1896082,
          1917995,
          1861038,
          1956114,
          1892658,
          1984174,
          1952732,
          1728929,
          2002359,
          1960847,
          2030695,
          1954453,
          2032795,
          2056617,
          1987134,
          2118735,
          2076152,
          2134904,
          2152698,
          1974431,
          2118693,
          2044519,
          2121367,
          2039909,
          2162384,
          2151742,
          2094289,
          2168774,
          2101833,
          2152640
         ],
         "xaxis": "x",
         "y": [
          11.18,
          11.22,
          11.79,
          11.5,
          11.51,
          11.81,
          11.63,
          11.19,
          10.92,
          10.93,
          11.23,
          11.24,
          11.2,
          11.49,
          12.03,
          12.63,
          13.51,
          14.68,
          15.64,
          14.19,
          13.12,
          12.06,
          11.72,
          11.61,
          11.28,
          10.98,
          10.46,
          9.7,
          9.42,
          9.53,
          9.74,
          9.52,
          9.35,
          8.93,
          9.45,
          9.1,
          9.65,
          9.71,
          9.7,
          9.57,
          9.5,
          9.72,
          10.04,
          9.94,
          9.56,
          9.27,
          8.86,
          8.82,
          8.74,
          8.88,
          8.89,
          9.02,
          9.35,
          9.57,
          9.58,
          9.77,
          9.46,
          8.94,
          8.62,
          8.3,
          8.04,
          7.76,
          8.16,
          8.04,
          8.14,
          8.44,
          8.52,
          8.71,
          8.35,
          8.07,
          7.99,
          8.18
         ],
         "yaxis": "y"
        }
       ],
       "layout": {
        "autosize": true,
        "coloraxis": {
         "colorbar": {
          "title": {
           "text": "US"
          }
         },
         "colorscale": [
          [
           0,
           "#0d0887"
          ],
          [
           0.1111111111111111,
           "#46039f"
          ],
          [
           0.2222222222222222,
           "#7201a8"
          ],
          [
           0.3333333333333333,
           "#9c179e"
          ],
          [
           0.4444444444444444,
           "#bd3786"
          ],
          [
           0.5555555555555556,
           "#d8576b"
          ],
          [
           0.6666666666666666,
           "#ed7953"
          ],
          [
           0.7777777777777778,
           "#fb9f3a"
          ],
          [
           0.8888888888888888,
           "#fdca26"
          ],
          [
           1,
           "#f0f921"
          ]
         ]
        },
        "legend": {
         "tracegroupgap": 0
        },
        "template": {
         "data": {
          "bar": [
           {
            "error_x": {
             "color": "#2a3f5f"
            },
            "error_y": {
             "color": "#2a3f5f"
            },
            "marker": {
             "line": {
              "color": "#E5ECF6",
              "width": 0.5
             }
            },
            "type": "bar"
           }
          ],
          "barpolar": [
           {
            "marker": {
             "line": {
              "color": "#E5ECF6",
              "width": 0.5
             }
            },
            "type": "barpolar"
           }
          ],
          "carpet": [
           {
            "aaxis": {
             "endlinecolor": "#2a3f5f",
             "gridcolor": "white",
             "linecolor": "white",
             "minorgridcolor": "white",
             "startlinecolor": "#2a3f5f"
            },
            "baxis": {
             "endlinecolor": "#2a3f5f",
             "gridcolor": "white",
             "linecolor": "white",
             "minorgridcolor": "white",
             "startlinecolor": "#2a3f5f"
            },
            "type": "carpet"
           }
          ],
          "choropleth": [
           {
            "colorbar": {
             "outlinewidth": 0,
             "ticks": ""
            },
            "type": "choropleth"
           }
          ],
          "contour": [
           {
            "colorbar": {
             "outlinewidth": 0,
             "ticks": ""
            },
            "colorscale": [
             [
              0,
              "#0d0887"
             ],
             [
              0.1111111111111111,
              "#46039f"
             ],
             [
              0.2222222222222222,
              "#7201a8"
             ],
             [
              0.3333333333333333,
              "#9c179e"
             ],
             [
              0.4444444444444444,
              "#bd3786"
             ],
             [
              0.5555555555555556,
              "#d8576b"
             ],
             [
              0.6666666666666666,
              "#ed7953"
             ],
             [
              0.7777777777777778,
              "#fb9f3a"
             ],
             [
              0.8888888888888888,
              "#fdca26"
             ],
             [
              1,
              "#f0f921"
             ]
            ],
            "type": "contour"
           }
          ],
          "contourcarpet": [
           {
            "colorbar": {
             "outlinewidth": 0,
             "ticks": ""
            },
            "type": "contourcarpet"
           }
          ],
          "heatmap": [
           {
            "colorbar": {
             "outlinewidth": 0,
             "ticks": ""
            },
            "colorscale": [
             [
              0,
              "#0d0887"
             ],
             [
              0.1111111111111111,
              "#46039f"
             ],
             [
              0.2222222222222222,
              "#7201a8"
             ],
             [
              0.3333333333333333,
              "#9c179e"
             ],
             [
              0.4444444444444444,
              "#bd3786"
             ],
             [
              0.5555555555555556,
              "#d8576b"
             ],
             [
              0.6666666666666666,
              "#ed7953"
             ],
             [
              0.7777777777777778,
              "#fb9f3a"
             ],
             [
              0.8888888888888888,
              "#fdca26"
             ],
             [
              1,
              "#f0f921"
             ]
            ],
            "type": "heatmap"
           }
          ],
          "heatmapgl": [
           {
            "colorbar": {
             "outlinewidth": 0,
             "ticks": ""
            },
            "colorscale": [
             [
              0,
              "#0d0887"
             ],
             [
              0.1111111111111111,
              "#46039f"
             ],
             [
              0.2222222222222222,
              "#7201a8"
             ],
             [
              0.3333333333333333,
              "#9c179e"
             ],
             [
              0.4444444444444444,
              "#bd3786"
             ],
             [
              0.5555555555555556,
              "#d8576b"
             ],
             [
              0.6666666666666666,
              "#ed7953"
             ],
             [
              0.7777777777777778,
              "#fb9f3a"
             ],
             [
              0.8888888888888888,
              "#fdca26"
             ],
             [
              1,
              "#f0f921"
             ]
            ],
            "type": "heatmapgl"
           }
          ],
          "histogram": [
           {
            "marker": {
             "colorbar": {
              "outlinewidth": 0,
              "ticks": ""
             }
            },
            "type": "histogram"
           }
          ],
          "histogram2d": [
           {
            "colorbar": {
             "outlinewidth": 0,
             "ticks": ""
            },
            "colorscale": [
             [
              0,
              "#0d0887"
             ],
             [
              0.1111111111111111,
              "#46039f"
             ],
             [
              0.2222222222222222,
              "#7201a8"
             ],
             [
              0.3333333333333333,
              "#9c179e"
             ],
             [
              0.4444444444444444,
              "#bd3786"
             ],
             [
              0.5555555555555556,
              "#d8576b"
             ],
             [
              0.6666666666666666,
              "#ed7953"
             ],
             [
              0.7777777777777778,
              "#fb9f3a"
             ],
             [
              0.8888888888888888,
              "#fdca26"
             ],
             [
              1,
              "#f0f921"
             ]
            ],
            "type": "histogram2d"
           }
          ],
          "histogram2dcontour": [
           {
            "colorbar": {
             "outlinewidth": 0,
             "ticks": ""
            },
            "colorscale": [
             [
              0,
              "#0d0887"
             ],
             [
              0.1111111111111111,
              "#46039f"
             ],
             [
              0.2222222222222222,
              "#7201a8"
             ],
             [
              0.3333333333333333,
              "#9c179e"
             ],
             [
              0.4444444444444444,
              "#bd3786"
             ],
             [
              0.5555555555555556,
              "#d8576b"
             ],
             [
              0.6666666666666666,
              "#ed7953"
             ],
             [
              0.7777777777777778,
              "#fb9f3a"
             ],
             [
              0.8888888888888888,
              "#fdca26"
             ],
             [
              1,
              "#f0f921"
             ]
            ],
            "type": "histogram2dcontour"
           }
          ],
          "mesh3d": [
           {
            "colorbar": {
             "outlinewidth": 0,
             "ticks": ""
            },
            "type": "mesh3d"
           }
          ],
          "parcoords": [
           {
            "line": {
             "colorbar": {
              "outlinewidth": 0,
              "ticks": ""
             }
            },
            "type": "parcoords"
           }
          ],
          "pie": [
           {
            "automargin": true,
            "type": "pie"
           }
          ],
          "scatter": [
           {
            "marker": {
             "colorbar": {
              "outlinewidth": 0,
              "ticks": ""
             }
            },
            "type": "scatter"
           }
          ],
          "scatter3d": [
           {
            "line": {
             "colorbar": {
              "outlinewidth": 0,
              "ticks": ""
             }
            },
            "marker": {
             "colorbar": {
              "outlinewidth": 0,
              "ticks": ""
             }
            },
            "type": "scatter3d"
           }
          ],
          "scattercarpet": [
           {
            "marker": {
             "colorbar": {
              "outlinewidth": 0,
              "ticks": ""
             }
            },
            "type": "scattercarpet"
           }
          ],
          "scattergeo": [
           {
            "marker": {
             "colorbar": {
              "outlinewidth": 0,
              "ticks": ""
             }
            },
            "type": "scattergeo"
           }
          ],
          "scattergl": [
           {
            "marker": {
             "colorbar": {
              "outlinewidth": 0,
              "ticks": ""
             }
            },
            "type": "scattergl"
           }
          ],
          "scattermapbox": [
           {
            "marker": {
             "colorbar": {
              "outlinewidth": 0,
              "ticks": ""
             }
            },
            "type": "scattermapbox"
           }
          ],
          "scatterpolar": [
           {
            "marker": {
             "colorbar": {
              "outlinewidth": 0,
              "ticks": ""
             }
            },
            "type": "scatterpolar"
           }
          ],
          "scatterpolargl": [
           {
            "marker": {
             "colorbar": {
              "outlinewidth": 0,
              "ticks": ""
             }
            },
            "type": "scatterpolargl"
           }
          ],
          "scatterternary": [
           {
            "marker": {
             "colorbar": {
              "outlinewidth": 0,
              "ticks": ""
             }
            },
            "type": "scatterternary"
           }
          ],
          "surface": [
           {
            "colorbar": {
             "outlinewidth": 0,
             "ticks": ""
            },
            "colorscale": [
             [
              0,
              "#0d0887"
             ],
             [
              0.1111111111111111,
              "#46039f"
             ],
             [
              0.2222222222222222,
              "#7201a8"
             ],
             [
              0.3333333333333333,
              "#9c179e"
             ],
             [
              0.4444444444444444,
              "#bd3786"
             ],
             [
              0.5555555555555556,
              "#d8576b"
             ],
             [
              0.6666666666666666,
              "#ed7953"
             ],
             [
              0.7777777777777778,
              "#fb9f3a"
             ],
             [
              0.8888888888888888,
              "#fdca26"
             ],
             [
              1,
              "#f0f921"
             ]
            ],
            "type": "surface"
           }
          ],
          "table": [
           {
            "cells": {
             "fill": {
              "color": "#EBF0F8"
             },
             "line": {
              "color": "white"
             }
            },
            "header": {
             "fill": {
              "color": "#C8D4E3"
             },
             "line": {
              "color": "white"
             }
            },
            "type": "table"
           }
          ]
         },
         "layout": {
          "annotationdefaults": {
           "arrowcolor": "#2a3f5f",
           "arrowhead": 0,
           "arrowwidth": 1
          },
          "autotypenumbers": "strict",
          "coloraxis": {
           "colorbar": {
            "outlinewidth": 0,
            "ticks": ""
           }
          },
          "colorscale": {
           "diverging": [
            [
             0,
             "#8e0152"
            ],
            [
             0.1,
             "#c51b7d"
            ],
            [
             0.2,
             "#de77ae"
            ],
            [
             0.3,
             "#f1b6da"
            ],
            [
             0.4,
             "#fde0ef"
            ],
            [
             0.5,
             "#f7f7f7"
            ],
            [
             0.6,
             "#e6f5d0"
            ],
            [
             0.7,
             "#b8e186"
            ],
            [
             0.8,
             "#7fbc41"
            ],
            [
             0.9,
             "#4d9221"
            ],
            [
             1,
             "#276419"
            ]
           ],
           "sequential": [
            [
             0,
             "#0d0887"
            ],
            [
             0.1111111111111111,
             "#46039f"
            ],
            [
             0.2222222222222222,
             "#7201a8"
            ],
            [
             0.3333333333333333,
             "#9c179e"
            ],
            [
             0.4444444444444444,
             "#bd3786"
            ],
            [
             0.5555555555555556,
             "#d8576b"
            ],
            [
             0.6666666666666666,
             "#ed7953"
            ],
            [
             0.7777777777777778,
             "#fb9f3a"
            ],
            [
             0.8888888888888888,
             "#fdca26"
            ],
            [
             1,
             "#f0f921"
            ]
           ],
           "sequentialminus": [
            [
             0,
             "#0d0887"
            ],
            [
             0.1111111111111111,
             "#46039f"
            ],
            [
             0.2222222222222222,
             "#7201a8"
            ],
            [
             0.3333333333333333,
             "#9c179e"
            ],
            [
             0.4444444444444444,
             "#bd3786"
            ],
            [
             0.5555555555555556,
             "#d8576b"
            ],
            [
             0.6666666666666666,
             "#ed7953"
            ],
            [
             0.7777777777777778,
             "#fb9f3a"
            ],
            [
             0.8888888888888888,
             "#fdca26"
            ],
            [
             1,
             "#f0f921"
            ]
           ]
          },
          "colorway": [
           "#636efa",
           "#EF553B",
           "#00cc96",
           "#ab63fa",
           "#FFA15A",
           "#19d3f3",
           "#FF6692",
           "#B6E880",
           "#FF97FF",
           "#FECB52"
          ],
          "font": {
           "color": "#2a3f5f"
          },
          "geo": {
           "bgcolor": "white",
           "lakecolor": "white",
           "landcolor": "#E5ECF6",
           "showlakes": true,
           "showland": true,
           "subunitcolor": "white"
          },
          "hoverlabel": {
           "align": "left"
          },
          "hovermode": "closest",
          "mapbox": {
           "style": "light"
          },
          "paper_bgcolor": "white",
          "plot_bgcolor": "#E5ECF6",
          "polar": {
           "angularaxis": {
            "gridcolor": "white",
            "linecolor": "white",
            "ticks": ""
           },
           "bgcolor": "#E5ECF6",
           "radialaxis": {
            "gridcolor": "white",
            "linecolor": "white",
            "ticks": ""
           }
          },
          "scene": {
           "xaxis": {
            "backgroundcolor": "#E5ECF6",
            "gridcolor": "white",
            "gridwidth": 2,
            "linecolor": "white",
            "showbackground": true,
            "ticks": "",
            "zerolinecolor": "white"
           },
           "yaxis": {
            "backgroundcolor": "#E5ECF6",
            "gridcolor": "white",
            "gridwidth": 2,
            "linecolor": "white",
            "showbackground": true,
            "ticks": "",
            "zerolinecolor": "white"
           },
           "zaxis": {
            "backgroundcolor": "#E5ECF6",
            "gridcolor": "white",
            "gridwidth": 2,
            "linecolor": "white",
            "showbackground": true,
            "ticks": "",
            "zerolinecolor": "white"
           }
          },
          "shapedefaults": {
           "line": {
            "color": "#2a3f5f"
           }
          },
          "ternary": {
           "aaxis": {
            "gridcolor": "white",
            "linecolor": "white",
            "ticks": ""
           },
           "baxis": {
            "gridcolor": "white",
            "linecolor": "white",
            "ticks": ""
           },
           "bgcolor": "#E5ECF6",
           "caxis": {
            "gridcolor": "white",
            "linecolor": "white",
            "ticks": ""
           }
          },
          "title": {
           "x": 0.05
          },
          "xaxis": {
           "automargin": true,
           "gridcolor": "white",
           "linecolor": "white",
           "ticks": "",
           "title": {
            "standoff": 15
           },
           "zerolinecolor": "white",
           "zerolinewidth": 2
          },
          "yaxis": {
           "automargin": true,
           "gridcolor": "white",
           "linecolor": "white",
           "ticks": "",
           "title": {
            "standoff": 15
           },
           "zerolinecolor": "white",
           "zerolinewidth": 2
          }
         }
        },
        "title": {
         "text": "Production vs Price"
        },
        "xaxis": {
         "anchor": "y",
         "autorange": true,
         "domain": [
          0,
          1
         ],
         "range": [
          1471710.2891955373,
          2210524.710804463
         ],
         "title": {
          "text": "U.S. Natural Gas Marketed Production (MMcf)"
         },
         "type": "linear"
        },
        "yaxis": {
         "anchor": "x",
         "autorange": true,
         "domain": [
          0,
          1
         ],
         "range": [
          7.1828025477707005,
          16.2171974522293
         ],
         "title": {
          "text": "US"
         },
         "type": "linear"
        }
       }
      },
      "image/png": "[encoded data removed]",
      "text/html": [
       "<div>                            <div id=\"d8ba7860-a040-4bb7-b5c4-fef5b177cf3a\" class=\"plotly-graph-div\" style=\"height:525px; width:100%;\"></div>            <script type=\"text/javascript\">                require([\"plotly\"], function(Plotly) {                    window.PLOTLYENV=window.PLOTLYENV || {};                                    if (document.getElementById(\"d8ba7860-a040-4bb7-b5c4-fef5b177cf3a\")) {                    Plotly.newPlot(                        \"d8ba7860-a040-4bb7-b5c4-fef5b177cf3a\",                        [{\"hovertemplate\": \"U.S. Natural Gas Marketed Production (MMcf)=%{x}<br>US=%{marker.color}<extra></extra>\", \"legendgroup\": \"\", \"marker\": {\"color\": [11.18, 11.22, 11.79, 11.5, 11.51, 11.81, 11.63, 11.19, 10.92, 10.93, 11.23, 11.24, 11.2, 11.49, 12.03, 12.63, 13.51, 14.68, 15.64, 14.19, 13.12, 12.06, 11.72, 11.61, 11.28, 10.98, 10.46, 9.7, 9.42, 9.53, 9.74, 9.52, 9.35, 8.93, 9.45, 9.1, 9.65, 9.71, 9.7, 9.57, 9.5, 9.72, 10.04, 9.94, 9.56, 9.27, 8.86, 8.82, 8.74, 8.88, 8.89, 9.02, 9.35, 9.57, 9.58, 9.77, 9.46, 8.94, 8.62, 8.3, 8.04, 7.76, 8.16, 8.04, 8.14, 8.44, 8.52, 8.71, 8.35, 8.07, 7.99, 8.18], \"coloraxis\": \"coloraxis\", \"symbol\": \"circle\"}, \"mode\": \"markers\", \"name\": \"\", \"orientation\": \"v\", \"showlegend\": false, \"type\": \"scatter\", \"x\": [1652470, 1513461, 1703085, 1626673, 1722549, 1666465, 1703237, 1712771, 1674745, 1733373, 1712314, 1775203, 1765447, 1666095, 1804065, 1740229, 1797917, 1760998, 1852724, 1826392, 1559028, 1754251, 1757942, 1826966, 1870465, 1704919, 1875053, 1783234, 1843327, 1791993, 1827798, 1842284, 1733980, 1814913, 1757520, 1802449, 1824143, 1682869, 1864519, 1813312, 1886476, 1802492, 1896082, 1917995, 1861038, 1956114, 1892658, 1984174, 1952732, 1728929, 2002359, 1960847, 2030695, 1954453, 2032795, 2056617, 1987134, 2118735, 2076152, 2134904, 2152698, 1974431, 2118693, 2044519, 2121367, 2039909, 2162384, 2151742, 2094289, 2168774, 2101833, 2152640], \"xaxis\": \"x\", \"y\": [11.18, 11.22, 11.79, 11.5, 11.51, 11.81, 11.63, 11.19, 10.92, 10.93, 11.23, 11.24, 11.2, 11.49, 12.03, 12.63, 13.51, 14.68, 15.64, 14.19, 13.12, 12.06, 11.72, 11.61, 11.28, 10.98, 10.46, 9.7, 9.42, 9.53, 9.74, 9.52, 9.35, 8.93, 9.45, 9.1, 9.65, 9.71, 9.7, 9.57, 9.5, 9.72, 10.04, 9.94, 9.56, 9.27, 8.86, 8.82, 8.74, 8.88, 8.89, 9.02, 9.35, 9.57, 9.58, 9.77, 9.46, 8.94, 8.62, 8.3, 8.04, 7.76, 8.16, 8.04, 8.14, 8.44, 8.52, 8.71, 8.35, 8.07, 7.99, 8.18], \"yaxis\": \"y\"}],                        {\"coloraxis\": {\"colorbar\": {\"title\": {\"text\": \"US\"}}, \"colorscale\": [[0.0, \"#0d0887\"], [0.1111111111111111, \"#46039f\"], [0.2222222222222222, \"#7201a8\"], [0.3333333333333333, \"#9c179e\"], [0.4444444444444444, \"#bd3786\"], [0.5555555555555556, \"#d8576b\"], [0.6666666666666666, \"#ed7953\"], [0.7777777777777778, \"#fb9f3a\"], [0.8888888888888888, \"#fdca26\"], [1.0, \"#f0f921\"]]}, \"legend\": {\"tracegroupgap\": 0}, \"template\": {\"data\": {\"bar\": [{\"error_x\": {\"color\": \"#2a3f5f\"}, \"error_y\": {\"color\": \"#2a3f5f\"}, \"marker\": {\"line\": {\"color\": \"#E5ECF6\", \"width\": 0.5}}, \"type\": \"bar\"}], \"barpolar\": [{\"marker\": {\"line\": {\"color\": \"#E5ECF6\", \"width\": 0.5}}, \"type\": \"barpolar\"}], \"carpet\": [{\"aaxis\": {\"endlinecolor\": \"#2a3f5f\", \"gridcolor\": \"white\", \"linecolor\": \"white\", \"minorgridcolor\": \"white\", \"startlinecolor\": \"#2a3f5f\"}, \"baxis\": {\"endlinecolor\": \"#2a3f5f\", \"gridcolor\": \"white\", \"linecolor\": \"white\", \"minorgridcolor\": \"white\", \"startlinecolor\": \"#2a3f5f\"}, \"type\": \"carpet\"}], \"choropleth\": [{\"colorbar\": {\"outlinewidth\": 0, \"ticks\": \"\"}, \"type\": \"choropleth\"}], \"contour\": [{\"colorbar\": {\"outlinewidth\": 0, \"ticks\": \"\"}, \"colorscale\": [[0.0, \"#0d0887\"], [0.1111111111111111, \"#46039f\"], [0.2222222222222222, \"#7201a8\"], [0.3333333333333333, \"#9c179e\"], [0.4444444444444444, \"#bd3786\"], [0.5555555555555556, \"#d8576b\"], [0.6666666666666666, \"#ed7953\"], [0.7777777777777778, \"#fb9f3a\"], [0.8888888888888888, \"#fdca26\"], [1.0, \"#f0f921\"]], \"type\": \"contour\"}], \"contourcarpet\": [{\"colorbar\": {\"outlinewidth\": 0, \"ticks\": \"\"}, \"type\": \"contourcarpet\"}], \"heatmap\": [{\"colorbar\": {\"outlinewidth\": 0, \"ticks\": \"\"}, \"colorscale\": [[0.0, \"#0d0887\"], [0.1111111111111111, \"#46039f\"], [0.2222222222222222, \"#7201a8\"], [0.3333333333333333, \"#9c179e\"], [0.4444444444444444, \"#bd3786\"], [0.5555555555555556, \"#d8576b\"], [0.6666666666666666, \"#ed7953\"], [0.7777777777777778, \"#fb9f3a\"], [0.8888888888888888, \"#fdca26\"], [1.0, \"#f0f921\"]], \"type\": \"heatmap\"}], \"heatmapgl\": [{\"colorbar\": {\"outlinewidth\": 0, \"ticks\": \"\"}, \"colorscale\": [[0.0, \"#0d0887\"], [0.1111111111111111, \"#46039f\"], [0.2222222222222222, \"#7201a8\"], [0.3333333333333333, \"#9c179e\"], [0.4444444444444444, \"#bd3786\"], [0.5555555555555556, \"#d8576b\"], [0.6666666666666666, \"#ed7953\"], [0.7777777777777778, \"#fb9f3a\"], [0.8888888888888888, \"#fdca26\"], [1.0, \"#f0f921\"]], \"type\": \"heatmapgl\"}], \"histogram\": [{\"marker\": {\"colorbar\": {\"outlinewidth\": 0, \"ticks\": \"\"}}, \"type\": \"histogram\"}], \"histogram2d\": [{\"colorbar\": {\"outlinewidth\": 0, \"ticks\": \"\"}, \"colorscale\": [[0.0, \"#0d0887\"], [0.1111111111111111, \"#46039f\"], [0.2222222222222222, \"#7201a8\"], [0.3333333333333333, \"#9c179e\"], [0.4444444444444444, \"#bd3786\"], [0.5555555555555556, \"#d8576b\"], [0.6666666666666666, \"#ed7953\"], [0.7777777777777778, \"#fb9f3a\"], [0.8888888888888888, \"#fdca26\"], [1.0, \"#f0f921\"]], \"type\": \"histogram2d\"}], \"histogram2dcontour\": [{\"colorbar\": {\"outlinewidth\": 0, \"ticks\": \"\"}, \"colorscale\": [[0.0, \"#0d0887\"], [0.1111111111111111, \"#46039f\"], [0.2222222222222222, \"#7201a8\"], [0.3333333333333333, \"#9c179e\"], [0.4444444444444444, \"#bd3786\"], [0.5555555555555556, \"#d8576b\"], [0.6666666666666666, \"#ed7953\"], [0.7777777777777778, \"#fb9f3a\"], [0.8888888888888888, \"#fdca26\"], [1.0, \"#f0f921\"]], \"type\": \"histogram2dcontour\"}], \"mesh3d\": [{\"colorbar\": {\"outlinewidth\": 0, \"ticks\": \"\"}, \"type\": \"mesh3d\"}], \"parcoords\": [{\"line\": {\"colorbar\": {\"outlinewidth\": 0, \"ticks\": \"\"}}, \"type\": \"parcoords\"}], \"pie\": [{\"automargin\": true, \"type\": \"pie\"}], \"scatter\": [{\"marker\": {\"colorbar\": {\"outlinewidth\": 0, \"ticks\": \"\"}}, \"type\": \"scatter\"}], \"scatter3d\": [{\"line\": {\"colorbar\": {\"outlinewidth\": 0, \"ticks\": \"\"}}, \"marker\": {\"colorbar\": {\"outlinewidth\": 0, \"ticks\": \"\"}}, \"type\": \"scatter3d\"}], \"scattercarpet\": [{\"marker\": {\"colorbar\": {\"outlinewidth\": 0, \"ticks\": \"\"}}, \"type\": \"scattercarpet\"}], \"scattergeo\": [{\"marker\": {\"colorbar\": {\"outlinewidth\": 0, \"ticks\": \"\"}}, \"type\": \"scattergeo\"}], \"scattergl\": [{\"marker\": {\"colorbar\": {\"outlinewidth\": 0, \"ticks\": \"\"}}, \"type\": \"scattergl\"}], \"scattermapbox\": [{\"marker\": {\"colorbar\": {\"outlinewidth\": 0, \"ticks\": \"\"}}, \"type\": \"scattermapbox\"}], \"scatterpolar\": [{\"marker\": {\"colorbar\": {\"outlinewidth\": 0, \"ticks\": \"\"}}, \"type\": \"scatterpolar\"}], \"scatterpolargl\": [{\"marker\": {\"colorbar\": {\"outlinewidth\": 0, \"ticks\": \"\"}}, \"type\": \"scatterpolargl\"}], \"scatterternary\": [{\"marker\": {\"colorbar\": {\"outlinewidth\": 0, \"ticks\": \"\"}}, \"type\": \"scatterternary\"}], \"surface\": [{\"colorbar\": {\"outlinewidth\": 0, \"ticks\": \"\"}, \"colorscale\": [[0.0, \"#0d0887\"], [0.1111111111111111, \"#46039f\"], [0.2222222222222222, \"#7201a8\"], [0.3333333333333333, \"#9c179e\"], [0.4444444444444444, \"#bd3786\"], [0.5555555555555556, \"#d8576b\"], [0.6666666666666666, \"#ed7953\"], [0.7777777777777778, \"#fb9f3a\"], [0.8888888888888888, \"#fdca26\"], [1.0, \"#f0f921\"]], \"type\": \"surface\"}], \"table\": [{\"cells\": {\"fill\": {\"color\": \"#EBF0F8\"}, \"line\": {\"color\": \"white\"}}, \"header\": {\"fill\": {\"color\": \"#C8D4E3\"}, \"line\": {\"color\": \"white\"}}, \"type\": \"table\"}]}, \"layout\": {\"annotationdefaults\": {\"arrowcolor\": \"#2a3f5f\", \"arrowhead\": 0, \"arrowwidth\": 1}, \"autotypenumbers\": \"strict\", \"coloraxis\": {\"colorbar\": {\"outlinewidth\": 0, \"ticks\": \"\"}}, \"colorscale\": {\"diverging\": [[0, \"#8e0152\"], [0.1, \"#c51b7d\"], [0.2, \"#de77ae\"], [0.3, \"#f1b6da\"], [0.4, \"#fde0ef\"], [0.5, \"#f7f7f7\"], [0.6, \"#e6f5d0\"], [0.7, \"#b8e186\"], [0.8, \"#7fbc41\"], [0.9, \"#4d9221\"], [1, \"#276419\"]], \"sequential\": [[0.0, \"#0d0887\"], [0.1111111111111111, \"#46039f\"], [0.2222222222222222, \"#7201a8\"], [0.3333333333333333, \"#9c179e\"], [0.4444444444444444, \"#bd3786\"], [0.5555555555555556, \"#d8576b\"], [0.6666666666666666, \"#ed7953\"], [0.7777777777777778, \"#fb9f3a\"], [0.8888888888888888, \"#fdca26\"], [1.0, \"#f0f921\"]], \"sequentialminus\": [[0.0, \"#0d0887\"], [0.1111111111111111, \"#46039f\"], [0.2222222222222222, \"#7201a8\"], [0.3333333333333333, \"#9c179e\"], [0.4444444444444444, \"#bd3786\"], [0.5555555555555556, \"#d8576b\"], [0.6666666666666666, \"#ed7953\"], [0.7777777777777778, \"#fb9f3a\"], [0.8888888888888888, \"#fdca26\"], [1.0, \"#f0f921\"]]}, \"colorway\": [\"#636efa\", \"#EF553B\", \"#00cc96\", \"#ab63fa\", \"#FFA15A\", \"#19d3f3\", \"#FF6692\", \"#B6E880\", \"#FF97FF\", \"#FECB52\"], \"font\": {\"color\": \"#2a3f5f\"}, \"geo\": {\"bgcolor\": \"white\", \"lakecolor\": \"white\", \"landcolor\": \"#E5ECF6\", \"showlakes\": true, \"showland\": true, \"subunitcolor\": \"white\"}, \"hoverlabel\": {\"align\": \"left\"}, \"hovermode\": \"closest\", \"mapbox\": {\"style\": \"light\"}, \"paper_bgcolor\": \"white\", \"plot_bgcolor\": \"#E5ECF6\", \"polar\": {\"angularaxis\": {\"gridcolor\": \"white\", \"linecolor\": \"white\", \"ticks\": \"\"}, \"bgcolor\": \"#E5ECF6\", \"radialaxis\": {\"gridcolor\": \"white\", \"linecolor\": \"white\", \"ticks\": \"\"}}, \"scene\": {\"xaxis\": {\"backgroundcolor\": \"#E5ECF6\", \"gridcolor\": \"white\", \"gridwidth\": 2, \"linecolor\": \"white\", \"showbackground\": true, \"ticks\": \"\", \"zerolinecolor\": \"white\"}, \"yaxis\": {\"backgroundcolor\": \"#E5ECF6\", \"gridcolor\": \"white\", \"gridwidth\": 2, \"linecolor\": \"white\", \"showbackground\": true, \"ticks\": \"\", \"zerolinecolor\": \"white\"}, \"zaxis\": {\"backgroundcolor\": \"#E5ECF6\", \"gridcolor\": \"white\", \"gridwidth\": 2, \"linecolor\": \"white\", \"showbackground\": true, \"ticks\": \"\", \"zerolinecolor\": \"white\"}}, \"shapedefaults\": {\"line\": {\"color\": \"#2a3f5f\"}}, \"ternary\": {\"aaxis\": {\"gridcolor\": \"white\", \"linecolor\": \"white\", \"ticks\": \"\"}, \"baxis\": {\"gridcolor\": \"white\", \"linecolor\": \"white\", \"ticks\": \"\"}, \"bgcolor\": \"#E5ECF6\", \"caxis\": {\"gridcolor\": \"white\", \"linecolor\": \"white\", \"ticks\": \"\"}}, \"title\": {\"x\": 0.05}, \"xaxis\": {\"automargin\": true, \"gridcolor\": \"white\", \"linecolor\": \"white\", \"ticks\": \"\", \"title\": {\"standoff\": 15}, \"zerolinecolor\": \"white\", \"zerolinewidth\": 2}, \"yaxis\": {\"automargin\": true, \"gridcolor\": \"white\", \"linecolor\": \"white\", \"ticks\": \"\", \"title\": {\"standoff\": 15}, \"zerolinecolor\": \"white\", \"zerolinewidth\": 2}}}, \"title\": {\"text\": \"Production vs Price\"}, \"xaxis\": {\"anchor\": \"y\", \"domain\": [0.0, 1.0], \"title\": {\"text\": \"U.S. Natural Gas Marketed Production (MMcf)\"}}, \"yaxis\": {\"anchor\": \"x\", \"domain\": [0.0, 1.0], \"title\": {\"text\": \"US\"}}},                        {\"responsive\": true}                    ).then(function(){\n",
       "                            \n",
       "var gd = document.getElementById('d8ba7860-a040-4bb7-b5c4-fef5b177cf3a');\n",
       "var x = new MutationObserver(function (mutations, observer) {{\n",
       "        var display = window.getComputedStyle(gd).display;\n",
       "        if (!display || display === 'none') {{\n",
       "            console.log([gd, 'removed!']);\n",
       "            Plotly.purge(gd);\n",
       "            observer.disconnect();\n",
       "        }}\n",
       "}});\n",
       "\n",
       "// Listen for the removal of the full notebook cells\n",
       "var notebookContainer = gd.closest('#notebook-container');\n",
       "if (notebookContainer) {{\n",
       "    x.observe(notebookContainer, {childList: true});\n",
       "}}\n",
       "\n",
       "// Listen for the clearing of the current output cell\n",
       "var outputEl = gd.closest('.output');\n",
       "if (outputEl) {{\n",
       "    x.observe(outputEl, {childList: true});\n",
       "}}\n",
       "\n",
       "                        })                };                });            </script>        </div>"
      ]
     },
     "metadata": {},
     "output_type": "display_data"
    }
   ],
   "source": [
    "import plotly.express as px\n",
    "\n",
    "px.scatter(\n",
    "    combined,\n",
    "    x=\"U.S. Natural Gas Gross Withdrawals (MMcf)\",\n",
    "    y=\"US\",\n",
    ")\n",
    "px.scatter(combined, x=\"U.S. Natural Gas Marketed Production (MMcf)\", y=\"US\", color=\"US\", title=\"Production vs Price\")\n"
   ]
  },
  {
   "cell_type": "code",
   "execution_count": 42,
   "metadata": {},
   "outputs": [
    {
     "data": {
      "application/vnd.plotly.v1+json": {
       "config": {
        "plotlyServerURL": "https://plot.ly"
       },
       "data": [
        {
         "hovertemplate": "U.S. Natural Gas Underground Storage Volume (MMcf)_y=%{x}<br>US=%{marker.color}<extra></extra>",
         "legendgroup": "",
         "marker": {
          "color": [
           11.18,
           11.22,
           11.79,
           11.5,
           11.51,
           11.81,
           11.63,
           11.19,
           10.92,
           10.93,
           11.23,
           11.24,
           11.2,
           11.49,
           12.03,
           12.63,
           13.51,
           14.68,
           15.64,
           14.19,
           13.12,
           12.06,
           11.72,
           11.61,
           11.28,
           10.98,
           10.46,
           9.7,
           9.42,
           9.53,
           9.74,
           9.52,
           9.35,
           8.93,
           9.45,
           9.1,
           9.65,
           9.71,
           9.7,
           9.57,
           9.5,
           9.72,
           10.04,
           9.94,
           9.56,
           9.27,
           8.86,
           8.82,
           8.74,
           8.88,
           8.89,
           9.02,
           9.35,
           9.57,
           9.58,
           9.77,
           9.46,
           8.94,
           8.62,
           8.3,
           8.04,
           7.76,
           8.16,
           8.04,
           8.14,
           8.44,
           8.52,
           8.71,
           8.35,
           8.07,
           7.99,
           8.18
          ],
          "coloraxis": "coloraxis",
          "symbol": "circle"
         },
         "mode": "markers",
         "name": "",
         "orientation": "v",
         "showlegend": false,
         "type": "scatter",
         "x": [
          6599227,
          5867298,
          5849891,
          5968611,
          6431710,
          6813786,
          7123259,
          7250170,
          7548786,
          7803634,
          7680213,
          7113475,
          6288037,
          5686255,
          5486589,
          5658650,
          6064975,
          6407107,
          6745390,
          7093832,
          7390883,
          7634355,
          7577456,
          7072657,
          6370028,
          6000888,
          5907540,
          6165074,
          6632164,
          7028031,
          7353504,
          7626392,
          7921596,
          8091168,
          8124989,
          7406742,
          6579900,
          5960953,
          5929914,
          6289473,
          6698983,
          7026700,
          7253018,
          7442861,
          7801450,
          8155699,
          8078136,
          7412447,
          6608635,
          6024215,
          5879115,
          6092050,
          6491219,
          6831426,
          7075486,
          7319424,
          7716989,
          8105566,
          8142609,
          7763772,
          7219136,
          6758315,
          6794584,
          6936421,
          7219444,
          7453546,
          7588106,
          7753994,
          8044851,
          8294299,
          8171574,
          7785322
         ],
         "xaxis": "x",
         "y": [
          11.18,
          11.22,
          11.79,
          11.5,
          11.51,
          11.81,
          11.63,
          11.19,
          10.92,
          10.93,
          11.23,
          11.24,
          11.2,
          11.49,
          12.03,
          12.63,
          13.51,
          14.68,
          15.64,
          14.19,
          13.12,
          12.06,
          11.72,
          11.61,
          11.28,
          10.98,
          10.46,
          9.7,
          9.42,
          9.53,
          9.74,
          9.52,
          9.35,
          8.93,
          9.45,
          9.1,
          9.65,
          9.71,
          9.7,
          9.57,
          9.5,
          9.72,
          10.04,
          9.94,
          9.56,
          9.27,
          8.86,
          8.82,
          8.74,
          8.88,
          8.89,
          9.02,
          9.35,
          9.57,
          9.58,
          9.77,
          9.46,
          8.94,
          8.62,
          8.3,
          8.04,
          7.76,
          8.16,
          8.04,
          8.14,
          8.44,
          8.52,
          8.71,
          8.35,
          8.07,
          7.99,
          8.18
         ],
         "yaxis": "y"
        }
       ],
       "layout": {
        "autosize": true,
        "coloraxis": {
         "colorbar": {
          "title": {
           "text": "US"
          }
         },
         "colorscale": [
          [
           0,
           "#0d0887"
          ],
          [
           0.1111111111111111,
           "#46039f"
          ],
          [
           0.2222222222222222,
           "#7201a8"
          ],
          [
           0.3333333333333333,
           "#9c179e"
          ],
          [
           0.4444444444444444,
           "#bd3786"
          ],
          [
           0.5555555555555556,
           "#d8576b"
          ],
          [
           0.6666666666666666,
           "#ed7953"
          ],
          [
           0.7777777777777778,
           "#fb9f3a"
          ],
          [
           0.8888888888888888,
           "#fdca26"
          ],
          [
           1,
           "#f0f921"
          ]
         ]
        },
        "legend": {
         "tracegroupgap": 0
        },
        "template": {
         "data": {
          "bar": [
           {
            "error_x": {
             "color": "#2a3f5f"
            },
            "error_y": {
             "color": "#2a3f5f"
            },
            "marker": {
             "line": {
              "color": "#E5ECF6",
              "width": 0.5
             }
            },
            "type": "bar"
           }
          ],
          "barpolar": [
           {
            "marker": {
             "line": {
              "color": "#E5ECF6",
              "width": 0.5
             }
            },
            "type": "barpolar"
           }
          ],
          "carpet": [
           {
            "aaxis": {
             "endlinecolor": "#2a3f5f",
             "gridcolor": "white",
             "linecolor": "white",
             "minorgridcolor": "white",
             "startlinecolor": "#2a3f5f"
            },
            "baxis": {
             "endlinecolor": "#2a3f5f",
             "gridcolor": "white",
             "linecolor": "white",
             "minorgridcolor": "white",
             "startlinecolor": "#2a3f5f"
            },
            "type": "carpet"
           }
          ],
          "choropleth": [
           {
            "colorbar": {
             "outlinewidth": 0,
             "ticks": ""
            },
            "type": "choropleth"
           }
          ],
          "contour": [
           {
            "colorbar": {
             "outlinewidth": 0,
             "ticks": ""
            },
            "colorscale": [
             [
              0,
              "#0d0887"
             ],
             [
              0.1111111111111111,
              "#46039f"
             ],
             [
              0.2222222222222222,
              "#7201a8"
             ],
             [
              0.3333333333333333,
              "#9c179e"
             ],
             [
              0.4444444444444444,
              "#bd3786"
             ],
             [
              0.5555555555555556,
              "#d8576b"
             ],
             [
              0.6666666666666666,
              "#ed7953"
             ],
             [
              0.7777777777777778,
              "#fb9f3a"
             ],
             [
              0.8888888888888888,
              "#fdca26"
             ],
             [
              1,
              "#f0f921"
             ]
            ],
            "type": "contour"
           }
          ],
          "contourcarpet": [
           {
            "colorbar": {
             "outlinewidth": 0,
             "ticks": ""
            },
            "type": "contourcarpet"
           }
          ],
          "heatmap": [
           {
            "colorbar": {
             "outlinewidth": 0,
             "ticks": ""
            },
            "colorscale": [
             [
              0,
              "#0d0887"
             ],
             [
              0.1111111111111111,
              "#46039f"
             ],
             [
              0.2222222222222222,
              "#7201a8"
             ],
             [
              0.3333333333333333,
              "#9c179e"
             ],
             [
              0.4444444444444444,
              "#bd3786"
             ],
             [
              0.5555555555555556,
              "#d8576b"
             ],
             [
              0.6666666666666666,
              "#ed7953"
             ],
             [
              0.7777777777777778,
              "#fb9f3a"
             ],
             [
              0.8888888888888888,
              "#fdca26"
             ],
             [
              1,
              "#f0f921"
             ]
            ],
            "type": "heatmap"
           }
          ],
          "heatmapgl": [
           {
            "colorbar": {
             "outlinewidth": 0,
             "ticks": ""
            },
            "colorscale": [
             [
              0,
              "#0d0887"
             ],
             [
              0.1111111111111111,
              "#46039f"
             ],
             [
              0.2222222222222222,
              "#7201a8"
             ],
             [
              0.3333333333333333,
              "#9c179e"
             ],
             [
              0.4444444444444444,
              "#bd3786"
             ],
             [
              0.5555555555555556,
              "#d8576b"
             ],
             [
              0.6666666666666666,
              "#ed7953"
             ],
             [
              0.7777777777777778,
              "#fb9f3a"
             ],
             [
              0.8888888888888888,
              "#fdca26"
             ],
             [
              1,
              "#f0f921"
             ]
            ],
            "type": "heatmapgl"
           }
          ],
          "histogram": [
           {
            "marker": {
             "colorbar": {
              "outlinewidth": 0,
              "ticks": ""
             }
            },
            "type": "histogram"
           }
          ],
          "histogram2d": [
           {
            "colorbar": {
             "outlinewidth": 0,
             "ticks": ""
            },
            "colorscale": [
             [
              0,
              "#0d0887"
             ],
             [
              0.1111111111111111,
              "#46039f"
             ],
             [
              0.2222222222222222,
              "#7201a8"
             ],
             [
              0.3333333333333333,
              "#9c179e"
             ],
             [
              0.4444444444444444,
              "#bd3786"
             ],
             [
              0.5555555555555556,
              "#d8576b"
             ],
             [
              0.6666666666666666,
              "#ed7953"
             ],
             [
              0.7777777777777778,
              "#fb9f3a"
             ],
             [
              0.8888888888888888,
              "#fdca26"
             ],
             [
              1,
              "#f0f921"
             ]
            ],
            "type": "histogram2d"
           }
          ],
          "histogram2dcontour": [
           {
            "colorbar": {
             "outlinewidth": 0,
             "ticks": ""
            },
            "colorscale": [
             [
              0,
              "#0d0887"
             ],
             [
              0.1111111111111111,
              "#46039f"
             ],
             [
              0.2222222222222222,
              "#7201a8"
             ],
             [
              0.3333333333333333,
              "#9c179e"
             ],
             [
              0.4444444444444444,
              "#bd3786"
             ],
             [
              0.5555555555555556,
              "#d8576b"
             ],
             [
              0.6666666666666666,
              "#ed7953"
             ],
             [
              0.7777777777777778,
              "#fb9f3a"
             ],
             [
              0.8888888888888888,
              "#fdca26"
             ],
             [
              1,
              "#f0f921"
             ]
            ],
            "type": "histogram2dcontour"
           }
          ],
          "mesh3d": [
           {
            "colorbar": {
             "outlinewidth": 0,
             "ticks": ""
            },
            "type": "mesh3d"
           }
          ],
          "parcoords": [
           {
            "line": {
             "colorbar": {
              "outlinewidth": 0,
              "ticks": ""
             }
            },
            "type": "parcoords"
           }
          ],
          "pie": [
           {
            "automargin": true,
            "type": "pie"
           }
          ],
          "scatter": [
           {
            "marker": {
             "colorbar": {
              "outlinewidth": 0,
              "ticks": ""
             }
            },
            "type": "scatter"
           }
          ],
          "scatter3d": [
           {
            "line": {
             "colorbar": {
              "outlinewidth": 0,
              "ticks": ""
             }
            },
            "marker": {
             "colorbar": {
              "outlinewidth": 0,
              "ticks": ""
             }
            },
            "type": "scatter3d"
           }
          ],
          "scattercarpet": [
           {
            "marker": {
             "colorbar": {
              "outlinewidth": 0,
              "ticks": ""
             }
            },
            "type": "scattercarpet"
           }
          ],
          "scattergeo": [
           {
            "marker": {
             "colorbar": {
              "outlinewidth": 0,
              "ticks": ""
             }
            },
            "type": "scattergeo"
           }
          ],
          "scattergl": [
           {
            "marker": {
             "colorbar": {
              "outlinewidth": 0,
              "ticks": ""
             }
            },
            "type": "scattergl"
           }
          ],
          "scattermapbox": [
           {
            "marker": {
             "colorbar": {
              "outlinewidth": 0,
              "ticks": ""
             }
            },
            "type": "scattermapbox"
           }
          ],
          "scatterpolar": [
           {
            "marker": {
             "colorbar": {
              "outlinewidth": 0,
              "ticks": ""
             }
            },
            "type": "scatterpolar"
           }
          ],
          "scatterpolargl": [
           {
            "marker": {
             "colorbar": {
              "outlinewidth": 0,
              "ticks": ""
             }
            },
            "type": "scatterpolargl"
           }
          ],
          "scatterternary": [
           {
            "marker": {
             "colorbar": {
              "outlinewidth": 0,
              "ticks": ""
             }
            },
            "type": "scatterternary"
           }
          ],
          "surface": [
           {
            "colorbar": {
             "outlinewidth": 0,
             "ticks": ""
            },
            "colorscale": [
             [
              0,
              "#0d0887"
             ],
             [
              0.1111111111111111,
              "#46039f"
             ],
             [
              0.2222222222222222,
              "#7201a8"
             ],
             [
              0.3333333333333333,
              "#9c179e"
             ],
             [
              0.4444444444444444,
              "#bd3786"
             ],
             [
              0.5555555555555556,
              "#d8576b"
             ],
             [
              0.6666666666666666,
              "#ed7953"
             ],
             [
              0.7777777777777778,
              "#fb9f3a"
             ],
             [
              0.8888888888888888,
              "#fdca26"
             ],
             [
              1,
              "#f0f921"
             ]
            ],
            "type": "surface"
           }
          ],
          "table": [
           {
            "cells": {
             "fill": {
              "color": "#EBF0F8"
             },
             "line": {
              "color": "white"
             }
            },
            "header": {
             "fill": {
              "color": "#C8D4E3"
             },
             "line": {
              "color": "white"
             }
            },
            "type": "table"
           }
          ]
         },
         "layout": {
          "annotationdefaults": {
           "arrowcolor": "#2a3f5f",
           "arrowhead": 0,
           "arrowwidth": 1
          },
          "autotypenumbers": "strict",
          "coloraxis": {
           "colorbar": {
            "outlinewidth": 0,
            "ticks": ""
           }
          },
          "colorscale": {
           "diverging": [
            [
             0,
             "#8e0152"
            ],
            [
             0.1,
             "#c51b7d"
            ],
            [
             0.2,
             "#de77ae"
            ],
            [
             0.3,
             "#f1b6da"
            ],
            [
             0.4,
             "#fde0ef"
            ],
            [
             0.5,
             "#f7f7f7"
            ],
            [
             0.6,
             "#e6f5d0"
            ],
            [
             0.7,
             "#b8e186"
            ],
            [
             0.8,
             "#7fbc41"
            ],
            [
             0.9,
             "#4d9221"
            ],
            [
             1,
             "#276419"
            ]
           ],
           "sequential": [
            [
             0,
             "#0d0887"
            ],
            [
             0.1111111111111111,
             "#46039f"
            ],
            [
             0.2222222222222222,
             "#7201a8"
            ],
            [
             0.3333333333333333,
             "#9c179e"
            ],
            [
             0.4444444444444444,
             "#bd3786"
            ],
            [
             0.5555555555555556,
             "#d8576b"
            ],
            [
             0.6666666666666666,
             "#ed7953"
            ],
            [
             0.7777777777777778,
             "#fb9f3a"
            ],
            [
             0.8888888888888888,
             "#fdca26"
            ],
            [
             1,
             "#f0f921"
            ]
           ],
           "sequentialminus": [
            [
             0,
             "#0d0887"
            ],
            [
             0.1111111111111111,
             "#46039f"
            ],
            [
             0.2222222222222222,
             "#7201a8"
            ],
            [
             0.3333333333333333,
             "#9c179e"
            ],
            [
             0.4444444444444444,
             "#bd3786"
            ],
            [
             0.5555555555555556,
             "#d8576b"
            ],
            [
             0.6666666666666666,
             "#ed7953"
            ],
            [
             0.7777777777777778,
             "#fb9f3a"
            ],
            [
             0.8888888888888888,
             "#fdca26"
            ],
            [
             1,
             "#f0f921"
            ]
           ]
          },
          "colorway": [
           "#636efa",
           "#EF553B",
           "#00cc96",
           "#ab63fa",
           "#FFA15A",
           "#19d3f3",
           "#FF6692",
           "#B6E880",
           "#FF97FF",
           "#FECB52"
          ],
          "font": {
           "color": "#2a3f5f"
          },
          "geo": {
           "bgcolor": "white",
           "lakecolor": "white",
           "landcolor": "#E5ECF6",
           "showlakes": true,
           "showland": true,
           "subunitcolor": "white"
          },
          "hoverlabel": {
           "align": "left"
          },
          "hovermode": "closest",
          "mapbox": {
           "style": "light"
          },
          "paper_bgcolor": "white",
          "plot_bgcolor": "#E5ECF6",
          "polar": {
           "angularaxis": {
            "gridcolor": "white",
            "linecolor": "white",
            "ticks": ""
           },
           "bgcolor": "#E5ECF6",
           "radialaxis": {
            "gridcolor": "white",
            "linecolor": "white",
            "ticks": ""
           }
          },
          "scene": {
           "xaxis": {
            "backgroundcolor": "#E5ECF6",
            "gridcolor": "white",
            "gridwidth": 2,
            "linecolor": "white",
            "showbackground": true,
            "ticks": "",
            "zerolinecolor": "white"
           },
           "yaxis": {
            "backgroundcolor": "#E5ECF6",
            "gridcolor": "white",
            "gridwidth": 2,
            "linecolor": "white",
            "showbackground": true,
            "ticks": "",
            "zerolinecolor": "white"
           },
           "zaxis": {
            "backgroundcolor": "#E5ECF6",
            "gridcolor": "white",
            "gridwidth": 2,
            "linecolor": "white",
            "showbackground": true,
            "ticks": "",
            "zerolinecolor": "white"
           }
          },
          "shapedefaults": {
           "line": {
            "color": "#2a3f5f"
           }
          },
          "ternary": {
           "aaxis": {
            "gridcolor": "white",
            "linecolor": "white",
            "ticks": ""
           },
           "baxis": {
            "gridcolor": "white",
            "linecolor": "white",
            "ticks": ""
           },
           "bgcolor": "#E5ECF6",
           "caxis": {
            "gridcolor": "white",
            "linecolor": "white",
            "ticks": ""
           }
          },
          "title": {
           "x": 0.05
          },
          "xaxis": {
           "automargin": true,
           "gridcolor": "white",
           "linecolor": "white",
           "ticks": "",
           "title": {
            "standoff": 15
           },
           "zerolinecolor": "white",
           "zerolinewidth": 2
          },
          "yaxis": {
           "automargin": true,
           "gridcolor": "white",
           "linecolor": "white",
           "ticks": "",
           "title": {
            "standoff": 15
           },
           "zerolinecolor": "white",
           "zerolinewidth": 2
          }
         }
        },
        "title": {
         "text": "Storage Volume vs Price"
        },
        "xaxis": {
         "anchor": "y",
         "autorange": true,
         "domain": [
          0,
          1
         ],
         "range": [
          5307706.712859659,
          8473181.28714034
         ],
         "title": {
          "text": "U.S. Natural Gas Underground Storage Volume (MMcf)_y"
         },
         "type": "linear"
        },
        "yaxis": {
         "anchor": "x",
         "autorange": true,
         "domain": [
          0,
          1
         ],
         "range": [
          7.1828025477707005,
          16.2171974522293
         ],
         "title": {
          "text": "US"
         },
         "type": "linear"
        }
       }
      },
      "image/png": "[encoded data removed]",
      "text/html": [
       "<div>                            <div id=\"38379324-53e1-466c-9c07-2fb3941be733\" class=\"plotly-graph-div\" style=\"height:525px; width:100%;\"></div>            <script type=\"text/javascript\">                require([\"plotly\"], function(Plotly) {                    window.PLOTLYENV=window.PLOTLYENV || {};                                    if (document.getElementById(\"38379324-53e1-466c-9c07-2fb3941be733\")) {                    Plotly.newPlot(                        \"38379324-53e1-466c-9c07-2fb3941be733\",                        [{\"hovertemplate\": \"U.S. Natural Gas Underground Storage Volume (MMcf)_y=%{x}<br>US=%{marker.color}<extra></extra>\", \"legendgroup\": \"\", \"marker\": {\"color\": [11.18, 11.22, 11.79, 11.5, 11.51, 11.81, 11.63, 11.19, 10.92, 10.93, 11.23, 11.24, 11.2, 11.49, 12.03, 12.63, 13.51, 14.68, 15.64, 14.19, 13.12, 12.06, 11.72, 11.61, 11.28, 10.98, 10.46, 9.7, 9.42, 9.53, 9.74, 9.52, 9.35, 8.93, 9.45, 9.1, 9.65, 9.71, 9.7, 9.57, 9.5, 9.72, 10.04, 9.94, 9.56, 9.27, 8.86, 8.82, 8.74, 8.88, 8.89, 9.02, 9.35, 9.57, 9.58, 9.77, 9.46, 8.94, 8.62, 8.3, 8.04, 7.76, 8.16, 8.04, 8.14, 8.44, 8.52, 8.71, 8.35, 8.07, 7.99, 8.18], \"coloraxis\": \"coloraxis\", \"symbol\": \"circle\"}, \"mode\": \"markers\", \"name\": \"\", \"orientation\": \"v\", \"showlegend\": false, \"type\": \"scatter\", \"x\": [6599227.0, 5867298.0, 5849891.0, 5968611.0, 6431710.0, 6813786.0, 7123259.0, 7250170.0, 7548786.0, 7803634.0, 7680213.0, 7113475.0, 6288037.0, 5686255.0, 5486589.0, 5658650.0, 6064975.0, 6407107.0, 6745390.0, 7093832.0, 7390883.0, 7634355.0, 7577456.0, 7072657.0, 6370028.0, 6000888.0, 5907540.0, 6165074.0, 6632164.0, 7028031.0, 7353504.0, 7626392.0, 7921596.0, 8091168.0, 8124989.0, 7406742.0, 6579900.0, 5960953.0, 5929914.0, 6289473.0, 6698983.0, 7026700.0, 7253018.0, 7442861.0, 7801450.0, 8155699.0, 8078136.0, 7412447.0, 6608635.0, 6024215.0, 5879115.0, 6092050.0, 6491219.0, 6831426.0, 7075486.0, 7319424.0, 7716989.0, 8105566.0, 8142609.0, 7763772.0, 7219136.0, 6758315.0, 6794584.0, 6936421.0, 7219444.0, 7453546.0, 7588106.0, 7753994.0, 8044851.0, 8294299.0, 8171574.0, 7785322.0], \"xaxis\": \"x\", \"y\": [11.18, 11.22, 11.79, 11.5, 11.51, 11.81, 11.63, 11.19, 10.92, 10.93, 11.23, 11.24, 11.2, 11.49, 12.03, 12.63, 13.51, 14.68, 15.64, 14.19, 13.12, 12.06, 11.72, 11.61, 11.28, 10.98, 10.46, 9.7, 9.42, 9.53, 9.74, 9.52, 9.35, 8.93, 9.45, 9.1, 9.65, 9.71, 9.7, 9.57, 9.5, 9.72, 10.04, 9.94, 9.56, 9.27, 8.86, 8.82, 8.74, 8.88, 8.89, 9.02, 9.35, 9.57, 9.58, 9.77, 9.46, 8.94, 8.62, 8.3, 8.04, 7.76, 8.16, 8.04, 8.14, 8.44, 8.52, 8.71, 8.35, 8.07, 7.99, 8.18], \"yaxis\": \"y\"}],                        {\"coloraxis\": {\"colorbar\": {\"title\": {\"text\": \"US\"}}, \"colorscale\": [[0.0, \"#0d0887\"], [0.1111111111111111, \"#46039f\"], [0.2222222222222222, \"#7201a8\"], [0.3333333333333333, \"#9c179e\"], [0.4444444444444444, \"#bd3786\"], [0.5555555555555556, \"#d8576b\"], [0.6666666666666666, \"#ed7953\"], [0.7777777777777778, \"#fb9f3a\"], [0.8888888888888888, \"#fdca26\"], [1.0, \"#f0f921\"]]}, \"legend\": {\"tracegroupgap\": 0}, \"template\": {\"data\": {\"bar\": [{\"error_x\": {\"color\": \"#2a3f5f\"}, \"error_y\": {\"color\": \"#2a3f5f\"}, \"marker\": {\"line\": {\"color\": \"#E5ECF6\", \"width\": 0.5}}, \"type\": \"bar\"}], \"barpolar\": [{\"marker\": {\"line\": {\"color\": \"#E5ECF6\", \"width\": 0.5}}, \"type\": \"barpolar\"}], \"carpet\": [{\"aaxis\": {\"endlinecolor\": \"#2a3f5f\", \"gridcolor\": \"white\", \"linecolor\": \"white\", \"minorgridcolor\": \"white\", \"startlinecolor\": \"#2a3f5f\"}, \"baxis\": {\"endlinecolor\": \"#2a3f5f\", \"gridcolor\": \"white\", \"linecolor\": \"white\", \"minorgridcolor\": \"white\", \"startlinecolor\": \"#2a3f5f\"}, \"type\": \"carpet\"}], \"choropleth\": [{\"colorbar\": {\"outlinewidth\": 0, \"ticks\": \"\"}, \"type\": \"choropleth\"}], \"contour\": [{\"colorbar\": {\"outlinewidth\": 0, \"ticks\": \"\"}, \"colorscale\": [[0.0, \"#0d0887\"], [0.1111111111111111, \"#46039f\"], [0.2222222222222222, \"#7201a8\"], [0.3333333333333333, \"#9c179e\"], [0.4444444444444444, \"#bd3786\"], [0.5555555555555556, \"#d8576b\"], [0.6666666666666666, \"#ed7953\"], [0.7777777777777778, \"#fb9f3a\"], [0.8888888888888888, \"#fdca26\"], [1.0, \"#f0f921\"]], \"type\": \"contour\"}], \"contourcarpet\": [{\"colorbar\": {\"outlinewidth\": 0, \"ticks\": \"\"}, \"type\": \"contourcarpet\"}], \"heatmap\": [{\"colorbar\": {\"outlinewidth\": 0, \"ticks\": \"\"}, \"colorscale\": [[0.0, \"#0d0887\"], [0.1111111111111111, \"#46039f\"], [0.2222222222222222, \"#7201a8\"], [0.3333333333333333, \"#9c179e\"], [0.4444444444444444, \"#bd3786\"], [0.5555555555555556, \"#d8576b\"], [0.6666666666666666, \"#ed7953\"], [0.7777777777777778, \"#fb9f3a\"], [0.8888888888888888, \"#fdca26\"], [1.0, \"#f0f921\"]], \"type\": \"heatmap\"}], \"heatmapgl\": [{\"colorbar\": {\"outlinewidth\": 0, \"ticks\": \"\"}, \"colorscale\": [[0.0, \"#0d0887\"], [0.1111111111111111, \"#46039f\"], [0.2222222222222222, \"#7201a8\"], [0.3333333333333333, \"#9c179e\"], [0.4444444444444444, \"#bd3786\"], [0.5555555555555556, \"#d8576b\"], [0.6666666666666666, \"#ed7953\"], [0.7777777777777778, \"#fb9f3a\"], [0.8888888888888888, \"#fdca26\"], [1.0, \"#f0f921\"]], \"type\": \"heatmapgl\"}], \"histogram\": [{\"marker\": {\"colorbar\": {\"outlinewidth\": 0, \"ticks\": \"\"}}, \"type\": \"histogram\"}], \"histogram2d\": [{\"colorbar\": {\"outlinewidth\": 0, \"ticks\": \"\"}, \"colorscale\": [[0.0, \"#0d0887\"], [0.1111111111111111, \"#46039f\"], [0.2222222222222222, \"#7201a8\"], [0.3333333333333333, \"#9c179e\"], [0.4444444444444444, \"#bd3786\"], [0.5555555555555556, \"#d8576b\"], [0.6666666666666666, \"#ed7953\"], [0.7777777777777778, \"#fb9f3a\"], [0.8888888888888888, \"#fdca26\"], [1.0, \"#f0f921\"]], \"type\": \"histogram2d\"}], \"histogram2dcontour\": [{\"colorbar\": {\"outlinewidth\": 0, \"ticks\": \"\"}, \"colorscale\": [[0.0, \"#0d0887\"], [0.1111111111111111, \"#46039f\"], [0.2222222222222222, \"#7201a8\"], [0.3333333333333333, \"#9c179e\"], [0.4444444444444444, \"#bd3786\"], [0.5555555555555556, \"#d8576b\"], [0.6666666666666666, \"#ed7953\"], [0.7777777777777778, \"#fb9f3a\"], [0.8888888888888888, \"#fdca26\"], [1.0, \"#f0f921\"]], \"type\": \"histogram2dcontour\"}], \"mesh3d\": [{\"colorbar\": {\"outlinewidth\": 0, \"ticks\": \"\"}, \"type\": \"mesh3d\"}], \"parcoords\": [{\"line\": {\"colorbar\": {\"outlinewidth\": 0, \"ticks\": \"\"}}, \"type\": \"parcoords\"}], \"pie\": [{\"automargin\": true, \"type\": \"pie\"}], \"scatter\": [{\"marker\": {\"colorbar\": {\"outlinewidth\": 0, \"ticks\": \"\"}}, \"type\": \"scatter\"}], \"scatter3d\": [{\"line\": {\"colorbar\": {\"outlinewidth\": 0, \"ticks\": \"\"}}, \"marker\": {\"colorbar\": {\"outlinewidth\": 0, \"ticks\": \"\"}}, \"type\": \"scatter3d\"}], \"scattercarpet\": [{\"marker\": {\"colorbar\": {\"outlinewidth\": 0, \"ticks\": \"\"}}, \"type\": \"scattercarpet\"}], \"scattergeo\": [{\"marker\": {\"colorbar\": {\"outlinewidth\": 0, \"ticks\": \"\"}}, \"type\": \"scattergeo\"}], \"scattergl\": [{\"marker\": {\"colorbar\": {\"outlinewidth\": 0, \"ticks\": \"\"}}, \"type\": \"scattergl\"}], \"scattermapbox\": [{\"marker\": {\"colorbar\": {\"outlinewidth\": 0, \"ticks\": \"\"}}, \"type\": \"scattermapbox\"}], \"scatterpolar\": [{\"marker\": {\"colorbar\": {\"outlinewidth\": 0, \"ticks\": \"\"}}, \"type\": \"scatterpolar\"}], \"scatterpolargl\": [{\"marker\": {\"colorbar\": {\"outlinewidth\": 0, \"ticks\": \"\"}}, \"type\": \"scatterpolargl\"}], \"scatterternary\": [{\"marker\": {\"colorbar\": {\"outlinewidth\": 0, \"ticks\": \"\"}}, \"type\": \"scatterternary\"}], \"surface\": [{\"colorbar\": {\"outlinewidth\": 0, \"ticks\": \"\"}, \"colorscale\": [[0.0, \"#0d0887\"], [0.1111111111111111, \"#46039f\"], [0.2222222222222222, \"#7201a8\"], [0.3333333333333333, \"#9c179e\"], [0.4444444444444444, \"#bd3786\"], [0.5555555555555556, \"#d8576b\"], [0.6666666666666666, \"#ed7953\"], [0.7777777777777778, \"#fb9f3a\"], [0.8888888888888888, \"#fdca26\"], [1.0, \"#f0f921\"]], \"type\": \"surface\"}], \"table\": [{\"cells\": {\"fill\": {\"color\": \"#EBF0F8\"}, \"line\": {\"color\": \"white\"}}, \"header\": {\"fill\": {\"color\": \"#C8D4E3\"}, \"line\": {\"color\": \"white\"}}, \"type\": \"table\"}]}, \"layout\": {\"annotationdefaults\": {\"arrowcolor\": \"#2a3f5f\", \"arrowhead\": 0, \"arrowwidth\": 1}, \"autotypenumbers\": \"strict\", \"coloraxis\": {\"colorbar\": {\"outlinewidth\": 0, \"ticks\": \"\"}}, \"colorscale\": {\"diverging\": [[0, \"#8e0152\"], [0.1, \"#c51b7d\"], [0.2, \"#de77ae\"], [0.3, \"#f1b6da\"], [0.4, \"#fde0ef\"], [0.5, \"#f7f7f7\"], [0.6, \"#e6f5d0\"], [0.7, \"#b8e186\"], [0.8, \"#7fbc41\"], [0.9, \"#4d9221\"], [1, \"#276419\"]], \"sequential\": [[0.0, \"#0d0887\"], [0.1111111111111111, \"#46039f\"], [0.2222222222222222, \"#7201a8\"], [0.3333333333333333, \"#9c179e\"], [0.4444444444444444, \"#bd3786\"], [0.5555555555555556, \"#d8576b\"], [0.6666666666666666, \"#ed7953\"], [0.7777777777777778, \"#fb9f3a\"], [0.8888888888888888, \"#fdca26\"], [1.0, \"#f0f921\"]], \"sequentialminus\": [[0.0, \"#0d0887\"], [0.1111111111111111, \"#46039f\"], [0.2222222222222222, \"#7201a8\"], [0.3333333333333333, \"#9c179e\"], [0.4444444444444444, \"#bd3786\"], [0.5555555555555556, \"#d8576b\"], [0.6666666666666666, \"#ed7953\"], [0.7777777777777778, \"#fb9f3a\"], [0.8888888888888888, \"#fdca26\"], [1.0, \"#f0f921\"]]}, \"colorway\": [\"#636efa\", \"#EF553B\", \"#00cc96\", \"#ab63fa\", \"#FFA15A\", \"#19d3f3\", \"#FF6692\", \"#B6E880\", \"#FF97FF\", \"#FECB52\"], \"font\": {\"color\": \"#2a3f5f\"}, \"geo\": {\"bgcolor\": \"white\", \"lakecolor\": \"white\", \"landcolor\": \"#E5ECF6\", \"showlakes\": true, \"showland\": true, \"subunitcolor\": \"white\"}, \"hoverlabel\": {\"align\": \"left\"}, \"hovermode\": \"closest\", \"mapbox\": {\"style\": \"light\"}, \"paper_bgcolor\": \"white\", \"plot_bgcolor\": \"#E5ECF6\", \"polar\": {\"angularaxis\": {\"gridcolor\": \"white\", \"linecolor\": \"white\", \"ticks\": \"\"}, \"bgcolor\": \"#E5ECF6\", \"radialaxis\": {\"gridcolor\": \"white\", \"linecolor\": \"white\", \"ticks\": \"\"}}, \"scene\": {\"xaxis\": {\"backgroundcolor\": \"#E5ECF6\", \"gridcolor\": \"white\", \"gridwidth\": 2, \"linecolor\": \"white\", \"showbackground\": true, \"ticks\": \"\", \"zerolinecolor\": \"white\"}, \"yaxis\": {\"backgroundcolor\": \"#E5ECF6\", \"gridcolor\": \"white\", \"gridwidth\": 2, \"linecolor\": \"white\", \"showbackground\": true, \"ticks\": \"\", \"zerolinecolor\": \"white\"}, \"zaxis\": {\"backgroundcolor\": \"#E5ECF6\", \"gridcolor\": \"white\", \"gridwidth\": 2, \"linecolor\": \"white\", \"showbackground\": true, \"ticks\": \"\", \"zerolinecolor\": \"white\"}}, \"shapedefaults\": {\"line\": {\"color\": \"#2a3f5f\"}}, \"ternary\": {\"aaxis\": {\"gridcolor\": \"white\", \"linecolor\": \"white\", \"ticks\": \"\"}, \"baxis\": {\"gridcolor\": \"white\", \"linecolor\": \"white\", \"ticks\": \"\"}, \"bgcolor\": \"#E5ECF6\", \"caxis\": {\"gridcolor\": \"white\", \"linecolor\": \"white\", \"ticks\": \"\"}}, \"title\": {\"x\": 0.05}, \"xaxis\": {\"automargin\": true, \"gridcolor\": \"white\", \"linecolor\": \"white\", \"ticks\": \"\", \"title\": {\"standoff\": 15}, \"zerolinecolor\": \"white\", \"zerolinewidth\": 2}, \"yaxis\": {\"automargin\": true, \"gridcolor\": \"white\", \"linecolor\": \"white\", \"ticks\": \"\", \"title\": {\"standoff\": 15}, \"zerolinecolor\": \"white\", \"zerolinewidth\": 2}}}, \"title\": {\"text\": \"Storage Volume vs Price\"}, \"xaxis\": {\"anchor\": \"y\", \"domain\": [0.0, 1.0], \"title\": {\"text\": \"U.S. Natural Gas Underground Storage Volume (MMcf)_y\"}}, \"yaxis\": {\"anchor\": \"x\", \"domain\": [0.0, 1.0], \"title\": {\"text\": \"US\"}}},                        {\"responsive\": true}                    ).then(function(){\n",
       "                            \n",
       "var gd = document.getElementById('38379324-53e1-466c-9c07-2fb3941be733');\n",
       "var x = new MutationObserver(function (mutations, observer) {{\n",
       "        var display = window.getComputedStyle(gd).display;\n",
       "        if (!display || display === 'none') {{\n",
       "            console.log([gd, 'removed!']);\n",
       "            Plotly.purge(gd);\n",
       "            observer.disconnect();\n",
       "        }}\n",
       "}});\n",
       "\n",
       "// Listen for the removal of the full notebook cells\n",
       "var notebookContainer = gd.closest('#notebook-container');\n",
       "if (notebookContainer) {{\n",
       "    x.observe(notebookContainer, {childList: true});\n",
       "}}\n",
       "\n",
       "// Listen for the clearing of the current output cell\n",
       "var outputEl = gd.closest('.output');\n",
       "if (outputEl) {{\n",
       "    x.observe(outputEl, {childList: true});\n",
       "}}\n",
       "\n",
       "                        })                };                });            </script>        </div>"
      ]
     },
     "metadata": {},
     "output_type": "display_data"
    }
   ],
   "source": [
    "import plotly.express as px\n",
    "\n",
    "px.scatter(combined, x=\"U.S. Natural Gas Underground Storage Volume (MMcf)_y\", y=\"US\", color=\"US\", title=\"Storage Volume vs Price\")\n",
    "\n"
   ]
  },
  {
   "cell_type": "code",
   "execution_count": 43,
   "metadata": {},
   "outputs": [
    {
     "data": {
      "application/vnd.plotly.v1+json": {
       "config": {
        "plotlyServerURL": "https://plot.ly"
       },
       "data": [
        {
         "hovertemplate": "U.S. Natural Gas Total Consumption (MMcf)=%{x}<br>US=%{marker.color}<extra></extra>",
         "legendgroup": "",
         "marker": {
          "color": [
           11.18,
           11.22,
           11.79,
           11.5,
           11.51,
           11.81,
           11.63,
           11.19,
           10.92,
           10.93,
           11.23,
           11.24,
           11.2,
           11.49,
           12.03,
           12.63,
           13.51,
           14.68,
           15.64,
           14.19,
           13.12,
           12.06,
           11.72,
           11.61,
           11.28,
           10.98,
           10.46,
           9.7,
           9.42,
           9.53,
           9.74,
           9.52,
           9.35,
           8.93,
           9.45,
           9.1,
           9.65,
           9.71,
           9.7,
           9.57,
           9.5,
           9.72,
           10.04,
           9.94,
           9.56,
           9.27,
           8.86,
           8.82,
           8.74,
           8.88,
           8.89,
           9.02,
           9.35,
           9.57,
           9.58,
           9.77,
           9.46,
           8.94,
           8.62,
           8.3,
           8.04,
           7.76,
           8.16,
           8.04,
           8.14,
           8.44,
           8.52,
           8.71,
           8.35,
           8.07,
           7.99,
           8.18
          ],
          "coloraxis": "coloraxis",
          "symbol": "circle"
         },
         "mode": "markers",
         "name": "",
         "orientation": "v",
         "showlegend": false,
         "type": "scatter",
         "x": [
          2475594,
          2566993,
          2128845,
          1810079,
          1559080,
          1555226,
          1659882,
          1896137,
          1590484,
          1627791,
          1834529,
          2399154,
          2733970,
          2503421,
          2278151,
          1823867,
          1576387,
          1604249,
          1708641,
          1682924,
          1460924,
          1635827,
          1868947,
          2399702,
          2729715,
          2332539,
          2170709,
          1741293,
          1504000,
          1527833,
          1657997,
          1736462,
          1574975,
          1666520,
          1776171,
          2491864,
          2809788,
          2480950,
          2142925,
          1691813,
          1617274,
          1649515,
          1825828,
          1878926,
          1637491,
          1664938,
          1973294,
          2714054,
          2888640,
          2452403,
          2230493,
          1825023,
          1667396,
          1657334,
          1890515,
          1891783,
          1655634,
          1744454,
          2031872,
          2541878,
          2756180,
          2500654,
          2127761,
          1953071,
          1873835,
          1868356,
          2069773,
          2008815,
          1807208,
          1901084,
          2167841,
          2503907
         ],
         "xaxis": "x",
         "y": [
          11.18,
          11.22,
          11.79,
          11.5,
          11.51,
          11.81,
          11.63,
          11.19,
          10.92,
          10.93,
          11.23,
          11.24,
          11.2,
          11.49,
          12.03,
          12.63,
          13.51,
          14.68,
          15.64,
          14.19,
          13.12,
          12.06,
          11.72,
          11.61,
          11.28,
          10.98,
          10.46,
          9.7,
          9.42,
          9.53,
          9.74,
          9.52,
          9.35,
          8.93,
          9.45,
          9.1,
          9.65,
          9.71,
          9.7,
          9.57,
          9.5,
          9.72,
          10.04,
          9.94,
          9.56,
          9.27,
          8.86,
          8.82,
          8.74,
          8.88,
          8.89,
          9.02,
          9.35,
          9.57,
          9.58,
          9.77,
          9.46,
          8.94,
          8.62,
          8.3,
          8.04,
          7.76,
          8.16,
          8.04,
          8.14,
          8.44,
          8.52,
          8.71,
          8.35,
          8.07,
          7.99,
          8.18
         ],
         "yaxis": "y"
        }
       ],
       "layout": {
        "autosize": true,
        "coloraxis": {
         "colorbar": {
          "title": {
           "text": "US"
          }
         },
         "colorscale": [
          [
           0,
           "#0d0887"
          ],
          [
           0.1111111111111111,
           "#46039f"
          ],
          [
           0.2222222222222222,
           "#7201a8"
          ],
          [
           0.3333333333333333,
           "#9c179e"
          ],
          [
           0.4444444444444444,
           "#bd3786"
          ],
          [
           0.5555555555555556,
           "#d8576b"
          ],
          [
           0.6666666666666666,
           "#ed7953"
          ],
          [
           0.7777777777777778,
           "#fb9f3a"
          ],
          [
           0.8888888888888888,
           "#fdca26"
          ],
          [
           1,
           "#f0f921"
          ]
         ]
        },
        "legend": {
         "tracegroupgap": 0
        },
        "template": {
         "data": {
          "bar": [
           {
            "error_x": {
             "color": "#2a3f5f"
            },
            "error_y": {
             "color": "#2a3f5f"
            },
            "marker": {
             "line": {
              "color": "#E5ECF6",
              "width": 0.5
             }
            },
            "type": "bar"
           }
          ],
          "barpolar": [
           {
            "marker": {
             "line": {
              "color": "#E5ECF6",
              "width": 0.5
             }
            },
            "type": "barpolar"
           }
          ],
          "carpet": [
           {
            "aaxis": {
             "endlinecolor": "#2a3f5f",
             "gridcolor": "white",
             "linecolor": "white",
             "minorgridcolor": "white",
             "startlinecolor": "#2a3f5f"
            },
            "baxis": {
             "endlinecolor": "#2a3f5f",
             "gridcolor": "white",
             "linecolor": "white",
             "minorgridcolor": "white",
             "startlinecolor": "#2a3f5f"
            },
            "type": "carpet"
           }
          ],
          "choropleth": [
           {
            "colorbar": {
             "outlinewidth": 0,
             "ticks": ""
            },
            "type": "choropleth"
           }
          ],
          "contour": [
           {
            "colorbar": {
             "outlinewidth": 0,
             "ticks": ""
            },
            "colorscale": [
             [
              0,
              "#0d0887"
             ],
             [
              0.1111111111111111,
              "#46039f"
             ],
             [
              0.2222222222222222,
              "#7201a8"
             ],
             [
              0.3333333333333333,
              "#9c179e"
             ],
             [
              0.4444444444444444,
              "#bd3786"
             ],
             [
              0.5555555555555556,
              "#d8576b"
             ],
             [
              0.6666666666666666,
              "#ed7953"
             ],
             [
              0.7777777777777778,
              "#fb9f3a"
             ],
             [
              0.8888888888888888,
              "#fdca26"
             ],
             [
              1,
              "#f0f921"
             ]
            ],
            "type": "contour"
           }
          ],
          "contourcarpet": [
           {
            "colorbar": {
             "outlinewidth": 0,
             "ticks": ""
            },
            "type": "contourcarpet"
           }
          ],
          "heatmap": [
           {
            "colorbar": {
             "outlinewidth": 0,
             "ticks": ""
            },
            "colorscale": [
             [
              0,
              "#0d0887"
             ],
             [
              0.1111111111111111,
              "#46039f"
             ],
             [
              0.2222222222222222,
              "#7201a8"
             ],
             [
              0.3333333333333333,
              "#9c179e"
             ],
             [
              0.4444444444444444,
              "#bd3786"
             ],
             [
              0.5555555555555556,
              "#d8576b"
             ],
             [
              0.6666666666666666,
              "#ed7953"
             ],
             [
              0.7777777777777778,
              "#fb9f3a"
             ],
             [
              0.8888888888888888,
              "#fdca26"
             ],
             [
              1,
              "#f0f921"
             ]
            ],
            "type": "heatmap"
           }
          ],
          "heatmapgl": [
           {
            "colorbar": {
             "outlinewidth": 0,
             "ticks": ""
            },
            "colorscale": [
             [
              0,
              "#0d0887"
             ],
             [
              0.1111111111111111,
              "#46039f"
             ],
             [
              0.2222222222222222,
              "#7201a8"
             ],
             [
              0.3333333333333333,
              "#9c179e"
             ],
             [
              0.4444444444444444,
              "#bd3786"
             ],
             [
              0.5555555555555556,
              "#d8576b"
             ],
             [
              0.6666666666666666,
              "#ed7953"
             ],
             [
              0.7777777777777778,
              "#fb9f3a"
             ],
             [
              0.8888888888888888,
              "#fdca26"
             ],
             [
              1,
              "#f0f921"
             ]
            ],
            "type": "heatmapgl"
           }
          ],
          "histogram": [
           {
            "marker": {
             "colorbar": {
              "outlinewidth": 0,
              "ticks": ""
             }
            },
            "type": "histogram"
           }
          ],
          "histogram2d": [
           {
            "colorbar": {
             "outlinewidth": 0,
             "ticks": ""
            },
            "colorscale": [
             [
              0,
              "#0d0887"
             ],
             [
              0.1111111111111111,
              "#46039f"
             ],
             [
              0.2222222222222222,
              "#7201a8"
             ],
             [
              0.3333333333333333,
              "#9c179e"
             ],
             [
              0.4444444444444444,
              "#bd3786"
             ],
             [
              0.5555555555555556,
              "#d8576b"
             ],
             [
              0.6666666666666666,
              "#ed7953"
             ],
             [
              0.7777777777777778,
              "#fb9f3a"
             ],
             [
              0.8888888888888888,
              "#fdca26"
             ],
             [
              1,
              "#f0f921"
             ]
            ],
            "type": "histogram2d"
           }
          ],
          "histogram2dcontour": [
           {
            "colorbar": {
             "outlinewidth": 0,
             "ticks": ""
            },
            "colorscale": [
             [
              0,
              "#0d0887"
             ],
             [
              0.1111111111111111,
              "#46039f"
             ],
             [
              0.2222222222222222,
              "#7201a8"
             ],
             [
              0.3333333333333333,
              "#9c179e"
             ],
             [
              0.4444444444444444,
              "#bd3786"
             ],
             [
              0.5555555555555556,
              "#d8576b"
             ],
             [
              0.6666666666666666,
              "#ed7953"
             ],
             [
              0.7777777777777778,
              "#fb9f3a"
             ],
             [
              0.8888888888888888,
              "#fdca26"
             ],
             [
              1,
              "#f0f921"
             ]
            ],
            "type": "histogram2dcontour"
           }
          ],
          "mesh3d": [
           {
            "colorbar": {
             "outlinewidth": 0,
             "ticks": ""
            },
            "type": "mesh3d"
           }
          ],
          "parcoords": [
           {
            "line": {
             "colorbar": {
              "outlinewidth": 0,
              "ticks": ""
             }
            },
            "type": "parcoords"
           }
          ],
          "pie": [
           {
            "automargin": true,
            "type": "pie"
           }
          ],
          "scatter": [
           {
            "marker": {
             "colorbar": {
              "outlinewidth": 0,
              "ticks": ""
             }
            },
            "type": "scatter"
           }
          ],
          "scatter3d": [
           {
            "line": {
             "colorbar": {
              "outlinewidth": 0,
              "ticks": ""
             }
            },
            "marker": {
             "colorbar": {
              "outlinewidth": 0,
              "ticks": ""
             }
            },
            "type": "scatter3d"
           }
          ],
          "scattercarpet": [
           {
            "marker": {
             "colorbar": {
              "outlinewidth": 0,
              "ticks": ""
             }
            },
            "type": "scattercarpet"
           }
          ],
          "scattergeo": [
           {
            "marker": {
             "colorbar": {
              "outlinewidth": 0,
              "ticks": ""
             }
            },
            "type": "scattergeo"
           }
          ],
          "scattergl": [
           {
            "marker": {
             "colorbar": {
              "outlinewidth": 0,
              "ticks": ""
             }
            },
            "type": "scattergl"
           }
          ],
          "scattermapbox": [
           {
            "marker": {
             "colorbar": {
              "outlinewidth": 0,
              "ticks": ""
             }
            },
            "type": "scattermapbox"
           }
          ],
          "scatterpolar": [
           {
            "marker": {
             "colorbar": {
              "outlinewidth": 0,
              "ticks": ""
             }
            },
            "type": "scatterpolar"
           }
          ],
          "scatterpolargl": [
           {
            "marker": {
             "colorbar": {
              "outlinewidth": 0,
              "ticks": ""
             }
            },
            "type": "scatterpolargl"
           }
          ],
          "scatterternary": [
           {
            "marker": {
             "colorbar": {
              "outlinewidth": 0,
              "ticks": ""
             }
            },
            "type": "scatterternary"
           }
          ],
          "surface": [
           {
            "colorbar": {
             "outlinewidth": 0,
             "ticks": ""
            },
            "colorscale": [
             [
              0,
              "#0d0887"
             ],
             [
              0.1111111111111111,
              "#46039f"
             ],
             [
              0.2222222222222222,
              "#7201a8"
             ],
             [
              0.3333333333333333,
              "#9c179e"
             ],
             [
              0.4444444444444444,
              "#bd3786"
             ],
             [
              0.5555555555555556,
              "#d8576b"
             ],
             [
              0.6666666666666666,
              "#ed7953"
             ],
             [
              0.7777777777777778,
              "#fb9f3a"
             ],
             [
              0.8888888888888888,
              "#fdca26"
             ],
             [
              1,
              "#f0f921"
             ]
            ],
            "type": "surface"
           }
          ],
          "table": [
           {
            "cells": {
             "fill": {
              "color": "#EBF0F8"
             },
             "line": {
              "color": "white"
             }
            },
            "header": {
             "fill": {
              "color": "#C8D4E3"
             },
             "line": {
              "color": "white"
             }
            },
            "type": "table"
           }
          ]
         },
         "layout": {
          "annotationdefaults": {
           "arrowcolor": "#2a3f5f",
           "arrowhead": 0,
           "arrowwidth": 1
          },
          "autotypenumbers": "strict",
          "coloraxis": {
           "colorbar": {
            "outlinewidth": 0,
            "ticks": ""
           }
          },
          "colorscale": {
           "diverging": [
            [
             0,
             "#8e0152"
            ],
            [
             0.1,
             "#c51b7d"
            ],
            [
             0.2,
             "#de77ae"
            ],
            [
             0.3,
             "#f1b6da"
            ],
            [
             0.4,
             "#fde0ef"
            ],
            [
             0.5,
             "#f7f7f7"
            ],
            [
             0.6,
             "#e6f5d0"
            ],
            [
             0.7,
             "#b8e186"
            ],
            [
             0.8,
             "#7fbc41"
            ],
            [
             0.9,
             "#4d9221"
            ],
            [
             1,
             "#276419"
            ]
           ],
           "sequential": [
            [
             0,
             "#0d0887"
            ],
            [
             0.1111111111111111,
             "#46039f"
            ],
            [
             0.2222222222222222,
             "#7201a8"
            ],
            [
             0.3333333333333333,
             "#9c179e"
            ],
            [
             0.4444444444444444,
             "#bd3786"
            ],
            [
             0.5555555555555556,
             "#d8576b"
            ],
            [
             0.6666666666666666,
             "#ed7953"
            ],
            [
             0.7777777777777778,
             "#fb9f3a"
            ],
            [
             0.8888888888888888,
             "#fdca26"
            ],
            [
             1,
             "#f0f921"
            ]
           ],
           "sequentialminus": [
            [
             0,
             "#0d0887"
            ],
            [
             0.1111111111111111,
             "#46039f"
            ],
            [
             0.2222222222222222,
             "#7201a8"
            ],
            [
             0.3333333333333333,
             "#9c179e"
            ],
            [
             0.4444444444444444,
             "#bd3786"
            ],
            [
             0.5555555555555556,
             "#d8576b"
            ],
            [
             0.6666666666666666,
             "#ed7953"
            ],
            [
             0.7777777777777778,
             "#fb9f3a"
            ],
            [
             0.8888888888888888,
             "#fdca26"
            ],
            [
             1,
             "#f0f921"
            ]
           ]
          },
          "colorway": [
           "#636efa",
           "#EF553B",
           "#00cc96",
           "#ab63fa",
           "#FFA15A",
           "#19d3f3",
           "#FF6692",
           "#B6E880",
           "#FF97FF",
           "#FECB52"
          ],
          "font": {
           "color": "#2a3f5f"
          },
          "geo": {
           "bgcolor": "white",
           "lakecolor": "white",
           "landcolor": "#E5ECF6",
           "showlakes": true,
           "showland": true,
           "subunitcolor": "white"
          },
          "hoverlabel": {
           "align": "left"
          },
          "hovermode": "closest",
          "mapbox": {
           "style": "light"
          },
          "paper_bgcolor": "white",
          "plot_bgcolor": "#E5ECF6",
          "polar": {
           "angularaxis": {
            "gridcolor": "white",
            "linecolor": "white",
            "ticks": ""
           },
           "bgcolor": "#E5ECF6",
           "radialaxis": {
            "gridcolor": "white",
            "linecolor": "white",
            "ticks": ""
           }
          },
          "scene": {
           "xaxis": {
            "backgroundcolor": "#E5ECF6",
            "gridcolor": "white",
            "gridwidth": 2,
            "linecolor": "white",
            "showbackground": true,
            "ticks": "",
            "zerolinecolor": "white"
           },
           "yaxis": {
            "backgroundcolor": "#E5ECF6",
            "gridcolor": "white",
            "gridwidth": 2,
            "linecolor": "white",
            "showbackground": true,
            "ticks": "",
            "zerolinecolor": "white"
           },
           "zaxis": {
            "backgroundcolor": "#E5ECF6",
            "gridcolor": "white",
            "gridwidth": 2,
            "linecolor": "white",
            "showbackground": true,
            "ticks": "",
            "zerolinecolor": "white"
           }
          },
          "shapedefaults": {
           "line": {
            "color": "#2a3f5f"
           }
          },
          "ternary": {
           "aaxis": {
            "gridcolor": "white",
            "linecolor": "white",
            "ticks": ""
           },
           "baxis": {
            "gridcolor": "white",
            "linecolor": "white",
            "ticks": ""
           },
           "bgcolor": "#E5ECF6",
           "caxis": {
            "gridcolor": "white",
            "linecolor": "white",
            "ticks": ""
           }
          },
          "title": {
           "x": 0.05
          },
          "xaxis": {
           "automargin": true,
           "gridcolor": "white",
           "linecolor": "white",
           "ticks": "",
           "title": {
            "standoff": 15
           },
           "zerolinecolor": "white",
           "zerolinewidth": 2
          },
          "yaxis": {
           "automargin": true,
           "gridcolor": "white",
           "linecolor": "white",
           "ticks": "",
           "title": {
            "standoff": 15
           },
           "zerolinecolor": "white",
           "zerolinewidth": 2
          }
         }
        },
        "title": {
         "text": "Consumption vs Price"
        },
        "xaxis": {
         "anchor": "y",
         "autorange": true,
         "domain": [
          0,
          1
         ],
         "range": [
          1369962.6459189665,
          2979601.3540810333
         ],
         "title": {
          "text": "U.S. Natural Gas Total Consumption (MMcf)"
         },
         "type": "linear"
        },
        "yaxis": {
         "anchor": "x",
         "autorange": true,
         "domain": [
          0,
          1
         ],
         "range": [
          7.1828025477707005,
          16.2171974522293
         ],
         "title": {
          "text": "US"
         },
         "type": "linear"
        }
       }
      },
      "image/png": "[encoded data removed]",
      "text/html": [
       "<div>                            <div id=\"b20ce062-9e95-49ca-bf03-4b6933b0c299\" class=\"plotly-graph-div\" style=\"height:525px; width:100%;\"></div>            <script type=\"text/javascript\">                require([\"plotly\"], function(Plotly) {                    window.PLOTLYENV=window.PLOTLYENV || {};                                    if (document.getElementById(\"b20ce062-9e95-49ca-bf03-4b6933b0c299\")) {                    Plotly.newPlot(                        \"b20ce062-9e95-49ca-bf03-4b6933b0c299\",                        [{\"hovertemplate\": \"U.S. Natural Gas Total Consumption (MMcf)=%{x}<br>US=%{marker.color}<extra></extra>\", \"legendgroup\": \"\", \"marker\": {\"color\": [11.18, 11.22, 11.79, 11.5, 11.51, 11.81, 11.63, 11.19, 10.92, 10.93, 11.23, 11.24, 11.2, 11.49, 12.03, 12.63, 13.51, 14.68, 15.64, 14.19, 13.12, 12.06, 11.72, 11.61, 11.28, 10.98, 10.46, 9.7, 9.42, 9.53, 9.74, 9.52, 9.35, 8.93, 9.45, 9.1, 9.65, 9.71, 9.7, 9.57, 9.5, 9.72, 10.04, 9.94, 9.56, 9.27, 8.86, 8.82, 8.74, 8.88, 8.89, 9.02, 9.35, 9.57, 9.58, 9.77, 9.46, 8.94, 8.62, 8.3, 8.04, 7.76, 8.16, 8.04, 8.14, 8.44, 8.52, 8.71, 8.35, 8.07, 7.99, 8.18], \"coloraxis\": \"coloraxis\", \"symbol\": \"circle\"}, \"mode\": \"markers\", \"name\": \"\", \"orientation\": \"v\", \"showlegend\": false, \"type\": \"scatter\", \"x\": [2475594.0, 2566993.0, 2128845.0, 1810079.0, 1559080.0, 1555226.0, 1659882.0, 1896137.0, 1590484.0, 1627791.0, 1834529.0, 2399154.0, 2733970.0, 2503421.0, 2278151.0, 1823867.0, 1576387.0, 1604249.0, 1708641.0, 1682924.0, 1460924.0, 1635827.0, 1868947.0, 2399702.0, 2729715.0, 2332539.0, 2170709.0, 1741293.0, 1504000.0, 1527833.0, 1657997.0, 1736462.0, 1574975.0, 1666520.0, 1776171.0, 2491864.0, 2809788.0, 2480950.0, 2142925.0, 1691813.0, 1617274.0, 1649515.0, 1825828.0, 1878926.0, 1637491.0, 1664938.0, 1973294.0, 2714054.0, 2888640.0, 2452403.0, 2230493.0, 1825023.0, 1667396.0, 1657334.0, 1890515.0, 1891783.0, 1655634.0, 1744454.0, 2031872.0, 2541878.0, 2756180.0, 2500654.0, 2127761.0, 1953071.0, 1873835.0, 1868356.0, 2069773.0, 2008815.0, 1807208.0, 1901084.0, 2167841.0, 2503907.0], \"xaxis\": \"x\", \"y\": [11.18, 11.22, 11.79, 11.5, 11.51, 11.81, 11.63, 11.19, 10.92, 10.93, 11.23, 11.24, 11.2, 11.49, 12.03, 12.63, 13.51, 14.68, 15.64, 14.19, 13.12, 12.06, 11.72, 11.61, 11.28, 10.98, 10.46, 9.7, 9.42, 9.53, 9.74, 9.52, 9.35, 8.93, 9.45, 9.1, 9.65, 9.71, 9.7, 9.57, 9.5, 9.72, 10.04, 9.94, 9.56, 9.27, 8.86, 8.82, 8.74, 8.88, 8.89, 9.02, 9.35, 9.57, 9.58, 9.77, 9.46, 8.94, 8.62, 8.3, 8.04, 7.76, 8.16, 8.04, 8.14, 8.44, 8.52, 8.71, 8.35, 8.07, 7.99, 8.18], \"yaxis\": \"y\"}],                        {\"coloraxis\": {\"colorbar\": {\"title\": {\"text\": \"US\"}}, \"colorscale\": [[0.0, \"#0d0887\"], [0.1111111111111111, \"#46039f\"], [0.2222222222222222, \"#7201a8\"], [0.3333333333333333, \"#9c179e\"], [0.4444444444444444, \"#bd3786\"], [0.5555555555555556, \"#d8576b\"], [0.6666666666666666, \"#ed7953\"], [0.7777777777777778, \"#fb9f3a\"], [0.8888888888888888, \"#fdca26\"], [1.0, \"#f0f921\"]]}, \"legend\": {\"tracegroupgap\": 0}, \"template\": {\"data\": {\"bar\": [{\"error_x\": {\"color\": \"#2a3f5f\"}, \"error_y\": {\"color\": \"#2a3f5f\"}, \"marker\": {\"line\": {\"color\": \"#E5ECF6\", \"width\": 0.5}}, \"type\": \"bar\"}], \"barpolar\": [{\"marker\": {\"line\": {\"color\": \"#E5ECF6\", \"width\": 0.5}}, \"type\": \"barpolar\"}], \"carpet\": [{\"aaxis\": {\"endlinecolor\": \"#2a3f5f\", \"gridcolor\": \"white\", \"linecolor\": \"white\", \"minorgridcolor\": \"white\", \"startlinecolor\": \"#2a3f5f\"}, \"baxis\": {\"endlinecolor\": \"#2a3f5f\", \"gridcolor\": \"white\", \"linecolor\": \"white\", \"minorgridcolor\": \"white\", \"startlinecolor\": \"#2a3f5f\"}, \"type\": \"carpet\"}], \"choropleth\": [{\"colorbar\": {\"outlinewidth\": 0, \"ticks\": \"\"}, \"type\": \"choropleth\"}], \"contour\": [{\"colorbar\": {\"outlinewidth\": 0, \"ticks\": \"\"}, \"colorscale\": [[0.0, \"#0d0887\"], [0.1111111111111111, \"#46039f\"], [0.2222222222222222, \"#7201a8\"], [0.3333333333333333, \"#9c179e\"], [0.4444444444444444, \"#bd3786\"], [0.5555555555555556, \"#d8576b\"], [0.6666666666666666, \"#ed7953\"], [0.7777777777777778, \"#fb9f3a\"], [0.8888888888888888, \"#fdca26\"], [1.0, \"#f0f921\"]], \"type\": \"contour\"}], \"contourcarpet\": [{\"colorbar\": {\"outlinewidth\": 0, \"ticks\": \"\"}, \"type\": \"contourcarpet\"}], \"heatmap\": [{\"colorbar\": {\"outlinewidth\": 0, \"ticks\": \"\"}, \"colorscale\": [[0.0, \"#0d0887\"], [0.1111111111111111, \"#46039f\"], [0.2222222222222222, \"#7201a8\"], [0.3333333333333333, \"#9c179e\"], [0.4444444444444444, \"#bd3786\"], [0.5555555555555556, \"#d8576b\"], [0.6666666666666666, \"#ed7953\"], [0.7777777777777778, \"#fb9f3a\"], [0.8888888888888888, \"#fdca26\"], [1.0, \"#f0f921\"]], \"type\": \"heatmap\"}], \"heatmapgl\": [{\"colorbar\": {\"outlinewidth\": 0, \"ticks\": \"\"}, \"colorscale\": [[0.0, \"#0d0887\"], [0.1111111111111111, \"#46039f\"], [0.2222222222222222, \"#7201a8\"], [0.3333333333333333, \"#9c179e\"], [0.4444444444444444, \"#bd3786\"], [0.5555555555555556, \"#d8576b\"], [0.6666666666666666, \"#ed7953\"], [0.7777777777777778, \"#fb9f3a\"], [0.8888888888888888, \"#fdca26\"], [1.0, \"#f0f921\"]], \"type\": \"heatmapgl\"}], \"histogram\": [{\"marker\": {\"colorbar\": {\"outlinewidth\": 0, \"ticks\": \"\"}}, \"type\": \"histogram\"}], \"histogram2d\": [{\"colorbar\": {\"outlinewidth\": 0, \"ticks\": \"\"}, \"colorscale\": [[0.0, \"#0d0887\"], [0.1111111111111111, \"#46039f\"], [0.2222222222222222, \"#7201a8\"], [0.3333333333333333, \"#9c179e\"], [0.4444444444444444, \"#bd3786\"], [0.5555555555555556, \"#d8576b\"], [0.6666666666666666, \"#ed7953\"], [0.7777777777777778, \"#fb9f3a\"], [0.8888888888888888, \"#fdca26\"], [1.0, \"#f0f921\"]], \"type\": \"histogram2d\"}], \"histogram2dcontour\": [{\"colorbar\": {\"outlinewidth\": 0, \"ticks\": \"\"}, \"colorscale\": [[0.0, \"#0d0887\"], [0.1111111111111111, \"#46039f\"], [0.2222222222222222, \"#7201a8\"], [0.3333333333333333, \"#9c179e\"], [0.4444444444444444, \"#bd3786\"], [0.5555555555555556, \"#d8576b\"], [0.6666666666666666, \"#ed7953\"], [0.7777777777777778, \"#fb9f3a\"], [0.8888888888888888, \"#fdca26\"], [1.0, \"#f0f921\"]], \"type\": \"histogram2dcontour\"}], \"mesh3d\": [{\"colorbar\": {\"outlinewidth\": 0, \"ticks\": \"\"}, \"type\": \"mesh3d\"}], \"parcoords\": [{\"line\": {\"colorbar\": {\"outlinewidth\": 0, \"ticks\": \"\"}}, \"type\": \"parcoords\"}], \"pie\": [{\"automargin\": true, \"type\": \"pie\"}], \"scatter\": [{\"marker\": {\"colorbar\": {\"outlinewidth\": 0, \"ticks\": \"\"}}, \"type\": \"scatter\"}], \"scatter3d\": [{\"line\": {\"colorbar\": {\"outlinewidth\": 0, \"ticks\": \"\"}}, \"marker\": {\"colorbar\": {\"outlinewidth\": 0, \"ticks\": \"\"}}, \"type\": \"scatter3d\"}], \"scattercarpet\": [{\"marker\": {\"colorbar\": {\"outlinewidth\": 0, \"ticks\": \"\"}}, \"type\": \"scattercarpet\"}], \"scattergeo\": [{\"marker\": {\"colorbar\": {\"outlinewidth\": 0, \"ticks\": \"\"}}, \"type\": \"scattergeo\"}], \"scattergl\": [{\"marker\": {\"colorbar\": {\"outlinewidth\": 0, \"ticks\": \"\"}}, \"type\": \"scattergl\"}], \"scattermapbox\": [{\"marker\": {\"colorbar\": {\"outlinewidth\": 0, \"ticks\": \"\"}}, \"type\": \"scattermapbox\"}], \"scatterpolar\": [{\"marker\": {\"colorbar\": {\"outlinewidth\": 0, \"ticks\": \"\"}}, \"type\": \"scatterpolar\"}], \"scatterpolargl\": [{\"marker\": {\"colorbar\": {\"outlinewidth\": 0, \"ticks\": \"\"}}, \"type\": \"scatterpolargl\"}], \"scatterternary\": [{\"marker\": {\"colorbar\": {\"outlinewidth\": 0, \"ticks\": \"\"}}, \"type\": \"scatterternary\"}], \"surface\": [{\"colorbar\": {\"outlinewidth\": 0, \"ticks\": \"\"}, \"colorscale\": [[0.0, \"#0d0887\"], [0.1111111111111111, \"#46039f\"], [0.2222222222222222, \"#7201a8\"], [0.3333333333333333, \"#9c179e\"], [0.4444444444444444, \"#bd3786\"], [0.5555555555555556, \"#d8576b\"], [0.6666666666666666, \"#ed7953\"], [0.7777777777777778, \"#fb9f3a\"], [0.8888888888888888, \"#fdca26\"], [1.0, \"#f0f921\"]], \"type\": \"surface\"}], \"table\": [{\"cells\": {\"fill\": {\"color\": \"#EBF0F8\"}, \"line\": {\"color\": \"white\"}}, \"header\": {\"fill\": {\"color\": \"#C8D4E3\"}, \"line\": {\"color\": \"white\"}}, \"type\": \"table\"}]}, \"layout\": {\"annotationdefaults\": {\"arrowcolor\": \"#2a3f5f\", \"arrowhead\": 0, \"arrowwidth\": 1}, \"autotypenumbers\": \"strict\", \"coloraxis\": {\"colorbar\": {\"outlinewidth\": 0, \"ticks\": \"\"}}, \"colorscale\": {\"diverging\": [[0, \"#8e0152\"], [0.1, \"#c51b7d\"], [0.2, \"#de77ae\"], [0.3, \"#f1b6da\"], [0.4, \"#fde0ef\"], [0.5, \"#f7f7f7\"], [0.6, \"#e6f5d0\"], [0.7, \"#b8e186\"], [0.8, \"#7fbc41\"], [0.9, \"#4d9221\"], [1, \"#276419\"]], \"sequential\": [[0.0, \"#0d0887\"], [0.1111111111111111, \"#46039f\"], [0.2222222222222222, \"#7201a8\"], [0.3333333333333333, \"#9c179e\"], [0.4444444444444444, \"#bd3786\"], [0.5555555555555556, \"#d8576b\"], [0.6666666666666666, \"#ed7953\"], [0.7777777777777778, \"#fb9f3a\"], [0.8888888888888888, \"#fdca26\"], [1.0, \"#f0f921\"]], \"sequentialminus\": [[0.0, \"#0d0887\"], [0.1111111111111111, \"#46039f\"], [0.2222222222222222, \"#7201a8\"], [0.3333333333333333, \"#9c179e\"], [0.4444444444444444, \"#bd3786\"], [0.5555555555555556, \"#d8576b\"], [0.6666666666666666, \"#ed7953\"], [0.7777777777777778, \"#fb9f3a\"], [0.8888888888888888, \"#fdca26\"], [1.0, \"#f0f921\"]]}, \"colorway\": [\"#636efa\", \"#EF553B\", \"#00cc96\", \"#ab63fa\", \"#FFA15A\", \"#19d3f3\", \"#FF6692\", \"#B6E880\", \"#FF97FF\", \"#FECB52\"], \"font\": {\"color\": \"#2a3f5f\"}, \"geo\": {\"bgcolor\": \"white\", \"lakecolor\": \"white\", \"landcolor\": \"#E5ECF6\", \"showlakes\": true, \"showland\": true, \"subunitcolor\": \"white\"}, \"hoverlabel\": {\"align\": \"left\"}, \"hovermode\": \"closest\", \"mapbox\": {\"style\": \"light\"}, \"paper_bgcolor\": \"white\", \"plot_bgcolor\": \"#E5ECF6\", \"polar\": {\"angularaxis\": {\"gridcolor\": \"white\", \"linecolor\": \"white\", \"ticks\": \"\"}, \"bgcolor\": \"#E5ECF6\", \"radialaxis\": {\"gridcolor\": \"white\", \"linecolor\": \"white\", \"ticks\": \"\"}}, \"scene\": {\"xaxis\": {\"backgroundcolor\": \"#E5ECF6\", \"gridcolor\": \"white\", \"gridwidth\": 2, \"linecolor\": \"white\", \"showbackground\": true, \"ticks\": \"\", \"zerolinecolor\": \"white\"}, \"yaxis\": {\"backgroundcolor\": \"#E5ECF6\", \"gridcolor\": \"white\", \"gridwidth\": 2, \"linecolor\": \"white\", \"showbackground\": true, \"ticks\": \"\", \"zerolinecolor\": \"white\"}, \"zaxis\": {\"backgroundcolor\": \"#E5ECF6\", \"gridcolor\": \"white\", \"gridwidth\": 2, \"linecolor\": \"white\", \"showbackground\": true, \"ticks\": \"\", \"zerolinecolor\": \"white\"}}, \"shapedefaults\": {\"line\": {\"color\": \"#2a3f5f\"}}, \"ternary\": {\"aaxis\": {\"gridcolor\": \"white\", \"linecolor\": \"white\", \"ticks\": \"\"}, \"baxis\": {\"gridcolor\": \"white\", \"linecolor\": \"white\", \"ticks\": \"\"}, \"bgcolor\": \"#E5ECF6\", \"caxis\": {\"gridcolor\": \"white\", \"linecolor\": \"white\", \"ticks\": \"\"}}, \"title\": {\"x\": 0.05}, \"xaxis\": {\"automargin\": true, \"gridcolor\": \"white\", \"linecolor\": \"white\", \"ticks\": \"\", \"title\": {\"standoff\": 15}, \"zerolinecolor\": \"white\", \"zerolinewidth\": 2}, \"yaxis\": {\"automargin\": true, \"gridcolor\": \"white\", \"linecolor\": \"white\", \"ticks\": \"\", \"title\": {\"standoff\": 15}, \"zerolinecolor\": \"white\", \"zerolinewidth\": 2}}}, \"title\": {\"text\": \"Consumption vs Price\"}, \"xaxis\": {\"anchor\": \"y\", \"domain\": [0.0, 1.0], \"title\": {\"text\": \"U.S. Natural Gas Total Consumption (MMcf)\"}}, \"yaxis\": {\"anchor\": \"x\", \"domain\": [0.0, 1.0], \"title\": {\"text\": \"US\"}}},                        {\"responsive\": true}                    ).then(function(){\n",
       "                            \n",
       "var gd = document.getElementById('b20ce062-9e95-49ca-bf03-4b6933b0c299');\n",
       "var x = new MutationObserver(function (mutations, observer) {{\n",
       "        var display = window.getComputedStyle(gd).display;\n",
       "        if (!display || display === 'none') {{\n",
       "            console.log([gd, 'removed!']);\n",
       "            Plotly.purge(gd);\n",
       "            observer.disconnect();\n",
       "        }}\n",
       "}});\n",
       "\n",
       "// Listen for the removal of the full notebook cells\n",
       "var notebookContainer = gd.closest('#notebook-container');\n",
       "if (notebookContainer) {{\n",
       "    x.observe(notebookContainer, {childList: true});\n",
       "}}\n",
       "\n",
       "// Listen for the clearing of the current output cell\n",
       "var outputEl = gd.closest('.output');\n",
       "if (outputEl) {{\n",
       "    x.observe(outputEl, {childList: true});\n",
       "}}\n",
       "\n",
       "                        })                };                });            </script>        </div>"
      ]
     },
     "metadata": {},
     "output_type": "display_data"
    }
   ],
   "source": [
    "import plotly.express as px\n",
    "\n",
    "px.scatter(combined, x=\"U.S. Natural Gas Total Consumption (MMcf)\", y=\"US\", color=\"US\", title=\"Consumption vs Price\")\n",
    "\n",
    "\n"
   ]
  },
  {
   "cell_type": "code",
   "execution_count": null,
   "metadata": {},
   "outputs": [],
   "source": []
  }
 ],
 "metadata": {
  "kernelspec": {
   "display_name": "Python 3",
   "language": "python",
   "name": "python3"
  },
  "language_info": {
   "codemirror_mode": {
    "name": "ipython",
    "version": 3
   },
   "file_extension": ".py",
   "mimetype": "text/x-python",
   "name": "python",
   "nbconvert_exporter": "python",
   "pygments_lexer": "ipython3",
   "version": "3.7.9"
  }
 },
 "nbformat": 4,
 "nbformat_minor": 4
}
